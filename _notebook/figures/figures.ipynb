{
 "cells": [
  {
   "cell_type": "code",
   "execution_count": 1,
   "metadata": {},
   "outputs": [],
   "source": [
    "import numpy as np\n",
    "import matplotlib.pyplot as plt\n",
    "\n",
    "import os\n",
    "import sys\n",
    "\n",
    "module_path = os.path.abspath(os.path.join('../..'))\n",
    "\n",
    "if module_path not in sys.path :\n",
    "    sys.path.append(module_path)\n",
    "\n",
    "    \n",
    "import _ressources.chain as chain\n",
    "import _ressources.tools as tools\n",
    "import _ressources.lumenclass as lc\n",
    "\n",
    "from scipy.optimize import curve_fit\n",
    "\n",
    "main_dir = '/Users/mathieuleverge/git/chain_lumen/_data/'\n"
   ]
  },
  {
   "cell_type": "markdown",
   "metadata": {},
   "source": [
    "# 0 - Implementation\n",
    "## 0.A - Profiles\n",
    "<img src=\"pressure_profile_chain.eps\" style=\"width: 700px;\"/>"
   ]
  },
  {
   "cell_type": "markdown",
   "metadata": {},
   "source": [
    "## 0.B - Scheme"
   ]
  },
  {
   "cell_type": "markdown",
   "metadata": {},
   "source": [
    "<img src=\"algorithm.eps\" style=\"width: 500px;\"/>"
   ]
  },
  {
   "cell_type": "markdown",
   "metadata": {},
   "source": [
    "## 0.C - Integration"
   ]
  },
  {
   "cell_type": "markdown",
   "metadata": {},
   "source": [
    "### 0.C.1 - RK45 & RKF45\n",
    "<img src=\"integration_RKF45.eps\" style=\"width: 500px;\"/>\n",
    "\n",
    "- General parameters : $y_0=10^{-5}$, r = 100, a=0.3\n",
    "- Euler : $h = 10^{-2}$, 100 steps\n",
    "- RK45 : $h = 10^{-2}$, 100 steps\n",
    "- RKF45 : $\\tau = 10^{-7}$"
   ]
  },
  {
   "cell_type": "markdown",
   "metadata": {},
   "source": []
  },
  {
   "cell_type": "markdown",
   "metadata": {},
   "source": [
    "<img src=\"RK45_integration.png\" style=\"width: 500px;\"/>\n",
    "\n"
   ]
  },
  {
   "cell_type": "markdown",
   "metadata": {},
   "source": [
    "From this picture, we can say that Runge-Kutta 45 (RK45) and Runge-Kutta-Felhberg 45 (RKF45) do converge to the same evolution. Small deviations are noticed, as numerical errors are accumulated, but overall the dynamic is the same.\n",
    "The best compromise for RK45 to converge, with an adaptative time-step such as shown on the graph, is $\\beta = 3$. Smaller beta leads to larger errors, larger beta leads to longer integration time."
   ]
  },
  {
   "cell_type": "markdown",
   "metadata": {},
   "source": [
    "# I - 2 Lumen"
   ]
  },
  {
   "cell_type": "markdown",
   "metadata": {},
   "source": [
    "## I.A - Total Hydraulic flux\n",
    "### I.A.1 - Asymmetric pressure VS Asymmetric concentration\n",
    "The zero hydraulic flux from lumen 2 to lumen 1 is given by the equation :\n",
    "\n",
    "$$\\Delta P = -\\Delta C \\frac{\\Lambda (\\chi_s, \\chi_v)}{\\cosh \\left( \\frac{1}{2\\chi_v} \\right)}$$\n",
    "Plotting it as a function of asymmetric pressure and concentration ratios, defined as\n",
    "$$\\Delta_p = \\frac{P_2-P_1}{P_2+P_1} \\,\\quad \\Delta_c = \\frac{C_2-C_1}{C_2+C_1}$$\n",
    "at fixed $\\chi_s=1$, for different $\\chi_v$ ratios, we find\n",
    "<img src=\"zero_flux_hydraulic_analyticsolution.eps\" style=\"width: 300px;\"/>\n"
   ]
  },
  {
   "cell_type": "markdown",
   "metadata": {},
   "source": [
    "<img src=\"zero_flux_hydraulic_dP_vs_dC.eps\" style=\"width: 300px;\"/>"
   ]
  },
  {
   "cell_type": "markdown",
   "metadata": {},
   "source": [
    "<img src=\"zero_flux_hydraulic_dP_vs_dC_colored_9cases.eps\" style=\"width: 300px;\"/>"
   ]
  },
  {
   "cell_type": "markdown",
   "metadata": {},
   "source": [
    "### I.A.1 - Asymmetric concentration VS Hydraulic screening\n",
    "Fixing the pressure asymmetry $\\Delta_p$, we can find, for a given $\\chi_v$, the asymmetry in concentration $\\Delta_c$ required to inverse the flux. We choose to study the case $P_2 > P_1$ (so $\\Delta_p > 0$). This corresponds to the upper right part of the diagram above. In this case, at osmotic equilibrium ($C_1=C_2=c_0$), the lumen 2 empties into lumen 1. \n",
    "\n"
   ]
  },
  {
   "cell_type": "markdown",
   "metadata": {},
   "source": [
    "<img src=\"zero_flux_hydraulic_dC_vs_chiv.eps\" style=\"width: 300px;\"/>\n"
   ]
  },
  {
   "cell_type": "markdown",
   "metadata": {},
   "source": [
    "We plot the zero hydraulic flux as a function of the concentration asymmetry $\\Delta_c$ and hydraulic screening $\\chi_v$, for different pressure asymmetries $\\Delta_p$.\n",
    "We explicitely calculate the sign of the hydraulic flux for one case ($\\Delta_p = 0.5$, full line), corresponding to the red dot and blue square. The dashed lines are shown as examples for other asymmetric pressures.\n",
    "Thus, for one curve, the region below the curve corresponds to coarsening, while the region above is the inverted coarsening, in which osmotic pressure overcomes the hydraulic pressure.\n",
    "\n",
    "From these curves, we deduce that above a certain hydraulic ratio $\\chi_v$, the concentration asymmetry needs to be very large, as expected. The larger the pressure asymmetry $\\Delta_p$, the smaller the inverted coarsening region.\n",
    "\n",
    "\n"
   ]
  },
  {
   "cell_type": "markdown",
   "metadata": {},
   "source": [
    "## I.B -  Fate diagrams"
   ]
  },
  {
   "cell_type": "markdown",
   "metadata": {},
   "source": [
    "### I.B.1 -  $\\chi_s = 1$, merge\n",
    "<img src=\"fate_diagram_2lumens_chis1.png\" style=\"width: 500px;\"/>"
   ]
  },
  {
   "cell_type": "markdown",
   "metadata": {},
   "source": [
    "### I.B.2 - $\\chi_s = 0.1$, merge\n",
    "<img src=\"fate_diagram_2lumens_chis0.1.png\" style=\"width: 500px;\"/>\n",
    "\n"
   ]
  },
  {
   "cell_type": "markdown",
   "metadata": {},
   "source": [
    "### I.B.3 - $\\chi_s = 10$, merge\n",
    "<img src=\"fate_diagram_2lumens_chis10.png\" style=\"width: 500px;\"/>"
   ]
  },
  {
   "cell_type": "markdown",
   "metadata": {},
   "source": [
    "### I.B.4 - $\\chi_s = 1$, no merge\n",
    "<img src=\"fate_diagram_2lumens_chis1_nomerge.png\" style=\"width: 500px;\"/>"
   ]
  },
  {
   "cell_type": "markdown",
   "metadata": {},
   "source": []
  },
  {
   "cell_type": "markdown",
   "metadata": {},
   "source": [
    "# II - Hydraulic Chain"
   ]
  },
  {
   "cell_type": "markdown",
   "metadata": {},
   "source": [
    "## II.A - H-chain Coarsening (No pumping)\n",
    "\n",
    "The equation of evolution for a single lumen is given by\n",
    "$$\\frac{d L_i}{dt} = \\frac{1}{T_v \\ell_{ij}L_i}\\left[ L_j^{-1} - L_i^{-1}\\right]$$\n",
    "\n",
    "where $T_v$ is the typical coarsening time, defined as\n",
    "$$T_v = \\frac{24}{\\mu_i \\sin(\\theta_i)}\\frac{\\eta \\ell_0 L_0^3}{e_0^3 \\gamma_i}$$\n"
   ]
  },
  {
   "cell_type": "markdown",
   "metadata": {},
   "source": [
    "### II.A.1 - Raw curves\n",
    "<img src=\"H_chain_coarsening_notrescaled.eps\" style=\"width: 600px;\"/>\n",
    "Each curve is the average of 100 simulations."
   ]
  },
  {
   "cell_type": "markdown",
   "metadata": {},
   "source": [
    "### II.A.2 - Rescaled by $T$\n",
    "<img src=\"H_chain_coarsening_rescaled.eps\" style=\"width: 600px;\"/>\n",
    "\n",
    "Rescaling all the curves by the time $T_v$, they all nicely collapse, following the same scaling-law $t^{-2/5}$.\n",
    "Note however that the curve $\\ell_0=1$ deviates slightly from the others.\n"
   ]
  },
  {
   "cell_type": "markdown",
   "metadata": {},
   "source": [
    "## II.B - H-chain Coarsening (With pumping)\n",
    "\n",
    "The equation of evolution for a single H-lumen $i$ with pumping term $\\Lambda_v$ can be written as\n",
    "\n",
    "$$\\frac{d L_i}{d t} = \\frac{1}{T_v \\ell_{ij} L_i} \\left[ L_j^{-1} - L_i^{-1}\\right] + \\Lambda_v$$\n",
    "\n",
    "where $T_v$ is the typical coarsening time, and $\\Lambda_v$ is the pumping rate, such that\n",
    "$$T_p = \\frac{1}{\\Lambda_v}$$\n",
    "is the typical pumping time."
   ]
  },
  {
   "cell_type": "markdown",
   "metadata": {},
   "source": [
    "### II.B.1 - Non-rescaled\n",
    "<img src=\"H_chain_coarsening_pumping_non_rescaled.eps\" style=\"width: 600px;\"/>\n"
   ]
  },
  {
   "cell_type": "markdown",
   "metadata": {},
   "source": [
    "### II.B.2 - Rescaled by $T_p$\n",
    "<img src=\"H_chain_coarsening_pumping_rescaled.eps\" style=\"width: 600px;\"/>\n"
   ]
  },
  {
   "cell_type": "markdown",
   "metadata": {},
   "source": [
    "# Hydroosmotic Chain"
   ]
  },
  {
   "cell_type": "markdown",
   "metadata": {},
   "source": [
    "## Coarsening with no pumping\n",
    "The evolution equations for a single HO-lumen $i$ are\n",
    "\n",
    "$$\\tau_v \\frac{d L_i}{d t} = \\mu_i \\nu_i \\left[ \\mu_i \\frac{N_i}{L_i^2} - 1 - \\frac{\\epsilon_i}{L_i}\\right] - \\frac{\\mu_i}{2L_i} J_i^v $$\n",
    "$$\\tau_s \\frac{d N_i}{d t} = 2\\nu_i L_i \\left[ c_i^a + 1 - \\mu_i \\frac{N_i}{L_i^2} \\right] - J_i^s$$\n",
    "\n",
    "\n",
    "### HO to H limit\n",
    "Assuming $\\epsilon_i \\ll 1$, $\\tau_s \\ll \\tau_v$, with no active pumping ($c_i^a = 0$), the second equation implies $\\delta C_i = \\mu_i \\frac{N_i}{L_i^2} - 1 = 0$, thus the first equation becomes, assuming $\\chi_v \\gg 1$\n",
    "$$\\tau_v \\frac{d L_i}{d t} = - \\frac{\\mu_i}{2L_i} J_i^v = \\frac{\\mu_i}{2L_i} \\frac{\\bar{\\xi}_v^2}{\\ell_{ij}} \\left[ \\frac{\\epsilon_j}{L_j} - \\frac{\\epsilon_i}{L_i}\\right]$$\n",
    "that simplifies into\n",
    "$$\\frac{d L_i}{d t} = \\frac{1}{T_v L_i \\ell_{ij}} \\left[ \\frac{1}{L_j} - \\frac{1}{L_i}\\right]$$\n",
    "where \n",
    "$$T_v = \\frac{2 \\tau_v}{\\mu \\epsilon \\bar{\\xi}_v^2}$$\n",
    "which is the evolution equation for a H-lumen. The time $T_v$ is the typical time of coarsening, as for the H-lumen.\n"
   ]
  },
  {
   "cell_type": "markdown",
   "metadata": {},
   "source": [
    "### Rescaled by $\\tau_v$\n",
    "<img src=\"HO_coarsening.eps\" style=\"width: 600px;\"/>\n"
   ]
  },
  {
   "cell_type": "markdown",
   "metadata": {},
   "source": [
    "### Rescaled by $T_v$\n",
    "<img src=\"HO_coarsening_rescaled.eps\" style=\"width: 600px;\"/>"
   ]
  },
  {
   "cell_type": "markdown",
   "metadata": {},
   "source": [
    "## HO-chain at $\\tau_s=10 ; \\tau_v = 0.01$\n",
    "\n",
    "<img src=\"HO_coarsening_largetau.eps\" style=\"width: 600px;\"/>\n"
   ]
  },
  {
   "cell_type": "markdown",
   "metadata": {},
   "source": [
    "## HO-chain with heteregeneous concentration and $\\tau_s=10 ; \\tau_v = 0.01$\n",
    "\n",
    "<img src=\"HO_coarsening_heterogenous_concentration.eps\" style=\"width: 600px;\"/>"
   ]
  },
  {
   "cell_type": "markdown",
   "metadata": {},
   "source": [
    "### Steady-state\n",
    "Steady-state\n",
    "$$\\tau_v \\frac{d L_i}{d t} = 0 $$\n",
    "$$\\tau_s \\frac{d N_i}{d t} = 0$$\n",
    "gives\n",
    "$$\\mu_i \\nu_i \\left[ \\delta C_i - \\frac{\\epsilon_i}{L_i}\\right] - \\frac{\\mu_i}{2L_i} J_i^v = 0$$\n",
    "$$2\\nu_i L_i \\left[ c_i^a - \\delta C_i \\right] - J_i^s = 0$$\n",
    "thus, \n",
    "$$\\delta C_i = \\frac{1}{2\\nu_i L_i} J_i^v + \\frac{\\epsilon_i}{L_i}$$\n",
    "$$\\delta C_i = - \\frac{1}{2\\nu_i L_i} J_i^s + c_i^a$$\n",
    "so, finally,\n",
    "$$\\frac{1}{2\\nu_i L_i} \\left[ J_i^v + J_i^s \\right] = c_i^a - \\frac{\\epsilon_i}{L_i}$$\n",
    "\n",
    "- Assuming there is no flux ($J_i^s=J_i^v=0$), we find that the steady-state solution is given by\n",
    " $$c_i^a = \\frac{\\epsilon_i}{L_i}$$\n",
    "Therefore, for an isolated lumen, there is no steady-state without active pumping. If there is active pumping ($c_i^a > 0$), then the condition is that the length $L_i(0) = \\frac{\\epsilon_i}{c_i^a}$, such that tension and active pumping exactly compensate each other.\n",
    "\n"
   ]
  },
  {
   "cell_type": "markdown",
   "metadata": {},
   "source": []
  },
  {
   "cell_type": "markdown",
   "metadata": {},
   "source": [
    "## Coarsening with pumping"
   ]
  },
  {
   "cell_type": "markdown",
   "metadata": {},
   "source": [
    "<img src=\"HO_chain_active_pumping.eps\" style=\"width: 600px;\"/>\n"
   ]
  },
  {
   "cell_type": "markdown",
   "metadata": {},
   "source": []
  },
  {
   "cell_type": "markdown",
   "metadata": {},
   "source": []
  },
  {
   "cell_type": "code",
   "execution_count": null,
   "metadata": {},
   "outputs": [],
   "source": []
  }
 ],
 "metadata": {
  "kernelspec": {
   "display_name": "Python 3",
   "language": "python",
   "name": "python3"
  },
  "language_info": {
   "codemirror_mode": {
    "name": "ipython",
    "version": 3
   },
   "file_extension": ".py",
   "mimetype": "text/x-python",
   "name": "python",
   "nbconvert_exporter": "python",
   "pygments_lexer": "ipython3",
   "version": "3.8.5"
  }
 },
 "nbformat": 4,
 "nbformat_minor": 2
}
