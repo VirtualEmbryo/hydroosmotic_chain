{
 "cells": [
  {
   "cell_type": "code",
   "execution_count": 1,
   "metadata": {},
   "outputs": [],
   "source": [
    "import sys\n",
    "import os"
   ]
  },
  {
   "cell_type": "code",
   "execution_count": 2,
   "metadata": {},
   "outputs": [],
   "source": [
    "\n",
    "main_dir = '/Users/mathieuleverge/git/chain_lumen/_data/'\n",
    "filename = os.path.join(main_dir, 'config.conf')\n"
   ]
  },
  {
   "cell_type": "code",
   "execution_count": 37,
   "metadata": {},
   "outputs": [],
   "source": [
    "class Config() :\n",
    "    def __init__(self) :\n",
    "        self.config = {}\n",
    "        self.categories = []\n",
    "    \n",
    "    def read_file(self, filename) :\n",
    "        f = open(filename, 'r')\n",
    "        s = f.readlines()\n",
    "        f.close()\n",
    "        return s\n",
    "    \n",
    "\n",
    "    def read_config(self, string) :\n",
    "        config = {}\n",
    "        cat_list = []\n",
    "        for line in string :\n",
    "            if line != '\\n' :\n",
    "                if line[0].startswith('[') and line[-2].startswith(']') :\n",
    "                    cat = line[1:-2]\n",
    "                    config[cat] = {}\n",
    "                    cat_list += [str(cat)]\n",
    "                else :\n",
    "                    res = line.split('=')\n",
    "                    arg = res[0].replace(\" \", \"\")\n",
    "                    val = res[1].replace(\"\\n\", \"\").replace(\" \", \"\")\n",
    "                    config[cat][arg] = val\n",
    "        return config, cat_list\n",
    "\n",
    "    def read(self, filename) :\n",
    "        string_file = self.read_file(filename)\n",
    "        self.config, self.categories = self.read_config(string_file)\n",
    "        return self.config\n",
    "    \n",
    "    def write(self, filename) :\n",
    "        f = open(filename, 'w')\n",
    "        for key in self.config.keys() :\n",
    "            f.write('['+str(key)+']\\n')\n",
    "            for sub_key in self.config[key].keys() :\n",
    "                f.write(str(sub_key) + ' = ' + str(self.config[key][sub_key]) + '\\n')\n",
    "            f.write('\\n')\n",
    "        f.close()\n",
    "    \n",
    "    def add(self, category, name, value) :\n",
    "        if category in self.categories :\n",
    "            self.config[category][name] = str(value)\n",
    "        else :\n",
    "            self.categories += [str(name)]\n",
    "            self.config[category] = {}\n",
    "            self.config[category][name] = str(value)\n",
    "            \n",
    "    def __str__(self) :\n",
    "        for key in self.config.keys() :\n",
    "            print('['+str(key)+']')\n",
    "            for sub_key in self.config[key].keys() :\n",
    "                print(str(sub_key) + ' = ' + str(self.config[key][sub_key]) )\n",
    "            print('')\n",
    "        return ''"
   ]
  },
  {
   "cell_type": "code",
   "execution_count": 38,
   "metadata": {},
   "outputs": [],
   "source": [
    "c = Config()"
   ]
  },
  {
   "cell_type": "code",
   "execution_count": 39,
   "metadata": {},
   "outputs": [],
   "source": [
    "conf = c.read(filename)"
   ]
  },
  {
   "cell_type": "code",
   "execution_count": 40,
   "metadata": {},
   "outputs": [],
   "source": [
    "c.write(os.path.join(main_dir, 'conf_test.conf'))"
   ]
  },
  {
   "cell_type": "code",
   "execution_count": 41,
   "metadata": {},
   "outputs": [
    {
     "name": "stdout",
     "output_type": "stream",
     "text": [
      "[sim]\n",
      "path = \n",
      "m = 2\n",
      "e0 = 0.01\n",
      "recording = True\n",
      "chain_type = hydroosmotic\n",
      "pumping = False\n",
      "seed = 6326158\n",
      "nb_frames = 100\n",
      "savefig = 0\n",
      "outdir = out\n",
      "\n",
      "[topology]\n",
      "l_merge = 0.001\n",
      "l_dis = 0.1\n",
      "avg_size = 1.\n",
      "std_size = 0.2\n",
      "avg_dist = 1.\n",
      "std_dist = .3\n",
      "dist_toleft = 1.\n",
      "dist_toright = 1.\n",
      "eps = 1e-3\n",
      "\n",
      "[integration]\n",
      "solver = rkf45\n",
      "max_step = 100000\n",
      "time_interval = 1.\n",
      "alpha = 1e-10\n",
      "tolerance = 1e-20\n",
      "\n",
      "[motion]\n",
      "motion = False\n",
      "friction = 1.\n",
      "\n",
      "[standard]\n",
      "threshold = 0.5\n",
      "flux_val = 0.1\n",
      "\n",
      "[hydraulic]\n",
      "kappa = 1\n",
      "\n",
      "[hydroosmotic]\n",
      "equilibrium = True\n",
      "nions_avg = 2.\n",
      "nions_std = 1.\n",
      "chis = 50.\n",
      "chiv = 50.\n",
      "taus = 1.\n",
      "tauv = 1.\n",
      "\n",
      "[pumping]\n",
      "pattern = \n",
      "bridge_1 = 0.\n",
      "bridge_2 = 1.\n",
      "lumen_1 = 0.\n",
      "lumen_2 = 1.\n",
      "\n",
      "\n"
     ]
    }
   ],
   "source": [
    "print(c)"
   ]
  },
  {
   "cell_type": "code",
   "execution_count": 42,
   "metadata": {},
   "outputs": [],
   "source": [
    "c.add('test', 'test_sub', 2)"
   ]
  },
  {
   "cell_type": "code",
   "execution_count": 43,
   "metadata": {},
   "outputs": [
    {
     "name": "stdout",
     "output_type": "stream",
     "text": [
      "[sim]\n",
      "path = \n",
      "m = 2\n",
      "e0 = 0.01\n",
      "recording = True\n",
      "chain_type = hydroosmotic\n",
      "pumping = False\n",
      "seed = 6326158\n",
      "nb_frames = 100\n",
      "savefig = 0\n",
      "outdir = out\n",
      "\n",
      "[topology]\n",
      "l_merge = 0.001\n",
      "l_dis = 0.1\n",
      "avg_size = 1.\n",
      "std_size = 0.2\n",
      "avg_dist = 1.\n",
      "std_dist = .3\n",
      "dist_toleft = 1.\n",
      "dist_toright = 1.\n",
      "eps = 1e-3\n",
      "\n",
      "[integration]\n",
      "solver = rkf45\n",
      "max_step = 100000\n",
      "time_interval = 1.\n",
      "alpha = 1e-10\n",
      "tolerance = 1e-20\n",
      "\n",
      "[motion]\n",
      "motion = False\n",
      "friction = 1.\n",
      "\n",
      "[standard]\n",
      "threshold = 0.5\n",
      "flux_val = 0.1\n",
      "\n",
      "[hydraulic]\n",
      "kappa = 1\n",
      "\n",
      "[hydroosmotic]\n",
      "equilibrium = True\n",
      "nions_avg = 2.\n",
      "nions_std = 1.\n",
      "chis = 50.\n",
      "chiv = 50.\n",
      "taus = 1.\n",
      "tauv = 1.\n",
      "\n",
      "[pumping]\n",
      "pattern = \n",
      "bridge_1 = 0.\n",
      "bridge_2 = 1.\n",
      "lumen_1 = 0.\n",
      "lumen_2 = 1.\n",
      "\n",
      "[test]\n",
      "test_sub = 2\n",
      "\n",
      "\n"
     ]
    }
   ],
   "source": [
    "print(c)"
   ]
  },
  {
   "cell_type": "code",
   "execution_count": null,
   "metadata": {},
   "outputs": [],
   "source": []
  },
  {
   "cell_type": "code",
   "execution_count": null,
   "metadata": {},
   "outputs": [],
   "source": []
  }
 ],
 "metadata": {
  "kernelspec": {
   "display_name": "Python 3",
   "language": "python",
   "name": "python3"
  },
  "language_info": {
   "codemirror_mode": {
    "name": "ipython",
    "version": 3
   },
   "file_extension": ".py",
   "mimetype": "text/x-python",
   "name": "python",
   "nbconvert_exporter": "python",
   "pygments_lexer": "ipython3",
   "version": "3.7.4"
  }
 },
 "nbformat": 4,
 "nbformat_minor": 2
}
