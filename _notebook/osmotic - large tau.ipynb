{
 "cells": [
  {
   "cell_type": "code",
   "execution_count": 1,
   "metadata": {},
   "outputs": [],
   "source": [
    "import numpy as np\n",
    "import matplotlib.pyplot as plt\n",
    "\n",
    "import os\n",
    "import sys\n",
    "\n",
    "module_path = os.path.abspath(os.path.join('..'))\n",
    "\n",
    "if module_path not in sys.path :\n",
    "    sys.path.append(module_path)\n",
    "\n",
    "    \n",
    "import _ressources.chain as chain\n",
    "import _ressources.tools as tools\n",
    "import _ressources.lumenclass as lc\n",
    "import _ressources.analysis_tools.analysis as an\n",
    "\n",
    "\n",
    "#from scipy.optimize import curve_fit\n",
    "\n",
    "\n",
    "main_dir = '/Users/mathieuleverge/git/chain_lumen/_data/osmotic/N1000/ell10/large_tau/'"
   ]
  },
  {
   "cell_type": "code",
   "execution_count": 2,
   "metadata": {},
   "outputs": [],
   "source": [
    "chi_list = [(5, 500), (50, 500), (500, 500)]\n",
    "nsim = 20"
   ]
  },
  {
   "cell_type": "code",
   "execution_count": 3,
   "metadata": {},
   "outputs": [],
   "source": [
    "Nt = {}\n",
    "\n",
    "subdir_list = ['chis'+str(chi[0])+'_chiv'+str(chi[1]) for chi in chi_list]\n",
    "\n",
    "for i in range(len(subdir_list)) :\n",
    "    chi = chi_list[i]\n",
    "    Nt[chi] = {}\n",
    "    for n in range(nsim) :\n",
    "        try :\n",
    "            Nt[chi][n] = np.loadtxt(os.path.join(main_dir, subdir_list[i], 'run'+str(n).zfill(4), 'sim_nlum.dat'))\n",
    "        except :\n",
    "            print('No '+str(chi)+' '+ str(n))\n",
    "            pass\n"
   ]
  },
  {
   "cell_type": "code",
   "execution_count": 5,
   "metadata": {},
   "outputs": [
    {
     "data": {
      "image/png": "[encoded data removed]",
      "text/plain": [
       "<Figure size 432x288 with 1 Axes>"
      ]
     },
     "metadata": {
      "needs_background": "light"
     },
     "output_type": "display_data"
    }
   ],
   "source": [
    "\n",
    "plt.xscale('log')\n",
    "plt.yscale('log')\n",
    "\n",
    "has_label = False\n",
    "chi = (5, 500)\n",
    "for n in range(nsim) :\n",
    "    if has_label :\n",
    "        plt.plot(Nt[chi][n][:, 0], Nt[chi][n][:, 1], color='blue')\n",
    "    else :\n",
    "        plt.plot(Nt[chi][n][:, 0], Nt[chi][n][:, 1], color='blue', label = r'$\\chi_s='+str(chi[0])+' ; \\chi_v='+str(chi[1])+'$')\n",
    "        has_label=True\n",
    "    \n",
    "has_label=False\n",
    "chi = (50, 500)\n",
    "for n in range(nsim):\n",
    "    if has_label :\n",
    "            plt.plot(Nt[chi][n][:, 0], Nt[chi][n][:, 1], color='red')\n",
    "    else :\n",
    "        plt.plot(Nt[chi][n][:, 0], Nt[chi][n][:, 1], color='red', label = r'$\\chi_s='+str(chi[0])+' ; \\chi_v='+str(chi[1])+'$')\n",
    "        has_label=True\n",
    "    \n",
    "has_label=False\n",
    "chi = (500, 500)\n",
    "for n in range(nsim):\n",
    "    if has_label :\n",
    "        plt.plot(Nt[chi][n][:, 0], Nt[chi][n][:, 1], color='green')\n",
    "    else :\n",
    "        plt.plot(Nt[chi][n][:, 0], Nt[chi][n][:, 1], color='green', label = r'$\\chi_s='+str(chi[0])+' ; \\chi_v='+str(chi[1])+'$')\n",
    "        has_label=True\n",
    "\n",
    "\n",
    "k, a = 10., -2/5.\n",
    "t = np.logspace(-5, -1, 101)\n",
    "plt.plot(t, k*t**a, label = '$t^{-0.4}$', linestyle='--')\n",
    "\n",
    "#k2, a2 = 5., -0.18\n",
    "#t2 = np.logspace(-1, 3, 101)\n",
    "#plt.plot(t2, k2*t2**a2, label = '$t^{'+str(a2)+'}$', linestyle='--', color='k')\n",
    "\n",
    "#plt.xlim(1e-8, 1e2)\n",
    "\n",
    "plt.xlabel('Time', fontsize=12)\n",
    "plt.ylabel('N(t)', fontsize=12)\n",
    "plt.legend(loc=3, fontsize=12)\n",
    "plt.title('HO-chain\\n'+r'$\\tau_s=10 ; \\tau_v = 0.01$')\n",
    "plt.show()\n",
    "\n"
   ]
  },
  {
   "cell_type": "code",
   "execution_count": 23,
   "metadata": {},
   "outputs": [
    {
     "data": {
      "text/plain": [
       "{0: array([[0.00000000e+00, 1.00000000e+03],\n",
       "        [3.13685856e-08, 1.00000000e+03],\n",
       "        [4.89302557e-08, 1.00000000e+03],\n",
       "        ...,\n",
       "        [1.12450052e-05, 5.74000000e+02],\n",
       "        [1.12455061e-05, 5.74000000e+02],\n",
       "        [1.12459536e-05, 5.74000000e+02]]),\n",
       " 19: array([[0.00000000e+00, 1.00000000e+03],\n",
       "        [1.28061714e-08, 1.00000000e+03],\n",
       "        [1.74899228e-08, 1.00000000e+03],\n",
       "        ...,\n",
       "        [6.06172850e+00, 2.00000000e+00],\n",
       "        [6.06174822e+00, 1.00000000e+00],\n",
       "        [7.06174822e+00, 1.00000000e+00]])}"
      ]
     },
     "execution_count": 23,
     "metadata": {},
     "output_type": "execute_result"
    }
   ],
   "source": [
    "Nt[(500, 500)]"
   ]
  },
  {
   "cell_type": "code",
   "execution_count": 15,
   "metadata": {},
   "outputs": [],
   "source": [
    "def gen_log_times(tmin, tmax, npts) :\n",
    "    return np.logspace(np.log10(tmin), np.log10(tmax), npts)\n",
    "\n",
    "def find_argmins(Nt, log_times) :\n",
    "    index_array = np.zeros(len(log_times), dtype=int)\n",
    "    for k in range(len(log_times)) :\n",
    "        index_array[k] = np.argmin(np.abs(log_times[k]-Nt[:, 0]))\n",
    "    return index_array\n",
    "\n",
    "def gen_index_array(Nt, npts) :\n",
    "    size = len(Nt)\n",
    "    \n",
    "    tmin = np.min(Nt[1:, 0])   # skip the first time since t=0\n",
    "    tmax = np.max(Nt[1:, 0])   # skip the first time since t=0\n",
    "    \n",
    "    log_times = gen_log_times(tmin, tmax, npts)\n",
    "    index_array = find_argmins(Nt, log_times)\n",
    "    \n",
    "    return index_array\n",
    "\n",
    "def plot_conf(chis, chiv, Nt, wmin=-6, wmax=3, rescaled=False, ell0=10, L0=1, tau=1, show_sim=False) :\n",
    "    xiv = ell0*chiv\n",
    "    mu, eps = 0.61, 1e-3\n",
    "    T = (2*tau*L0*ell0)/((xiv**2)*mu*eps)\n",
    "    \n",
    "    if show_sim :\n",
    "        for n in range(nsim) :\n",
    "            index_array = gen_index_array(Nt[(chis, chiv)][n], npts)\n",
    "            if rescaled :\n",
    "                plt.plot(Nt[(chis, chiv)][n][index_array, 0]/T, Nt[(chis, chiv)][n][index_array, 1], color = plot_param_list[(chis, chiv)][0], alpha = 0.1)\n",
    "            else :\n",
    "                plt.plot(Nt[(chis, chiv)][n][index_array, 0], Nt[(chis, chiv)][n][index_array, 1], color = plot_param_list[(chis, chiv)][0], alpha = 0.1)\n",
    "\n",
    "    res_avg, res_std = an.batch(data_dict=Nt[(chis, chiv)], wmin=wmin, wmax=wmax, nwindow=npts)\n",
    "    if rescaled :\n",
    "        plt.plot(res_avg[:, 0]/T, res_avg[:, 1], marker=plot_param_list[(chis, chiv)][1], color = plot_param_list[(chis, chiv)][0], markersize=plot_param_list[(chis, chiv)][2], linewidth=plot_param_list[(chis, chiv)][3], linestyle=plot_param_list[(chis, chiv)][5], label = r'$\\chi_v = '+str(chiv)+' ; \\chi_s = '+str(chis)+'$')\n",
    "    else :\n",
    "        plt.plot(res_avg[:, 0], res_avg[:, 1], marker=plot_param_list[(chis, chiv)][1], color = plot_param_list[(chis, chiv)][0], markersize=plot_param_list[(chis, chiv)][2], linewidth=plot_param_list[(chis, chiv)][3], linestyle=plot_param_list[(chis, chiv)][5], label = r'$\\chi_v = '+str(chiv)+' ; \\chi_s = '+str(chis)+'$')\n",
    "    \n",
    "    #N0=1000      \n",
    "    #Tf = T*N0**(5./2)\n",
    "    #plt.vlines(x=1/Tf, ymin=1., ymax=N0, linestyle = '--', color=plot_param_list[(chis, chiv)][0])\n",
    "\n",
    "\n"
   ]
  },
  {
   "cell_type": "code",
   "execution_count": 16,
   "metadata": {},
   "outputs": [],
   "source": [
    "ms = 8\n",
    "lw = 1\n",
    "alpha=1\n",
    "\n",
    "plot_param_list = {(5, 5) : ['#E54367', 's', ms, lw, alpha, '-.'], \n",
    "                   (50, 5) : ['#666633', 'o', ms, lw, alpha, '--'], \n",
    "                   (500, 5) : ['#CC6677', '>', ms, lw, alpha, 'dotted'], \n",
    "                   (5, 50) : ['#33BBEE', 'P', ms, lw, alpha, '--'], \n",
    "                   (50, 50) : ['#8DD800', 'o', ms, lw, alpha, '-.'], \n",
    "                   (500, 50) : ['#FF8900', '^', ms, lw, alpha, 'dotted'], \n",
    "                   (5, 500) : ['#1433E4', 'D', ms, lw, alpha, '-.'], \n",
    "                   (50, 500) : ['#FFD425', 'H', ms, lw, alpha, '--'], \n",
    "                   (500, 500) : ['#E90000', '<', ms, lw, alpha, 'dotted']\n",
    "                   }\n"
   ]
  },
  {
   "cell_type": "code",
   "execution_count": 27,
   "metadata": {},
   "outputs": [
    {
     "name": "stdout",
     "output_type": "stream",
     "text": [
      "End of import !\n",
      "End of import !\n",
      "End of import !\n"
     ]
    },
    {
     "name": "stderr",
     "output_type": "stream",
     "text": [
      "The PostScript backend does not support transparency; partially transparent artists will be rendered opaque.\n",
      "The PostScript backend does not support transparency; partially transparent artists will be rendered opaque.\n"
     ]
    },
    {
     "data": {
      "image/png": "[encoded data removed]",
      "text/plain": [
       "<Figure size 576x288 with 1 Axes>"
      ]
     },
     "metadata": {
      "needs_background": "light"
     },
     "output_type": "display_data"
    }
   ],
   "source": [
    "plt.figure(figsize=(8, 4))\n",
    "plt.xscale('log')\n",
    "plt.yscale('log')\n",
    "\n",
    "show_sim = False\n",
    "rescaled = False\n",
    "\n",
    "npts = 50\n",
    "nsim = 20\n",
    "\n",
    "# ===================\n",
    "chis, chiv = 5, 500\n",
    "plot_conf(chis, chiv, Nt=Nt, wmin=-8, wmax=0, rescaled=rescaled, ell0=10, L0=1, tau=1e-2, show_sim=False)\n",
    "\n",
    "# ===================\n",
    "chis, chiv = 50, 500\n",
    "plot_conf(chis, chiv, Nt=Nt, wmin=-8, wmax=0, rescaled=rescaled, ell0=10, L0=1, tau=1e-2, show_sim=False)\n",
    "\n",
    "# ===================\n",
    "chis, chiv = 500, 500\n",
    "plot_conf(chis, chiv, Nt=Nt, wmin=-8, wmax=0, rescaled=rescaled, ell0=10, L0=1, tau=1e-2, show_sim=False)\n",
    "\n",
    "#plt.grid()\n",
    "\n",
    "if rescaled :\n",
    "    plt.xlabel(r'$t/T_v$', fontsize=15)\n",
    "else :\n",
    "    plt.xlabel(r'$t/\\tau_v$', fontsize=15)\n",
    "    \n",
    "plt.ylabel('N(t)', fontsize=15)\n",
    "\n",
    "if rescaled :\n",
    "    k, a = 300, -0.4\n",
    "    t = np.logspace(0.5, 5, 101)\n",
    "    plt.plot(t, k*t**a, color = 'k', label=r'$t^{-2/5}$')\n",
    "    #plt.savefig('/Users/mathieuleverge/git/chain_lumen/_notebook/figures/HO_coarsening_largetau_rescaled.eps', format='eps')\n",
    "else :\n",
    "    k, a = 10, -0.4\n",
    "    t = np.logspace(-5, -1, 101)\n",
    "    plt.plot(t, k*t**a, color = 'k', label=r'$t^{-2/5}$')\n",
    "    #plt.savefig('/Users/mathieuleverge/git/chain_lumen/_notebook/figures/HO_coarsening_largetau.eps', format='eps')\n",
    "\n",
    "    \n",
    "plt.legend(fontsize=12, loc=3, markerscale=1.2)\n",
    "\n",
    "plt.title('HO-chain\\n'+r'$\\tau_s=10 ; \\tau_v = 0.01$', fontsize=15)\n",
    "plt.savefig('/Users/mathieuleverge/git/chain_lumen/_notebook/figures/HO_coarsening_largetau.eps', format='eps')\n",
    "plt.show()"
   ]
  },
  {
   "cell_type": "code",
   "execution_count": null,
   "metadata": {},
   "outputs": [],
   "source": []
  }
 ],
 "metadata": {
  "kernelspec": {
   "display_name": "Python 3",
   "language": "python",
   "name": "python3"
  },
  "language_info": {
   "codemirror_mode": {
    "name": "ipython",
    "version": 3
   },
   "file_extension": ".py",
   "mimetype": "text/x-python",
   "name": "python",
   "nbconvert_exporter": "python",
   "pygments_lexer": "ipython3",
   "version": "3.7.4"
  }
 },
 "nbformat": 4,
 "nbformat_minor": 2
}
