{
 "cells": [
  {
   "cell_type": "code",
   "execution_count": 18,
   "metadata": {},
   "outputs": [],
   "source": [
    "import numpy as np\n",
    "import matplotlib.pyplot as plt\n",
    "from scipy.special import erf\n",
    "\n",
    "import os\n",
    "from os.path import join\n",
    "import sys\n",
    "\n",
    "module_path = os.path.abspath(os.path.join('..'))\n",
    "\n",
    "if module_path not in sys.path :\n",
    "    sys.path.append(module_path)\n",
    "\n",
    "    \n",
    "import _ressources.chain as chain\n",
    "import _ressources.tools as tools\n",
    "import _ressources.lumenclass as lc\n",
    "import _ressources.configreader as configreader\n",
    "\n",
    "#main_dir = '/Users/mathieuleverge/git/chain_lumen/_data/hydrosmotic_hydraulic/versus/N1000_hydraulic/'\n",
    "main_dir = '/Users/mathieuleverge/git/chain_lumen/_data/'\n",
    "subdir = 'patterning'\n",
    "mu = (np.sin(np.pi/3.))**2 / (2*np.pi/3. - np.sin(2*np.pi/3.))"
   ]
  },
  {
   "cell_type": "code",
   "execution_count": 2,
   "metadata": {},
   "outputs": [],
   "source": [
    "def event_counter(filename) :\n",
    "    events = open(filename, 'r').read()\n",
    "    Nmerge = events.count('merge')\n",
    "    Ndis = events.count('disappears')\n",
    "    return Ndis, Nmerge\n",
    "\n",
    "def print_outcomes(events, tablename='') :\n",
    "    if len(tablename) > 0 :\n",
    "        s = '='*5 + ' ' + tablename + ' ' + '='*5\n",
    "        print('='*len(s))\n",
    "        print(s)\n",
    "    else :\n",
    "        s = '='*30\n",
    "        print(s)\n",
    "    print('Coarsening events  : ', events[0])\n",
    "    print('Coalescence events : ', events[1])\n",
    "    print('-'*len(s))\n",
    "    print('Total              : ', events[0]+events[1])\n",
    "    print('='*len(s))\n",
    "    print('')"
   ]
  },
  {
   "cell_type": "markdown",
   "metadata": {},
   "source": [
    "# Hydraulic"
   ]
  },
  {
   "cell_type": "code",
   "execution_count": 3,
   "metadata": {},
   "outputs": [
    {
     "data": {
      "image/png": "[encoded data removed]",
      "text/plain": [
       "<Figure size 432x288 with 1 Axes>"
      ]
     },
     "metadata": {
      "needs_background": "light"
     },
     "output_type": "display_data"
    }
   ],
   "source": [
    "subsubdir = 'hydraulic'\n",
    "Nt_constant = np.loadtxt(os.path.join(main_dir, subdir, subsubdir, 'run0000', 'sim_nlum.dat'))\n",
    "Nt_gauss = np.loadtxt(os.path.join(main_dir, subdir, subsubdir, 'run0001', 'sim_nlum.dat'))\n",
    "Nt_sig = np.loadtxt(os.path.join(main_dir, subdir, subsubdir, 'run0002', 'sim_nlum.dat'))\n",
    "Nt_rec = np.loadtxt(os.path.join(main_dir, subdir, subsubdir, 'run0003', 'sim_nlum.dat'))\n",
    "\n",
    "plt.xscale('log')\n",
    "plt.yscale('log')\n",
    "plt.plot(Nt_constant[:, 0], Nt_constant[:, 1], color = 'b', label = r'Constant, $\\Lambda_v = 10^{-2}$')\n",
    "plt.plot(Nt_gauss[:, 0], Nt_gauss[:, 1], color = 'r', label = r'Gaussian')\n",
    "plt.plot(Nt_sig[:, 0], Nt_sig[:, 1], color = 'g', label = r'Sigmoide')\n",
    "plt.plot(Nt_rec[:, 0], Nt_rec[:, 1], color = 'orange', label = r'Rectangular')\n",
    "\n",
    "tp = np.logspace(0, 2, 101)\n",
    "kp, ap = 100., -1.\n",
    "plt.plot(tp, kp*tp**ap, label = r'$t^{-1}$', color='k', linestyle = '--')\n",
    "\n",
    "plt.xlim(1e-2, 1e7)\n",
    "\n",
    "plt.legend()\n",
    "plt.show()\n"
   ]
  },
  {
   "cell_type": "markdown",
   "metadata": {},
   "source": [
    "# Hydroosmotic"
   ]
  },
  {
   "cell_type": "code",
   "execution_count": 10,
   "metadata": {},
   "outputs": [
    {
     "ename": "OSError",
     "evalue": "/Users/mathieuleverge/git/chain_lumen/_data/patterning/osmotic/run0000/sim_nlum.dat not found.",
     "output_type": "error",
     "traceback": [
      "\u001b[0;31m---------------------------------------------------------------------------\u001b[0m",
      "\u001b[0;31mOSError\u001b[0m                                   Traceback (most recent call last)",
      "\u001b[0;32m<ipython-input-10-0e83976b8dfd>\u001b[0m in \u001b[0;36m<module>\u001b[0;34m\u001b[0m\n\u001b[1;32m      1\u001b[0m \u001b[0msubsubdir\u001b[0m \u001b[0;34m=\u001b[0m \u001b[0;34m'osmotic'\u001b[0m\u001b[0;34m\u001b[0m\u001b[0;34m\u001b[0m\u001b[0m\n\u001b[0;32m----> 2\u001b[0;31m \u001b[0mNt_constant\u001b[0m \u001b[0;34m=\u001b[0m \u001b[0mnp\u001b[0m\u001b[0;34m.\u001b[0m\u001b[0mloadtxt\u001b[0m\u001b[0;34m(\u001b[0m\u001b[0mos\u001b[0m\u001b[0;34m.\u001b[0m\u001b[0mpath\u001b[0m\u001b[0;34m.\u001b[0m\u001b[0mjoin\u001b[0m\u001b[0;34m(\u001b[0m\u001b[0mmain_dir\u001b[0m\u001b[0;34m,\u001b[0m \u001b[0msubdir\u001b[0m\u001b[0;34m,\u001b[0m \u001b[0msubsubdir\u001b[0m\u001b[0;34m,\u001b[0m \u001b[0;34m'run0000'\u001b[0m\u001b[0;34m,\u001b[0m \u001b[0;34m'sim_nlum.dat'\u001b[0m\u001b[0;34m)\u001b[0m\u001b[0;34m)\u001b[0m\u001b[0;34m\u001b[0m\u001b[0;34m\u001b[0m\u001b[0m\n\u001b[0m\u001b[1;32m      3\u001b[0m \u001b[0mNt_gauss\u001b[0m \u001b[0;34m=\u001b[0m \u001b[0mnp\u001b[0m\u001b[0;34m.\u001b[0m\u001b[0mloadtxt\u001b[0m\u001b[0;34m(\u001b[0m\u001b[0mos\u001b[0m\u001b[0;34m.\u001b[0m\u001b[0mpath\u001b[0m\u001b[0;34m.\u001b[0m\u001b[0mjoin\u001b[0m\u001b[0;34m(\u001b[0m\u001b[0mmain_dir\u001b[0m\u001b[0;34m,\u001b[0m \u001b[0msubdir\u001b[0m\u001b[0;34m,\u001b[0m \u001b[0msubsubdir\u001b[0m\u001b[0;34m,\u001b[0m \u001b[0;34m'run0001'\u001b[0m\u001b[0;34m,\u001b[0m \u001b[0;34m'sim_nlum.dat'\u001b[0m\u001b[0;34m)\u001b[0m\u001b[0;34m)\u001b[0m\u001b[0;34m\u001b[0m\u001b[0;34m\u001b[0m\u001b[0m\n\u001b[1;32m      4\u001b[0m \u001b[0mNt_sig\u001b[0m \u001b[0;34m=\u001b[0m \u001b[0mnp\u001b[0m\u001b[0;34m.\u001b[0m\u001b[0mloadtxt\u001b[0m\u001b[0;34m(\u001b[0m\u001b[0mos\u001b[0m\u001b[0;34m.\u001b[0m\u001b[0mpath\u001b[0m\u001b[0;34m.\u001b[0m\u001b[0mjoin\u001b[0m\u001b[0;34m(\u001b[0m\u001b[0mmain_dir\u001b[0m\u001b[0;34m,\u001b[0m \u001b[0msubdir\u001b[0m\u001b[0;34m,\u001b[0m \u001b[0msubsubdir\u001b[0m\u001b[0;34m,\u001b[0m \u001b[0;34m'run0002'\u001b[0m\u001b[0;34m,\u001b[0m \u001b[0;34m'sim_nlum.dat'\u001b[0m\u001b[0;34m)\u001b[0m\u001b[0;34m)\u001b[0m\u001b[0;34m\u001b[0m\u001b[0;34m\u001b[0m\u001b[0m\n\u001b[1;32m      5\u001b[0m \u001b[0mNt_rec\u001b[0m \u001b[0;34m=\u001b[0m \u001b[0mnp\u001b[0m\u001b[0;34m.\u001b[0m\u001b[0mloadtxt\u001b[0m\u001b[0;34m(\u001b[0m\u001b[0mos\u001b[0m\u001b[0;34m.\u001b[0m\u001b[0mpath\u001b[0m\u001b[0;34m.\u001b[0m\u001b[0mjoin\u001b[0m\u001b[0;34m(\u001b[0m\u001b[0mmain_dir\u001b[0m\u001b[0;34m,\u001b[0m \u001b[0msubdir\u001b[0m\u001b[0;34m,\u001b[0m \u001b[0msubsubdir\u001b[0m\u001b[0;34m,\u001b[0m \u001b[0;34m'run0003'\u001b[0m\u001b[0;34m,\u001b[0m \u001b[0;34m'sim_nlum.dat'\u001b[0m\u001b[0;34m)\u001b[0m\u001b[0;34m)\u001b[0m\u001b[0;34m\u001b[0m\u001b[0;34m\u001b[0m\u001b[0m\n",
      "\u001b[0;32m/usr/local/lib/python3.7/site-packages/numpy/lib/npyio.py\u001b[0m in \u001b[0;36mloadtxt\u001b[0;34m(fname, dtype, comments, delimiter, converters, skiprows, usecols, unpack, ndmin, encoding, max_rows)\u001b[0m\n\u001b[1;32m    966\u001b[0m             \u001b[0mfname\u001b[0m \u001b[0;34m=\u001b[0m \u001b[0mos_fspath\u001b[0m\u001b[0;34m(\u001b[0m\u001b[0mfname\u001b[0m\u001b[0;34m)\u001b[0m\u001b[0;34m\u001b[0m\u001b[0;34m\u001b[0m\u001b[0m\n\u001b[1;32m    967\u001b[0m         \u001b[0;32mif\u001b[0m \u001b[0m_is_string_like\u001b[0m\u001b[0;34m(\u001b[0m\u001b[0mfname\u001b[0m\u001b[0;34m)\u001b[0m\u001b[0;34m:\u001b[0m\u001b[0;34m\u001b[0m\u001b[0;34m\u001b[0m\u001b[0m\n\u001b[0;32m--> 968\u001b[0;31m             \u001b[0mfh\u001b[0m \u001b[0;34m=\u001b[0m \u001b[0mnp\u001b[0m\u001b[0;34m.\u001b[0m\u001b[0mlib\u001b[0m\u001b[0;34m.\u001b[0m\u001b[0m_datasource\u001b[0m\u001b[0;34m.\u001b[0m\u001b[0mopen\u001b[0m\u001b[0;34m(\u001b[0m\u001b[0mfname\u001b[0m\u001b[0;34m,\u001b[0m \u001b[0;34m'rt'\u001b[0m\u001b[0;34m,\u001b[0m \u001b[0mencoding\u001b[0m\u001b[0;34m=\u001b[0m\u001b[0mencoding\u001b[0m\u001b[0;34m)\u001b[0m\u001b[0;34m\u001b[0m\u001b[0;34m\u001b[0m\u001b[0m\n\u001b[0m\u001b[1;32m    969\u001b[0m             \u001b[0mfencoding\u001b[0m \u001b[0;34m=\u001b[0m \u001b[0mgetattr\u001b[0m\u001b[0;34m(\u001b[0m\u001b[0mfh\u001b[0m\u001b[0;34m,\u001b[0m \u001b[0;34m'encoding'\u001b[0m\u001b[0;34m,\u001b[0m \u001b[0;34m'latin1'\u001b[0m\u001b[0;34m)\u001b[0m\u001b[0;34m\u001b[0m\u001b[0;34m\u001b[0m\u001b[0m\n\u001b[1;32m    970\u001b[0m             \u001b[0mfh\u001b[0m \u001b[0;34m=\u001b[0m \u001b[0miter\u001b[0m\u001b[0;34m(\u001b[0m\u001b[0mfh\u001b[0m\u001b[0;34m)\u001b[0m\u001b[0;34m\u001b[0m\u001b[0;34m\u001b[0m\u001b[0m\n",
      "\u001b[0;32m/usr/local/lib/python3.7/site-packages/numpy/lib/_datasource.py\u001b[0m in \u001b[0;36mopen\u001b[0;34m(path, mode, destpath, encoding, newline)\u001b[0m\n\u001b[1;32m    267\u001b[0m \u001b[0;34m\u001b[0m\u001b[0m\n\u001b[1;32m    268\u001b[0m     \u001b[0mds\u001b[0m \u001b[0;34m=\u001b[0m \u001b[0mDataSource\u001b[0m\u001b[0;34m(\u001b[0m\u001b[0mdestpath\u001b[0m\u001b[0;34m)\u001b[0m\u001b[0;34m\u001b[0m\u001b[0;34m\u001b[0m\u001b[0m\n\u001b[0;32m--> 269\u001b[0;31m     \u001b[0;32mreturn\u001b[0m \u001b[0mds\u001b[0m\u001b[0;34m.\u001b[0m\u001b[0mopen\u001b[0m\u001b[0;34m(\u001b[0m\u001b[0mpath\u001b[0m\u001b[0;34m,\u001b[0m \u001b[0mmode\u001b[0m\u001b[0;34m,\u001b[0m \u001b[0mencoding\u001b[0m\u001b[0;34m=\u001b[0m\u001b[0mencoding\u001b[0m\u001b[0;34m,\u001b[0m \u001b[0mnewline\u001b[0m\u001b[0;34m=\u001b[0m\u001b[0mnewline\u001b[0m\u001b[0;34m)\u001b[0m\u001b[0;34m\u001b[0m\u001b[0;34m\u001b[0m\u001b[0m\n\u001b[0m\u001b[1;32m    270\u001b[0m \u001b[0;34m\u001b[0m\u001b[0m\n\u001b[1;32m    271\u001b[0m \u001b[0;34m\u001b[0m\u001b[0m\n",
      "\u001b[0;32m/usr/local/lib/python3.7/site-packages/numpy/lib/_datasource.py\u001b[0m in \u001b[0;36mopen\u001b[0;34m(self, path, mode, encoding, newline)\u001b[0m\n\u001b[1;32m    621\u001b[0m                                       encoding=encoding, newline=newline)\n\u001b[1;32m    622\u001b[0m         \u001b[0;32melse\u001b[0m\u001b[0;34m:\u001b[0m\u001b[0;34m\u001b[0m\u001b[0;34m\u001b[0m\u001b[0m\n\u001b[0;32m--> 623\u001b[0;31m             \u001b[0;32mraise\u001b[0m \u001b[0mIOError\u001b[0m\u001b[0;34m(\u001b[0m\u001b[0;34m\"%s not found.\"\u001b[0m \u001b[0;34m%\u001b[0m \u001b[0mpath\u001b[0m\u001b[0;34m)\u001b[0m\u001b[0;34m\u001b[0m\u001b[0;34m\u001b[0m\u001b[0m\n\u001b[0m\u001b[1;32m    624\u001b[0m \u001b[0;34m\u001b[0m\u001b[0m\n\u001b[1;32m    625\u001b[0m \u001b[0;34m\u001b[0m\u001b[0m\n",
      "\u001b[0;31mOSError\u001b[0m: /Users/mathieuleverge/git/chain_lumen/_data/patterning/osmotic/run0000/sim_nlum.dat not found."
     ]
    }
   ],
   "source": [
    "subsubdir = 'osmotic'\n",
    "Nt_constant = np.loadtxt(os.path.join(main_dir, subdir, subsubdir, 'run0000', 'sim_nlum.dat'))\n",
    "Nt_gauss = np.loadtxt(os.path.join(main_dir, subdir, subsubdir, 'run0001', 'sim_nlum.dat'))\n",
    "Nt_sig = np.loadtxt(os.path.join(main_dir, subdir, subsubdir, 'run0002', 'sim_nlum.dat'))\n",
    "Nt_rec = np.loadtxt(os.path.join(main_dir, subdir, subsubdir, 'run0003', 'sim_nlum.dat'))\n",
    "\n",
    "plt.figure(figsize=(6, 6))\n",
    "plt.xscale('log')\n",
    "plt.yscale('log')\n",
    "plt.plot(Nt_constant[:, 0], Nt_constant[:, 1], color = 'b', label = r'Constant, $\\Lambda_v = 10$')\n",
    "plt.plot(Nt_gauss[:, 0], Nt_gauss[:, 1], color = 'r', label = r'Gaussian')\n",
    "plt.plot(Nt_sig[:, 0], Nt_sig[:, 1], color = 'g', label = r'Sigmoide')\n",
    "plt.plot(Nt_rec[:, 0], Nt_rec[:, 1], color = 'orange', label = r'Rectangular')\n",
    "\n",
    "tp = np.logspace(0, 2, 101)\n",
    "kp, ap = 100., -1.\n",
    "plt.plot(tp, kp*tp**ap, label = r'$t^{-1}$', color='k', linestyle = '--')\n",
    "\n",
    "tc = np.logspace(-2, 0, 101)\n",
    "kc, ac = 10., -2./5.\n",
    "plt.plot(tc, kc*tc**ac, label = r'$t^{-2/5}$', color='k', linestyle = '-.')\n",
    "\n",
    "#plt.xlim(1e-2, 1e7)\n",
    "plt.xlabel('Time')\n",
    "plt.ylabel('N(t)')\n",
    "plt.legend()\n",
    "plt.show()\n",
    "\n"
   ]
  },
  {
   "cell_type": "code",
   "execution_count": 5,
   "metadata": {},
   "outputs": [
    {
     "name": "stdout",
     "output_type": "stream",
     "text": [
      "============================\n",
      "===== Constant pattern =====\n",
      "Coarsening events  :  88\n",
      "Coalescence events :  11\n",
      "----------------------------\n",
      "Total              :  99\n",
      "============================\n",
      "\n",
      "============================\n",
      "===== Gaussian pattern =====\n",
      "Coarsening events  :  98\n",
      "Coalescence events :  1\n",
      "----------------------------\n",
      "Total              :  99\n",
      "============================\n",
      "\n",
      "============================\n",
      "===== Sigmoide pattern =====\n",
      "Coarsening events  :  92\n",
      "Coalescence events :  6\n",
      "----------------------------\n",
      "Total              :  98\n",
      "============================\n",
      "\n",
      "===============================\n",
      "===== Rectangular pattern =====\n",
      "Coarsening events  :  95\n",
      "Coalescence events :  4\n",
      "-------------------------------\n",
      "Total              :  99\n",
      "===============================\n",
      "\n"
     ]
    }
   ],
   "source": [
    "constant_events = event_counter(os.path.join(main_dir, subdir, subsubdir, 'run0000', 'events.log'))\n",
    "gaussian_events = event_counter(os.path.join(main_dir, subdir, subsubdir, 'run0001', 'events.log'))\n",
    "sigmoide_events = event_counter(os.path.join(main_dir, subdir, subsubdir, 'run0002', 'events.log'))\n",
    "rectangular_events = event_counter(os.path.join(main_dir, subdir, subsubdir, 'run0003', 'events.log'))\n",
    "\n",
    "print_outcomes(constant_events, tablename='Constant pattern')\n",
    "print_outcomes(gaussian_events, tablename='Gaussian pattern')\n",
    "print_outcomes(sigmoide_events, tablename='Sigmoide pattern')\n",
    "print_outcomes(rectangular_events, tablename='Rectangular pattern')"
   ]
  },
  {
   "cell_type": "markdown",
   "metadata": {},
   "source": [
    "# Patterns\n",
    "We assume the chain is contained within $x \\in [0, L_{tot}]$ and has a given pumping function imposed, $f(x)$. We want to compute the total pumping over the chain, ie calculate the integral of the functions over interval $[x_{\\min}, x_{\\max}]$, such that\n",
    "$$I(x_\\min, x_\\max ; \\vec{\\theta}) = \\int_{x_\\min}^{x_\\max} dx f(x ; \\vec{\\theta}) $$\n",
    "\n",
    "where $\\vec{\\theta}$ is a set of parameters of the function.\n",
    "\n",
    "## Constant\n",
    "The constant function is given by\n",
    "$$\\forall x \\in [x_{\\min}, x_{\\max}], f(x;cte) = cte$$\n",
    "Thus, integrating, we simply have\n",
    "$$\\boxed{I(x_\\min, x_\\max ; cte) = cte.(x_\\max - x_\\min)}$$\n",
    "\n",
    "## Gaussian\n",
    "The gaussian is parametrized with three parameters :\n",
    "$$\\forall x \\in [x_{\\min}, x_{\\max}], f(x;A, \\mu, \\sigma) = A.\\exp \\left[ - \\frac{(x-\\mu)^2}{\\sigma^2} \\right]$$\n",
    "with $A$ the amplitude, $\\mu$ the average and $\\sigma$ the standard deviation. The integral is thus\n",
    "$$\\boxed{I_{G}(x_\\min, x_\\max ; A, \\mu, \\sigma) = A.\\sigma \\left[ \\rm{erf}(\\sigma.x_\\max) - \\rm{erf} (\\sigma.x_\\min)\\right]}$$\n",
    "where $\\rm{erf}$ is the error function, defined as\n",
    "$$\\rm{erf}(x) = \\int_0^x e^{-t^2}dt $$\n",
    "\n",
    "## Sigmoide\n",
    "The sigmoide is parametrized as a logistic function, with four parameters :\n",
    "$$\\forall x \\in [x_{\\min}, x_{\\max}], f(x;f_\\min, f_\\max, s, \\mu) = f_\\min + \\frac{f_\\max - f_\\min}{1+e^{-s.(x-\\mu)}}$$\n",
    "with $\\mu$ the inflexion point position on the x-axis, $s$ the slope of the curve, $f_\\min$ (resp. $f_\\max$) the minimum (resp. maximum) of the sigmoide. Its integral is given by\n",
    "$$\\boxed{I_{S}(x_\\min, x_\\max ; f_\\min, f_\\max, \\mu, s) = f_\\min.(x_\\max-x_\\min) + \\frac{f_\\max - f_\\min}{s}.\\left[ \\log\\left(\\frac{y_2+1}{y_1+1}\\right) - \\log\\left(\\frac{y_2}{y_1}\\right)  \\right]}$$\n",
    "where $y_{1, 2} = e^{-s(x_{1, 2} - \\mu)}$.\n",
    "\n",
    "## Rectangular\n",
    "The rectangular function is parametrized with four parameters :\n",
    "$$\\forall x \\in [x_{\\min}, x_{\\max}], f(x;f_\\min, f_\\max, a, b) = \\begin{cases}f_\\max &, a \\leq x \\leq b\\\\\n",
    "f_\\min &, else\\end{cases}$$a\n",
    "assuming $x_\\min \\leq a \\leq b \\leq x_max$. Its integral is given by\n",
    "$$\\boxed{I_{R}(x_\\min, x_\\max ; f_\\min, f_\\max, \\mu, s) = f_\\min.(x_\\max-x_\\min) + (b-a).(f_\\max-f_\\min)}$$\n",
    "\n",
    "# Parameters\n",
    "We will denote $x_\\max - x_\\min = \\Delta x$\n",
    "## Gaussian\n",
    "We assume the parameters $\\mu$ and $\\sigma$ are given. To have $I = I_G$, we need $A$ to be\n",
    "\n",
    "$$ A = \\frac{cte.\\Delta x}{\\sigma.\\left[ \\rm{erf}(\\sigma x_\\max) - \\rm{erf}(\\sigma x_\\min)\\right]}$$\n",
    "\n",
    "## Rectangular\n",
    "We assume the parameters $f_\\min$ and $f_\\max$ are given. We denote $b-a = w$. To have $I_R = I$, we need $w$ to be\n",
    "\n",
    "$$w = \\frac{\\Delta x}{f_\\max - f_\\min} \\left[cte - f_\\min \\right]$$ \n",
    "\n",
    "## Sigmoide\n",
    "We assume the parameters $s$ and $\\mu$ are given. \n",
    "- We assume $f_\\max$ is given. Then, $f_\\min$ must be\n",
    "$$f_\\min = f_\\max + s.\\Delta x \\frac{(f_\\max-cte)}{\\log\\left[\\frac{y_2+1}{y_1+1}\\right]} $$\n",
    "- We assume $f_\\min$ is given. Then $f_\\max$ must be\n",
    "$$f_\\max = \\frac{s.cte.\\Delta x + f_\\min \\log\\left[ \\frac{1+y_2}{1+y_1}\\right]}{s \\Delta x + \\log \\left[\\frac{1+y_2}{1+y_1}\\right]}$$"
   ]
  },
  {
   "cell_type": "code",
   "execution_count": 3,
   "metadata": {},
   "outputs": [],
   "source": [
    "def A_gaussian(cte, xmin,  xmax, sigma) :\n",
    "    return cte*(xmax-xmin) / (sigma* (erf(sigma*xmax) - erf(sigma*xmin)))\n",
    "\n",
    "def w_rectangular(cte, xmin,  xmax, fmin, fmax) :\n",
    "    return (xmax - xmin) * (cte - fmin) / (fmax - fmin)\n",
    "\n",
    "def fmin_sigmoide(cte, xmin, xmax, s, mu, fmax) :\n",
    "    y1 = np.exp(-s*(xmin-mu))\n",
    "    y2 = np.exp(-s*(xmax-mu))\n",
    "    return fmax + s*(xmax-xmin)*(fmax - cte) / np.log((y2+1)/(y1+1))\n",
    "\n",
    "def fmax_sigmoide(cte, xmin, xmax, s, mu, fmin) :\n",
    "    y1 = np.exp(-s*(xmin-mu))\n",
    "    y2 = np.exp(-s*(xmax-mu))\n",
    "    return (s*cte*(xmax-xmin) + fmin*np.log((1+y2)/(1+y1)) ) / (s*(xmax-xmin) + np.log((1+y2)/(1+y1)))"
   ]
  },
  {
   "cell_type": "code",
   "execution_count": 4,
   "metadata": {},
   "outputs": [
    {
     "name": "stdout",
     "output_type": "stream",
     "text": [
      "354.75189435524345\n",
      "0.09999999999999999\n",
      "-8.0\n",
      "1.9999999999999993\n"
     ]
    }
   ],
   "source": [
    "N = 100\n",
    "bridges_borders = 200\n",
    "Lt = 2*bridges_borders + 1*N + 10*(N-1)\n",
    "\n",
    "cte=1.\n",
    "xmin, xmax = bridges_borders/Lt, (Lt-bridges_borders)/Lt\n",
    "print(A_gaussian(cte=cte, xmin=xmin, xmax=xmax, sigma=0.05 ))\n",
    "print(w_rectangular(cte=cte, xmin=xmin, xmax=xmax, fmin=0., fmax=10.)/(xmax-xmin))\n",
    "print(fmin_sigmoide(cte=cte, xmin=xmin, xmax=xmax, s=50., mu=0.5, fmax=10.))\n",
    "print(fmax_sigmoide(cte=cte, xmin=xmin, xmax=xmax, s=1., mu=0.5, fmin=0.))"
   ]
  },
  {
   "cell_type": "code",
   "execution_count": 5,
   "metadata": {},
   "outputs": [
    {
     "ename": "NameError",
     "evalue": "name 'subsubdir' is not defined",
     "output_type": "error",
     "traceback": [
      "\u001b[0;31m---------------------------------------------------------------------------\u001b[0m",
      "\u001b[0;31mNameError\u001b[0m                                 Traceback (most recent call last)",
      "\u001b[0;32m<ipython-input-5-bb66daaa321f>\u001b[0m in \u001b[0;36m<module>\u001b[0;34m\u001b[0m\n\u001b[1;32m      1\u001b[0m \u001b[0mplt\u001b[0m\u001b[0;34m.\u001b[0m\u001b[0mfigure\u001b[0m\u001b[0;34m(\u001b[0m\u001b[0mfigsize\u001b[0m\u001b[0;34m=\u001b[0m\u001b[0;34m(\u001b[0m\u001b[0;36m6\u001b[0m\u001b[0;34m,\u001b[0m\u001b[0;36m6\u001b[0m\u001b[0;34m)\u001b[0m\u001b[0;34m)\u001b[0m\u001b[0;34m\u001b[0m\u001b[0;34m\u001b[0m\u001b[0m\n\u001b[1;32m      2\u001b[0m \u001b[0;34m\u001b[0m\u001b[0m\n\u001b[0;32m----> 3\u001b[0;31m \u001b[0mconf\u001b[0m\u001b[0;34m,\u001b[0m \u001b[0mch\u001b[0m \u001b[0;34m=\u001b[0m \u001b[0mchain\u001b[0m\u001b[0;34m.\u001b[0m\u001b[0mload_config\u001b[0m\u001b[0;34m(\u001b[0m\u001b[0mos\u001b[0m\u001b[0;34m.\u001b[0m\u001b[0mpath\u001b[0m\u001b[0;34m.\u001b[0m\u001b[0mjoin\u001b[0m\u001b[0;34m(\u001b[0m\u001b[0mmain_dir\u001b[0m\u001b[0;34m,\u001b[0m \u001b[0msubdir\u001b[0m\u001b[0;34m,\u001b[0m \u001b[0msubsubdir\u001b[0m\u001b[0;34m,\u001b[0m \u001b[0;34m'run0000'\u001b[0m\u001b[0;34m,\u001b[0m \u001b[0;34m'config.conf'\u001b[0m\u001b[0;34m)\u001b[0m\u001b[0;34m)\u001b[0m\u001b[0;34m\u001b[0m\u001b[0;34m\u001b[0m\u001b[0m\n\u001b[0m\u001b[1;32m      4\u001b[0m \u001b[0mlum_0\u001b[0m \u001b[0;34m=\u001b[0m \u001b[0mnp\u001b[0m\u001b[0;34m.\u001b[0m\u001b[0marray\u001b[0m\u001b[0;34m(\u001b[0m\u001b[0;34m[\u001b[0m\u001b[0;34m[\u001b[0m\u001b[0mch\u001b[0m\u001b[0;34m.\u001b[0m\u001b[0mlumens_dict\u001b[0m\u001b[0;34m[\u001b[0m\u001b[0mk\u001b[0m\u001b[0;34m]\u001b[0m\u001b[0;34m.\u001b[0m\u001b[0mpos\u001b[0m\u001b[0;34m,\u001b[0m \u001b[0mch\u001b[0m\u001b[0;34m.\u001b[0m\u001b[0mlumens_dict\u001b[0m\u001b[0;34m[\u001b[0m\u001b[0mk\u001b[0m\u001b[0;34m]\u001b[0m\u001b[0;34m.\u001b[0m\u001b[0mca\u001b[0m\u001b[0;34m]\u001b[0m \u001b[0;32mfor\u001b[0m \u001b[0mk\u001b[0m \u001b[0;32min\u001b[0m \u001b[0mch\u001b[0m\u001b[0;34m.\u001b[0m\u001b[0mlumens_dict\u001b[0m\u001b[0;34m.\u001b[0m\u001b[0mkeys\u001b[0m\u001b[0;34m(\u001b[0m\u001b[0;34m)\u001b[0m\u001b[0;34m]\u001b[0m\u001b[0;34m)\u001b[0m\u001b[0;34m\u001b[0m\u001b[0;34m\u001b[0m\u001b[0m\n\u001b[1;32m      5\u001b[0m \u001b[0mposbr_0\u001b[0m \u001b[0;34m=\u001b[0m \u001b[0mch\u001b[0m\u001b[0;34m.\u001b[0m\u001b[0m__bridges_pos_list__\u001b[0m\u001b[0;34m(\u001b[0m\u001b[0;34m)\u001b[0m\u001b[0;34m\u001b[0m\u001b[0;34m\u001b[0m\u001b[0m\n",
      "\u001b[0;31mNameError\u001b[0m: name 'subsubdir' is not defined"
     ]
    },
    {
     "data": {
      "text/plain": [
       "<Figure size 432x432 with 0 Axes>"
      ]
     },
     "metadata": {},
     "output_type": "display_data"
    }
   ],
   "source": [
    "plt.figure(figsize=(6,6))\n",
    "\n",
    "conf, ch = chain.load_config(os.path.join(main_dir, subdir, subsubdir, 'run0000', 'config.conf'))\n",
    "lum_0 = np.array([[ch.lumens_dict[k].pos, ch.lumens_dict[k].ca] for k in ch.lumens_dict.keys()])\n",
    "posbr_0 = ch.__bridges_pos_list__()\n",
    "br_0 = np.array([[posbr_0[b], ch.bridges_dict[b].ca] for b in ch.bridges_dict.keys()])\n",
    "\n",
    "plt.plot(br_0[:, 0], br_0[:, 1], linewidth=0, marker='o')\n",
    "plt.plot(lum_0[:, 0], lum_0[:, 1], linewidth=0, marker='x')\n",
    "\n",
    "# == GAUSSIAN\n",
    "conf, ch = chain.load_config(os.path.join(main_dir, subdir, subsubdir, 'run0001', 'config.conf'))\n",
    "lum_1 = np.array([[ch.lumens_dict[k].pos, ch.lumens_dict[k].ca] for k in ch.lumens_dict.keys()])\n",
    "posbr_1 = ch.__bridges_pos_list__()\n",
    "br_1 = np.array([[posbr_1[b], ch.bridges_dict[b].ca] for b in ch.bridges_dict.keys()])\n",
    "\n",
    "plt.plot(br_1[:, 0], br_1[:, 1], linewidth=0, marker='o')\n",
    "plt.plot(lum_1[:, 0], lum_1[:, 1], linewidth=0, marker='+')\n",
    "\n",
    "# == SIGMOIDE\n",
    "conf, ch = chain.load_config(os.path.join(main_dir, subdir, subsubdir, 'run0002', 'config.conf'))\n",
    "lum_2 = np.array([[ch.lumens_dict[k].pos, ch.lumens_dict[k].ca] for k in ch.lumens_dict.keys()])\n",
    "posbr_2 = ch.__bridges_pos_list__()\n",
    "br_2 = np.array([[posbr_0[b], ch.bridges_dict[b].ca] for b in ch.bridges_dict.keys()])\n",
    "\n",
    "plt.plot(br_2[:, 0], br_2[:, 1], linewidth=0, marker='o')\n",
    "plt.plot(lum_2[:, 0], lum_2[:, 1], linewidth=0, marker='x')\n",
    "\n",
    "# == RECTANGULAR\n",
    "conf, ch = chain.load_config(os.path.join(main_dir, subdir, subsubdir, 'run0003', 'config.conf'))\n",
    "lum_3 = np.array([[ch.lumens_dict[k].pos, ch.lumens_dict[k].ca] for k in ch.lumens_dict.keys()])\n",
    "posbr_3 = ch.__bridges_pos_list__()\n",
    "br_3 = np.array([[posbr_3[b], ch.bridges_dict[b].ca] for b in ch.bridges_dict.keys()])\n",
    "\n",
    "plt.plot(br_3[:, 0], br_3[:, 1], linewidth=0, marker='s')\n",
    "plt.plot(lum_3[:, 0], lum_3[:, 1], linewidth=0, marker='<')\n",
    "\n",
    "print(np.sum(lum_0[:, 1])+np.sum(br_0[:, 1]))\n",
    "print(np.sum(lum_1[:, 1])+np.sum(br_1[:, 1]))\n",
    "print(np.sum(lum_2[:, 1])+np.sum(br_2[:, 1]))\n",
    "print(np.sum(lum_3[:, 1])+np.sum(br_3[:, 1]))\n"
   ]
  },
  {
   "cell_type": "code",
   "execution_count": 10,
   "metadata": {},
   "outputs": [
    {
     "name": "stdout",
     "output_type": "stream",
     "text": [
      "Import successful !\n"
     ]
    },
    {
     "ename": "ValueError",
     "evalue": "not enough values to unpack (expected 3, got 2)",
     "output_type": "error",
     "traceback": [
      "\u001b[0;31m---------------------------------------------------------------------------\u001b[0m",
      "\u001b[0;31mValueError\u001b[0m                                Traceback (most recent call last)",
      "\u001b[0;32m<ipython-input-10-07647b53e0a0>\u001b[0m in \u001b[0;36m<module>\u001b[0;34m\u001b[0m\n\u001b[1;32m      1\u001b[0m \u001b[0mpath\u001b[0m \u001b[0;34m=\u001b[0m \u001b[0mos\u001b[0m\u001b[0;34m.\u001b[0m\u001b[0mpath\u001b[0m\u001b[0;34m.\u001b[0m\u001b[0mjoin\u001b[0m\u001b[0;34m(\u001b[0m\u001b[0mmain_dir\u001b[0m\u001b[0;34m,\u001b[0m \u001b[0msubdir\u001b[0m\u001b[0;34m,\u001b[0m \u001b[0msubsubdir\u001b[0m\u001b[0;34m,\u001b[0m \u001b[0;34m'run0003'\u001b[0m\u001b[0;34m)\u001b[0m\u001b[0;34m\u001b[0m\u001b[0;34m\u001b[0m\u001b[0m\n\u001b[1;32m      2\u001b[0m \u001b[0;34m\u001b[0m\u001b[0m\n\u001b[0;32m----> 3\u001b[0;31m \u001b[0mL\u001b[0m\u001b[0;34m,\u001b[0m \u001b[0mpos\u001b[0m\u001b[0;34m,\u001b[0m \u001b[0mca_l\u001b[0m \u001b[0;34m=\u001b[0m \u001b[0mtools\u001b[0m\u001b[0;34m.\u001b[0m\u001b[0mload_file\u001b[0m\u001b[0;34m(\u001b[0m\u001b[0mos\u001b[0m\u001b[0;34m.\u001b[0m\u001b[0mpath\u001b[0m\u001b[0;34m.\u001b[0m\u001b[0mjoin\u001b[0m\u001b[0;34m(\u001b[0m\u001b[0mpath\u001b[0m\u001b[0;34m,\u001b[0m \u001b[0;34m'sim_all.dat'\u001b[0m\u001b[0;34m)\u001b[0m\u001b[0;34m,\u001b[0m \u001b[0mhydroosmotic\u001b[0m\u001b[0;34m=\u001b[0m\u001b[0;32mFalse\u001b[0m\u001b[0;34m)\u001b[0m\u001b[0;34m\u001b[0m\u001b[0;34m\u001b[0m\u001b[0m\n\u001b[0m\u001b[1;32m      4\u001b[0m \u001b[0mell\u001b[0m \u001b[0;34m=\u001b[0m \u001b[0mtools\u001b[0m\u001b[0;34m.\u001b[0m\u001b[0mload_brfile\u001b[0m\u001b[0;34m(\u001b[0m\u001b[0mos\u001b[0m\u001b[0;34m.\u001b[0m\u001b[0mpath\u001b[0m\u001b[0;34m.\u001b[0m\u001b[0mjoin\u001b[0m\u001b[0;34m(\u001b[0m\u001b[0mpath\u001b[0m\u001b[0;34m,\u001b[0m \u001b[0;34m'sim_bridges.dat'\u001b[0m\u001b[0;34m)\u001b[0m\u001b[0;34m)\u001b[0m\u001b[0;34m\u001b[0m\u001b[0;34m\u001b[0m\u001b[0m\n\u001b[1;32m      5\u001b[0m \u001b[0;34m\u001b[0m\u001b[0m\n",
      "\u001b[0;31mValueError\u001b[0m: not enough values to unpack (expected 3, got 2)"
     ]
    }
   ],
   "source": [
    "path = os.path.join(main_dir, subdir, subsubdir, 'run0003')\n",
    "\n",
    "L, pos, ca_l = tools.load_file(os.path.join(path, 'sim_all.dat'), hydroosmotic=False)\n",
    "ell = tools.load_brfile(os.path.join(path, 'sim_bridges.dat'))\n",
    "\n",
    "#savename = os.path.join(main_dir, '_data/osmotic_competition/osmotic_eq/no_screening/graphs.eps')\n",
    "\n",
    "show_area=0\n",
    "savefig=False\n",
    "x_log=1\n",
    "y_log=1\n",
    "\n",
    "tools.plot_evolution_hydraulic(L, ell, savename='', show_totalarea=show_area, savefig=savefig, x_logscale=x_log, y_logscale=y_log, figsize=(12, 6))\n",
    "\n",
    "\n"
   ]
  },
  {
   "cell_type": "markdown",
   "metadata": {},
   "source": [
    "# End position"
   ]
  },
  {
   "cell_type": "code",
   "execution_count": 6,
   "metadata": {},
   "outputs": [],
   "source": [
    "def import_endfile(folder, filename='end_chain.dat') :\n",
    "    f = open(os.path.join(folder, filename), 'r')\n",
    "    L = f.readlines()\n",
    "    for line in L :\n",
    "        splitted_line = line.split(' ')\n",
    "        if line.startswith('Total length') :\n",
    "            total_length = float(splitted_line[3])\n",
    "            \n",
    "        elif line.startswith('Lumen') and splitted_line[1] != '0' and splitted_line[1] != '-1' :\n",
    "            #print(line)\n",
    "            index = int(splitted_line[1])\n",
    "            pos = float(splitted_line[5])\n",
    "            length = float(splitted_line[8])\n",
    "            nions = float(splitted_line[10])\n",
    "            theta = np.pi/3.\n",
    "            eps = 1e-3\n",
    "            ca = float(splitted_line[14])\n",
    "            lumen = lc.Osmotic_Lumen(index, pos, length, nions, theta, eps, ca)\n",
    "    f.close()\n",
    "    return lumen, total_length        \n",
    "    \n",
    "def calc_wpos(fold) :\n",
    "    wpos = []\n",
    "    #for i in range(nsim) :\n",
    "    for elem in os.listdir(fold) :\n",
    "        if elem.startswith('end_chain') :\n",
    "            #print(fold)\n",
    "            #folder = os.path.join(fold, elem)\n",
    "            lumen, total_length = import_endfile(fold, filename=elem)\n",
    "\n",
    "            wpos += [lumen.pos / total_length]\n",
    "    return wpos\n",
    "\n",
    "def calc_wlength(fold) :\n",
    "    wlength = []\n",
    "    for elem in os.listdir(fold) :\n",
    "        if elem.startswith('run') :\n",
    "            folder = os.path.join(fold, elem)\n",
    "            lumen, total_length = import_endfile(folder)\n",
    "        \n",
    "            wlength += [lumen.length / total_length]\n",
    "    return wlength"
   ]
  },
  {
   "cell_type": "code",
   "execution_count": 7,
   "metadata": {},
   "outputs": [],
   "source": [
    "def import_pumping_params(folder) :\n",
    "    params = []\n",
    "    f = open(os.path.join(folder, 'config.conf.tpl'), 'r').readlines()\n",
    "    for line in f :\n",
    "        if line.startswith('param') :\n",
    "            splitted_line = line.split(' ')\n",
    "            params += [float(splitted_line[2])]\n",
    "            \n",
    "    return params\n",
    "\n",
    "def gaussian(x, amp, mu, sigma, threshold) :\n",
    "    return amp*np.exp(-(x-mu)**2/sigma**2) + threshold\n",
    "\n",
    "\n",
    "def make_hist(array, bins) :\n",
    "    weights=np.ones_like(array)/float(len(array))\n",
    "    ypos, xpos = np.histogram(array, bins=bins, weights=weights)\n",
    "    xpos = 0.5*(xpos[1:] + xpos[:-1])\n",
    "    return xpos, ypos\n"
   ]
  },
  {
   "cell_type": "code",
   "execution_count": 12,
   "metadata": {},
   "outputs": [],
   "source": [
    "subsubdir = 'osmotic'"
   ]
  },
  {
   "cell_type": "code",
   "execution_count": 75,
   "metadata": {},
   "outputs": [
    {
     "name": "stdout",
     "output_type": "stream",
     "text": [
      "0.0 1000\n",
      "1.0 1000\n",
      "0.5 100\n"
     ]
    }
   ],
   "source": [
    "L_dir = os.listdir(join(main_dir, subdir, subsubdir))\n",
    "\n",
    "cstepump = {}\n",
    "gaussianpump = {}\n",
    "\n",
    "bins = 15\n",
    "\n",
    "for elem in L_dir :\n",
    "    if elem.startswith('cstepump') :\n",
    "        val = float(elem[len('cstepump'):])\n",
    "        folder = join(main_dir, subdir, subsubdir, elem)\n",
    "        winner_pos = calc_wpos(folder)\n",
    "        params = import_pumping_params(folder)\n",
    "        cstepump[val] = [make_hist(winner_pos, bins), params]\n",
    "        print(val, len(winner_pos))\n",
    "    elif elem.startswith('gaussianpump') :\n",
    "        1"
   ]
  },
  {
   "cell_type": "code",
   "execution_count": 76,
   "metadata": {
    "scrolled": true
   },
   "outputs": [
    {
     "name": "stdout",
     "output_type": "stream",
     "text": [
      "0.0\n",
      "1.0\n",
      "0.5\n"
     ]
    },
    {
     "data": {
      "image/png": "[encoded data removed]",
      "text/plain": [
       "<Figure size 432x288 with 1 Axes>"
      ]
     },
     "metadata": {
      "needs_background": "light"
     },
     "output_type": "display_data"
    }
   ],
   "source": [
    "for k in cstepump.keys() :\n",
    "    print(k)\n",
    "    xpos, ypos = cstepump[k][0]\n",
    "    plt.plot(xpos, ypos, label = 'cste'+str(k))\n",
    "    \n",
    "plt.xlim(0., 1.)    \n",
    "    \n",
    "plt.legend()\n",
    "plt.show()"
   ]
  },
  {
   "cell_type": "code",
   "execution_count": null,
   "metadata": {},
   "outputs": [],
   "source": []
  },
  {
   "cell_type": "code",
   "execution_count": 68,
   "metadata": {},
   "outputs": [],
   "source": [
    "def profile(x, fmin=0., amp=1., mu=0.5, sigma=0.05) :\n",
    "    return fmin+amp*np.exp(-(x-mu)**2/(sigma**2))"
   ]
  },
  {
   "cell_type": "code",
   "execution_count": 69,
   "metadata": {},
   "outputs": [
    {
     "data": {
      "text/plain": [
       "[<matplotlib.lines.Line2D at 0x125887950>]"
      ]
     },
     "execution_count": 69,
     "metadata": {},
     "output_type": "execute_result"
    },
    {
     "data": {
      "image/png": "[encoded data removed]",
      "text/plain": [
       "<Figure size 432x288 with 1 Axes>"
      ]
     },
     "metadata": {
      "needs_background": "light"
     },
     "output_type": "display_data"
    }
   ],
   "source": [
    "x = np.linspace(0., 1., 101)\n",
    "pr = profile(x)\n",
    "plt.plot(x, pr)\n"
   ]
  },
  {
   "cell_type": "code",
   "execution_count": null,
   "metadata": {},
   "outputs": [],
   "source": []
  }
 ],
 "metadata": {
  "kernelspec": {
   "display_name": "Python 3",
   "language": "python",
   "name": "python3"
  },
  "language_info": {
   "codemirror_mode": {
    "name": "ipython",
    "version": 3
   },
   "file_extension": ".py",
   "mimetype": "text/x-python",
   "name": "python",
   "nbconvert_exporter": "python",
   "pygments_lexer": "ipython3",
   "version": "3.7.4"
  }
 },
 "nbformat": 4,
 "nbformat_minor": 2
}
