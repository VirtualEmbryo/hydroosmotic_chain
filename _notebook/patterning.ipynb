{
 "cells": [
  {
   "cell_type": "code",
   "execution_count": 2,
   "metadata": {},
   "outputs": [],
   "source": [
    "import numpy as np\n",
    "import matplotlib.pyplot as plt\n",
    "from scipy.special import erf\n",
    "\n",
    "import os\n",
    "from os.path import join\n",
    "import sys\n",
    "\n",
    "module_path = os.path.abspath(os.path.join('..'))\n",
    "\n",
    "if module_path not in sys.path :\n",
    "    sys.path.append(module_path)\n",
    "\n",
    "    \n",
    "import _ressources.chain as chain\n",
    "import _ressources.tools as tools\n",
    "import _ressources.lumenclass as lc\n",
    "import _ressources.configreader as configreader\n",
    "\n",
    "#main_dir = '/Users/mathieuleverge/git/chain_lumen/_data/hydrosmotic_hydraulic/versus/N1000_hydraulic/'\n",
    "main_dir = '/Users/mathieuleverge/git/chain_lumen/_data/'\n",
    "subdir = 'patterning'\n",
    "mu = (np.sin(np.pi/3.))**2 / (2*np.pi/3. - np.sin(2*np.pi/3.))"
   ]
  },
  {
   "cell_type": "code",
   "execution_count": 3,
   "metadata": {},
   "outputs": [],
   "source": [
    "def event_counter(filename) :\n",
    "    events = open(filename, 'r').read()\n",
    "    Nmerge = events.count('merge')\n",
    "    Ndis = events.count('disappears')\n",
    "    return Ndis, Nmerge\n",
    "\n",
    "def print_outcomes(events, tablename='') :\n",
    "    if len(tablename) > 0 :\n",
    "        s = '='*5 + ' ' + tablename + ' ' + '='*5\n",
    "        print('='*len(s))\n",
    "        print(s)\n",
    "    else :\n",
    "        s = '='*30\n",
    "        print(s)\n",
    "    print('Coarsening events  : ', events[0])\n",
    "    print('Coalescence events : ', events[1])\n",
    "    print('-'*len(s))\n",
    "    print('Total              : ', events[0]+events[1])\n",
    "    print('='*len(s))\n",
    "    print('')"
   ]
  },
  {
   "cell_type": "markdown",
   "metadata": {},
   "source": [
    "# Patterns\n",
    "We assume the chain is contained within $x \\in [0, L_{tot}]$ and has a given pumping function imposed, $f(x)$. We want to compute the total pumping over the chain, ie calculate the integral of the functions over interval $[x_{\\min}, x_{\\max}]$, such that\n",
    "$$I(x_\\min, x_\\max ; \\vec{\\theta}) = \\int_{x_\\min}^{x_\\max} dx f(x ; \\vec{\\theta}) $$\n",
    "\n",
    "where $\\vec{\\theta}$ is a set of parameters of the function.\n",
    "\n",
    "## Constant\n",
    "The constant function is given by\n",
    "$$\\forall x \\in [x_{\\min}, x_{\\max}], f(x;cte) = cte$$\n",
    "Thus, integrating, we simply have\n",
    "$$\\boxed{I(x_\\min, x_\\max ; cte) = cte.(x_\\max - x_\\min)}$$\n",
    "\n",
    "## Gaussian\n",
    "The gaussian is parametrized with three parameters :\n",
    "$$\\forall x \\in [x_{\\min}, x_{\\max}], f(x;A, \\mu, \\sigma) = A.\\exp \\left[ - \\frac{(x-\\mu)^2}{\\sigma^2} \\right]$$\n",
    "with $A$ the amplitude, $\\mu$ the average and $\\sigma$ the standard deviation. The integral is thus\n",
    "$$\\boxed{I_{G}(x_\\min, x_\\max ; A, \\mu, \\sigma) = A.\\sigma \\left[ \\rm{erf}(\\sigma.x_\\max) - \\rm{erf} (\\sigma.x_\\min)\\right]}$$\n",
    "where $\\rm{erf}$ is the error function, defined as\n",
    "$$\\rm{erf}(x) = \\int_0^x e^{-t^2}dt $$\n",
    "\n",
    "## Sigmoide\n",
    "The sigmoide is parametrized as a logistic function, with four parameters :\n",
    "$$\\forall x \\in [x_{\\min}, x_{\\max}], f(x;f_\\min, f_\\max, s, \\mu) = f_\\min + \\frac{f_\\max - f_\\min}{1+e^{-s.(x-\\mu)}}$$\n",
    "with $\\mu$ the inflexion point position on the x-axis, $s$ the slope of the curve, $f_\\min$ (resp. $f_\\max$) the minimum (resp. maximum) of the sigmoide. Its integral is given by\n",
    "$$\\boxed{I_{S}(x_\\min, x_\\max ; f_\\min, f_\\max, \\mu, s) = f_\\min.(x_\\max-x_\\min) + \\frac{f_\\max - f_\\min}{s}.\\left[ \\log\\left(\\frac{y_2+1}{y_1+1}\\right) - \\log\\left(\\frac{y_2}{y_1}\\right)  \\right]}$$\n",
    "where $y_{1, 2} = e^{-s(x_{1, 2} - \\mu)}$.\n",
    "\n",
    "## Rectangular\n",
    "The rectangular function is parametrized with four parameters :\n",
    "$$\\forall x \\in [x_{\\min}, x_{\\max}], f(x;f_\\min, f_\\max, a, b) = \\begin{cases}f_\\max &, a \\leq x \\leq b\\\\\n",
    "f_\\min &, else\\end{cases}$$a\n",
    "assuming $x_\\min \\leq a \\leq b \\leq x_max$. Its integral is given by\n",
    "$$\\boxed{I_{R}(x_\\min, x_\\max ; f_\\min, f_\\max, \\mu, s) = f_\\min.(x_\\max-x_\\min) + (b-a).(f_\\max-f_\\min)}$$\n",
    "\n",
    "# Parameters\n",
    "We will denote $x_\\max - x_\\min = \\Delta x$\n",
    "## Gaussian\n",
    "We assume the parameters $\\mu$ and $\\sigma$ are given. To have $I = I_G$, we need $A$ to be\n",
    "\n",
    "$$ A = \\frac{cte.\\Delta x}{\\sigma.\\left[ \\rm{erf}(\\sigma x_\\max) - \\rm{erf}(\\sigma x_\\min)\\right]}$$\n",
    "\n",
    "## Rectangular\n",
    "We assume the parameters $f_\\min$ and $f_\\max$ are given. We denote $b-a = w$. To have $I_R = I$, we need $w$ to be\n",
    "\n",
    "$$w = \\frac{\\Delta x}{f_\\max - f_\\min} \\left[cte - f_\\min \\right]$$ \n",
    "\n",
    "## Sigmoide\n",
    "We assume the parameters $s$ and $\\mu$ are given. \n",
    "- We assume $f_\\max$ is given. Then, $f_\\min$ must be\n",
    "$$f_\\min = f_\\max + s.\\Delta x \\frac{(f_\\max-cte)}{\\log\\left[\\frac{y_2+1}{y_1+1}\\right]} $$\n",
    "- We assume $f_\\min$ is given. Then $f_\\max$ must be\n",
    "$$f_\\max = \\frac{s.cte.\\Delta x + f_\\min \\log\\left[ \\frac{1+y_2}{1+y_1}\\right]}{s \\Delta x + \\log \\left[\\frac{1+y_2}{1+y_1}\\right]}$$"
   ]
  },
  {
   "cell_type": "code",
   "execution_count": 4,
   "metadata": {},
   "outputs": [],
   "source": [
    "def A_gaussian(cte, xmin,  xmax, sigma) :\n",
    "    return cte*(xmax-xmin) / (sigma* (erf(sigma*xmax) - erf(sigma*xmin)))\n",
    "\n",
    "def w_rectangular(cte, xmin,  xmax, fmin, fmax) :\n",
    "    return (xmax - xmin) * (cte - fmin) / (fmax - fmin)\n",
    "\n",
    "def fmin_sigmoide(cte, xmin, xmax, s, mu, fmax) :\n",
    "    y1 = np.exp(-s*(xmin-mu))\n",
    "    y2 = np.exp(-s*(xmax-mu))\n",
    "    return fmax + s*(xmax-xmin)*(fmax - cte) / np.log((y2+1)/(y1+1))\n",
    "\n",
    "def fmax_sigmoide(cte, xmin, xmax, s, mu, fmin) :\n",
    "    y1 = np.exp(-s*(xmin-mu))\n",
    "    y2 = np.exp(-s*(xmax-mu))\n",
    "    return (s*cte*(xmax-xmin) + fmin*np.log((1+y2)/(1+y1)) ) / (s*(xmax-xmin) + np.log((1+y2)/(1+y1)))"
   ]
  },
  {
   "cell_type": "code",
   "execution_count": 5,
   "metadata": {},
   "outputs": [
    {
     "name": "stdout",
     "output_type": "stream",
     "text": [
      "354.75189435524345\n",
      "0.09999999999999999\n",
      "-8.0\n",
      "1.9999999999999993\n"
     ]
    }
   ],
   "source": [
    "N = 100\n",
    "bridges_borders = 200\n",
    "Lt = 2*bridges_borders + 1*N + 10*(N-1)\n",
    "\n",
    "cte=1.\n",
    "xmin, xmax = bridges_borders/Lt, (Lt-bridges_borders)/Lt\n",
    "print(A_gaussian(cte=cte, xmin=xmin, xmax=xmax, sigma=0.05 ))\n",
    "print(w_rectangular(cte=cte, xmin=xmin, xmax=xmax, fmin=0., fmax=10.)/(xmax-xmin))\n",
    "print(fmin_sigmoide(cte=cte, xmin=xmin, xmax=xmax, s=50., mu=0.5, fmax=10.))\n",
    "print(fmax_sigmoide(cte=cte, xmin=xmin, xmax=xmax, s=1., mu=0.5, fmin=0.))"
   ]
  },
  {
   "cell_type": "markdown",
   "metadata": {},
   "source": [
    "# End position"
   ]
  },
  {
   "cell_type": "code",
   "execution_count": 6,
   "metadata": {},
   "outputs": [],
   "source": [
    "def import_endfile(folder, filename='end_chain.dat') :\n",
    "    f = open(os.path.join(folder, filename), 'r')\n",
    "    L = f.readlines()\n",
    "    for line in L :\n",
    "        splitted_line = line.split(' ')\n",
    "        if line.startswith('Total length') :\n",
    "            total_length = float(splitted_line[3])\n",
    "            \n",
    "        elif line.startswith('Lumen') and splitted_line[1] != '0' and splitted_line[1] != '-1' :\n",
    "            #print(line)\n",
    "            index = int(splitted_line[1])\n",
    "            pos = float(splitted_line[5])\n",
    "            length = float(splitted_line[8])\n",
    "            nions = float(splitted_line[10])\n",
    "            theta = np.pi/3.\n",
    "            eps = 1e-3\n",
    "            ca = float(splitted_line[14])\n",
    "            lumen = lc.Osmotic_Lumen(index, pos, length, nions, theta, eps, ca)\n",
    "    f.close()\n",
    "    return lumen, total_length        \n",
    "    \n",
    "def calc_wpos(fold) :\n",
    "    wpos = []\n",
    "    #for i in range(nsim) :\n",
    "    for elem in os.listdir(fold) :\n",
    "        if elem.startswith('end_chain') :\n",
    "            #print(fold)\n",
    "            #folder = os.path.join(fold, elem)\n",
    "            lumen, total_length = import_endfile(fold, filename=elem)\n",
    "\n",
    "            wpos += [lumen.pos / total_length]\n",
    "    return wpos\n",
    "\n",
    "def calc_wlength(fold) :\n",
    "    wlength = []\n",
    "    for elem in os.listdir(fold) :\n",
    "        if elem.startswith('run') :\n",
    "            folder = os.path.join(fold, elem)\n",
    "            lumen, total_length = import_endfile(folder)\n",
    "        \n",
    "            wlength += [lumen.length / total_length]\n",
    "    return wlength"
   ]
  },
  {
   "cell_type": "code",
   "execution_count": 7,
   "metadata": {},
   "outputs": [],
   "source": [
    "def import_pumping_params(folder) :\n",
    "    params = []\n",
    "    f = open(os.path.join(folder, 'config.conf.tpl'), 'r').readlines()\n",
    "    for line in f :\n",
    "        if line.startswith('param') :\n",
    "            splitted_line = line.split(' ')\n",
    "            params += [float(splitted_line[2])]\n",
    "            \n",
    "    return params\n",
    "\n",
    "def gaussian_profile(x, amp, mu, sigma, threshold) :\n",
    "    return amp*np.exp(-(x-mu)**2/sigma**2) + threshold\n",
    "\n",
    "\n",
    "def make_hist(array, bins) :\n",
    "    weights=np.ones_like(array)/float(len(array))\n",
    "    ypos, xpos = np.histogram(array, bins=bins, weights=weights)\n",
    "    xpos = 0.5*(xpos[1:] + xpos[:-1])\n",
    "    return xpos, ypos\n"
   ]
  },
  {
   "cell_type": "code",
   "execution_count": 8,
   "metadata": {},
   "outputs": [],
   "source": [
    "subsubdir = 'osmotic'"
   ]
  },
  {
   "cell_type": "code",
   "execution_count": 9,
   "metadata": {},
   "outputs": [
    {
     "name": "stdout",
     "output_type": "stream",
     "text": [
      "0.0 5000\n",
      "1.0 10000\n",
      "0.5 5000\n"
     ]
    }
   ],
   "source": [
    "bins = 30\n",
    "subsubsubdir = 'cstepump'\n",
    "L_dir_cste = os.listdir(join(main_dir, subdir, subsubdir, subsubsubdir))\n",
    "cstepump = {}\n",
    "for elem in L_dir_cste :\n",
    "    if elem.startswith('cstepump') :\n",
    "        val = float(elem[len('cstepump'):])\n",
    "        folder = join(main_dir, subdir, subsubdir, subsubsubdir, elem)\n",
    "        winner_pos = calc_wpos(folder)\n",
    "        params = import_pumping_params(folder)\n",
    "        cstepump[val] = [make_hist(winner_pos, bins), params]\n",
    "        print(val, len(winner_pos))\n",
    "        \n",
    "        "
   ]
  },
  {
   "cell_type": "code",
   "execution_count": 10,
   "metadata": {},
   "outputs": [
    {
     "name": "stdout",
     "output_type": "stream",
     "text": [
      "(1.0, 0.4, 0.05, 0.6) 5000\n",
      "(1.0, 0.4, 0.05, 0.3) 1000\n",
      "(1.0, 0.4, 0.05, 0.2) 5000\n",
      "(1.0, 0.4, 0.05, 1.5) 5000\n",
      "(1.0, 0.4, 0.05, 1.0) 5000\n",
      "(1.0, 0.4, 0.05, 2.0) 5000\n",
      "(1.0, 0.4, 0.05, 0.1) 5000\n",
      "(1.0, 0.4, 0.05, 0.4) 1000\n",
      "(1.0, 0.4, 0.05, 0.0) 1000\n",
      "(1.0, 0.4, 0.05, 0.5) 5000\n"
     ]
    }
   ],
   "source": [
    "bins = 25\n",
    "subsubsubdir = 'gaussian'\n",
    "L_dir_gaussian = os.listdir(join(main_dir, subdir, subsubdir, subsubsubdir))\n",
    "gaussianpump = {}\n",
    "for elem in L_dir_gaussian :\n",
    "    if elem.startswith('fmin') :\n",
    "        folder = join(main_dir, subdir, subsubdir, subsubsubdir, elem)\n",
    "        winner_pos = calc_wpos(folder)\n",
    "        params = import_pumping_params(folder)\n",
    "        val = (params[0], params[1], params[2], params[3])\n",
    "        gaussianpump[val] = [make_hist(winner_pos, bins), params]\n",
    "        print(val, len(winner_pos))\n",
    "        "
   ]
  },
  {
   "cell_type": "code",
   "execution_count": 11,
   "metadata": {
    "scrolled": false
   },
   "outputs": [
    {
     "name": "stdout",
     "output_type": "stream",
     "text": [
      "Threshold =  0.44104069538121066\n"
     ]
    },
    {
     "data": {
      "image/png": "[encoded data removed]",
      "text/plain": [
       "<Figure size 432x432 with 2 Axes>"
      ]
     },
     "metadata": {
      "needs_background": "light"
     },
     "output_type": "display_data"
    }
   ],
   "source": [
    "cste, gaussian = 1, 1\n",
    "plot_threshold = 1\n",
    "\n",
    "xmin, xmax = 0.2, 0.8\n",
    "\n",
    "fig = plt.figure(constrained_layout=True, figsize=(6, 6))\n",
    "gs = fig.add_gridspec(2, 1)\n",
    "\n",
    "ax1 = fig.add_subplot(gs[0])\n",
    "ax2 = fig.add_subplot(gs[1:])\n",
    "\n",
    "if gaussian :    \n",
    "    #for k in gaussianpump.keys() :\n",
    "    for k in [1.0, 0.6, 0.2] :\n",
    "        \n",
    "        if 1 :\n",
    "        #if k in [0.3, 0.6, 1., 2.] :\n",
    "            x = np.linspace(xmin, xmax, 201)\n",
    "            amp, mu, sigma, fmin = 1.0, 0.4, 0.05, k\n",
    "            ax1.plot(x, gaussian_profile(x, amp, mu, sigma, fmin), label = r'$p_{min} = $ '+str(k))\n",
    "            i_start, i_stop = 33, 101\n",
    "            ax1.fill_between(x[i_start:i_stop], 0., gaussian_profile(x[i_start:i_stop], amp, mu, sigma, fmin), alpha=0.1)\n",
    "\n",
    "            xpos, ypos = gaussianpump[amp, mu, sigma, fmin][0]\n",
    "            ax2.plot(xpos, ypos)\n",
    "            \n",
    "        \n",
    "    if plot_threshold :\n",
    "        Dx = (xmax - xmin)\n",
    "        n = 2.\n",
    "        threshold = sigma*amp*np.sqrt(np.pi) / (Dx - 4.*n*sigma) * erf(n)\n",
    "        print('Threshold = ', threshold)\n",
    "        \n",
    "        ax1.hlines(xmin=xmin, xmax=xmax, y=threshold, color = 'k', linestyle='-.', label = r'Threshold $p_*$ = '+\"{:2.2f}\".format(threshold))\n",
    "\n",
    "if cste :\n",
    "    for k in cstepump.keys() :\n",
    "        if k in [1.0] :\n",
    "            x = np.linspace(xmin, xmax, 201)\n",
    "            ax1.plot(x, np.ones(len(x))*k, linestyle='--', label='Cste = '+str(k))\n",
    "\n",
    "            xpos, ypos = cstepump[k][0]\n",
    "            ax2.plot(xpos, ypos, label = 'cste '+str(k), linestyle='--')\n",
    "            \n",
    "ax1.set_xticklabels([])\n",
    "\n",
    "ax1.set_xlim(xmin, xmax)\n",
    "ax2.set_xlim(xmin, xmax)\n",
    "\n",
    "#ax[0].grid()\n",
    "#ax[1].grid()\n",
    "\n",
    "ax2.set_xlabel('Chain x-axis', fontsize=12)\n",
    "ax1.set_ylabel('Pumping profile', fontsize=12)\n",
    "ax2.set_ylabel('Final position distribution', fontsize=12)\n",
    "\n",
    "ax1.legend(fontsize=12, bbox_to_anchor=(1.1, 0.4))\n",
    "#plt.savefig('/Users/mathieuleverge/Documents/cavidoc/hydroosmotic/patterning/active_positioning.eps', formet='eps')\n",
    "plt.show()\n"
   ]
  },
  {
   "cell_type": "code",
   "execution_count": 23,
   "metadata": {},
   "outputs": [
    {
     "name": "stderr",
     "output_type": "stream",
     "text": [
      "The PostScript backend does not support transparency; partially transparent artists will be rendered opaque.\n",
      "The PostScript backend does not support transparency; partially transparent artists will be rendered opaque.\n",
      "The PostScript backend does not support transparency; partially transparent artists will be rendered opaque.\n"
     ]
    },
    {
     "name": "stdout",
     "output_type": "stream",
     "text": [
      "Threshold =  0.44104069538121066\n"
     ]
    },
    {
     "data": {
      "image/png": "[encoded data removed]",
      "text/plain": [
       "<Figure size 432x576 with 2 Axes>"
      ]
     },
     "metadata": {
      "needs_background": "light"
     },
     "output_type": "display_data"
    }
   ],
   "source": [
    "cste, gaussian = 1, 1\n",
    "plot_threshold = 1\n",
    "\n",
    "xmin, xmax = 0., 1.\n",
    "\n",
    "fig, ax = plt.subplots(2, 1, figsize=(6, 8))\n",
    "ax1 = ax[0]\n",
    "ax2 = ax[1]\n",
    "if gaussian :    \n",
    "    #for k in gaussianpump.keys() :\n",
    "    for k in [1.5, 0.6, 0.2] :\n",
    "        \n",
    "        if 1 :\n",
    "        #if k in [0.3, 0.6, 1., 2.] :\n",
    "            x = np.linspace(xmin, xmax, 201)\n",
    "            amp, mu, sigma, fmin = 1.0, 0.4, 0.05, k\n",
    "            ax1.plot(x, gaussian_profile(x, amp, mu, sigma, fmin), label = r'$p_{min} = $ '+str(k))\n",
    "            i_start, i_stop = 60, 101\n",
    "            ax1.fill_between(x[i_start:i_stop], 0., gaussian_profile(x[i_start:i_stop], amp, mu, sigma, fmin), alpha=0.1)\n",
    "\n",
    "            xpos, ypos = gaussianpump[amp, mu, sigma, fmin][0]\n",
    "            ax2.plot(xpos, ypos)\n",
    "            \n",
    "        \n",
    "    if plot_threshold :\n",
    "        Dx = (0.8 - 0.2)\n",
    "        n = 2.\n",
    "        threshold = sigma*amp*np.sqrt(np.pi) / (Dx - 4.*n*sigma) * erf(n)\n",
    "        print('Threshold = ', threshold)\n",
    "        \n",
    "        ax1.hlines(xmin=xmin, xmax=xmax, y=threshold, color = 'k', linestyle='-.', label = r'Threshold $p_*$ = '+\"{:2.2f}\".format(threshold))\n",
    "\n",
    "if cste :\n",
    "    for k in cstepump.keys() :\n",
    "        if k in [1.0] :\n",
    "            x = np.linspace(xmin, xmax, 201)\n",
    "            ax1.plot(x, np.ones(len(x))*k, linestyle='--', label='Cste = '+str(k))\n",
    "\n",
    "            xpos, ypos = cstepump[k][0]\n",
    "            ax2.plot(xpos, ypos, label = 'cste '+str(k), linestyle='--')\n",
    "            \n",
    "#ax1.set_xticklabels([])\n",
    "\n",
    "#ax1.set_xlim(xmin, xmax)\n",
    "#ax2.set_xlim(xmin, xmax)\n",
    "\n",
    "ax1.plot((xmin, xmax), (0., 0.), color='k')\n",
    "ax1.plot((xmin, xmin), (0., 2.6), color='k')\n",
    "\n",
    "ax2.plot((xmin, xmax), (0., 0.), color='k')\n",
    "ax2.plot((xmin, xmin), (0., 0.17), color='k')\n",
    "\n",
    "t_width = 0.05\n",
    "for xt in [0., 0.1, 0.2, 0.3, 0.4, 0.5, 0.6, 0.7, 0.8, 0.9, 1.0] :\n",
    "    t_width = 0.05\n",
    "    ax1.plot((xt, xt), (-t_width, t_width), color='k')\n",
    "    ax2.plot((xt, xt), (-t_width/15., t_width/15.), color='k')\n",
    "    \n",
    "for yt in [0., 0.5, 1.0, 1.5, 2.0, 2.5] :\n",
    "    ax1.plot((xmin-t_width/8., xmin+t_width/8.), (yt, yt), color='k')\n",
    "    \n",
    "for yt in [0., 0.04, 0.08, 0.12, 0.16] :\n",
    "    ax2.plot((xmin-t_width/8., xmin+t_width/8.), (yt, yt), color='k')\n",
    "    \n",
    "ax1.axis('off')\n",
    "ax2.axis('off')\n",
    "#ax2.grid()\n",
    "\n",
    "\n",
    "ax2.set_xlabel('Chain x-axis', fontsize=12)\n",
    "ax1.set_ylabel('Pumping profile', fontsize=12)\n",
    "ax2.set_ylabel('Final position distribution', fontsize=12)\n",
    "\n",
    "#ax1.legend(fontsize=12, bbox_to_anchor=(1.1, 0.4))\n",
    "\n",
    "plt.savefig('/Users/mathieuleverge/Documents/cavidoc/hydroosmotic/patterning/active_positioning.eps', formet='eps')\n",
    "plt.show()\n",
    "\n"
   ]
  },
  {
   "cell_type": "code",
   "execution_count": null,
   "metadata": {},
   "outputs": [],
   "source": []
  },
  {
   "cell_type": "code",
   "execution_count": null,
   "metadata": {},
   "outputs": [],
   "source": []
  },
  {
   "cell_type": "code",
   "execution_count": null,
   "metadata": {},
   "outputs": [],
   "source": []
  }
 ],
 "metadata": {
  "kernelspec": {
   "display_name": "Python 3",
   "language": "python",
   "name": "python3"
  },
  "language_info": {
   "codemirror_mode": {
    "name": "ipython",
    "version": 3
   },
   "file_extension": ".py",
   "mimetype": "text/x-python",
   "name": "python",
   "nbconvert_exporter": "python",
   "pygments_lexer": "ipython3",
   "version": "3.7.4"
  }
 },
 "nbformat": 4,
 "nbformat_minor": 2
}
