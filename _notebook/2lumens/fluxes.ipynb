{
 "cells": [
  {
   "cell_type": "code",
   "execution_count": 1,
   "metadata": {},
   "outputs": [],
   "source": [
    "import numpy as np\n",
    "import matplotlib.pyplot as plt\n",
    "import os\n",
    "from scipy.optimize import newton\n",
    "\n",
    "#import system"
   ]
  },
  {
   "cell_type": "markdown",
   "metadata": {},
   "source": [
    "# Flux for a given configuration"
   ]
  },
  {
   "cell_type": "markdown",
   "metadata": {},
   "source": [
    "## As a function of $\\delta C_1$"
   ]
  },
  {
   "cell_type": "code",
   "execution_count": 2,
   "metadata": {},
   "outputs": [],
   "source": [
    "class flux :\n",
    "    def __init__(self, dC1, dC2, P1, P2, chis, chiv, ca, ellt, L) :\n",
    "        self.dC1 = dC1\n",
    "        self.dC2 = dC2\n",
    "        self.P1 = P1\n",
    "        self.P2 = P2\n",
    "        self.chis = chis\n",
    "        self.chiv = chiv\n",
    "        self.ca = ca\n",
    "        self.ellt = ellt\n",
    "        self.L = L\n",
    "        self.x_var = 'dC1'\n",
    "    \n",
    "    def __j1v__(self) :\n",
    "        return system.func_J1v(dC1=self.dC1, dC2=self.dC2, P1=self.P1, P2=self.P2, chis=self.chis, chiv=self.chiv, ca=self.ca, ellt=self.ellt, L=self.L)\n",
    "    \n",
    "    def __j2v__(self) :\n",
    "        return system.func_J2v(dC1=self.dC1, dC2=self.dC2, P1=self.P1, P2=self.P2, chis=self.chis, chiv=self.chiv, ca=self.ca, ellt=self.ellt, L=self.L)\n",
    "    \n",
    "    def __j1s__(self) :\n",
    "        return system.func_J1s(dC1=self.dC1, dC2=self.dC2, chis=self.chis, ca=self.ca, ellt=self.ellt, L=self.L)\n",
    "\n",
    "    def __j2s__(self) :\n",
    "        return system.func_J2s(dC1=self.dC1, dC2=self.dC2, chis=self.chis, ca=self.ca, ellt=self.ellt, L=self.L)\n",
    "    \n",
    "    \n",
    "    def __j1v_dC1__(self, x) :\n",
    "        return system.func_J1v(x, dC2=self.dC2, P1=self.P1, P2=self.P2, chis=self.chis, chiv=self.chiv, ca=self.ca, ellt=self.ellt, L=self.L)\n",
    "            \n",
    "    def __j2v_dC1__(self) :\n",
    "        return system.func_J2v(self.x, dC2=self.dC2, P1=self.P1, P2=self.P2, chis=self.chis, chiv=self.chiv, ca=self.ca, ellt=self.ellt, L=self.L)\n",
    "    \n",
    "    \n",
    "    \n",
    "    def __plot_fluxes__(self, x_val, xlabel) :\n",
    "        fig, ax = plt.subplots(1, 2, figsize=(14,4))\n",
    "        x = x_val\n",
    "        \n",
    "        if xlabel == 'dC1' :\n",
    "            title = r'$\\delta C_2$='+str(self.dC2)+' ; $P_1$='+str(self.P1)+' ; $P_2$='+str(self.P2)+'\\n$\\chi_v$='+str(self.chiv)+' ; $\\chi_s$='+str(self.chis)+' ; $c_a$='+str(self.ca)+' ; $\\ell$='+str(self.ellt)+' ; $L_0$='+str(self.L)\n",
    "            \n",
    "        elif xlabel == 'dC2' :\n",
    "            title = r'$\\delta C_1$='+str(self.dC1)+' ; $P_1$='+str(self.P1)+' ; $P_2$='+str(self.P2)+'\\n$\\chi_v$='+str(self.chiv)+' ; $\\chi_s$='+str(self.chis)+' ; $c_a$='+str(self.ca)+' ; $\\ell$='+str(self.ellt)+' ; $L_0$='+str(self.L)    \n",
    "        \n",
    "        elif xlabel == 'P1' :\n",
    "            title = r'$\\delta C_1$='+str(self.dC1)+' ; $\\delta C_@$='+str(self.dC2)+' ; $P_2$='+str(self.P2)+'\\n$\\chi_v$='+str(self.chiv)+' ; $\\chi_s$='+str(self.chis)+' ; $c_a$='+str(self.ca)+' ; $\\ell$='+str(self.ellt)+' ; $L_0$='+str(self.L)\n",
    "        \n",
    "        elif xlabel == 'P2' :\n",
    "            title = r'$\\delta C_1$='+str(self.dC1)+' ; $\\delta C_2$='+str(self.dC2)+' ; $P_1$='+str(self.P1)+'\\n$\\chi_v$='+str(self.chiv)+' ; $\\chi_s$='+str(self.chis)+' ; $c_a='+str(self.ca)+' ; $\\ell$='+str(self.ellt)+' ; $L_0$='+str(self.L)\n",
    "        \n",
    "        elif xlabel == 'chis' :\n",
    "            title = r'$\\delta C_1$='+str(self.dC1)+' ; $\\delta C_2$='+str(self.dC2)+' ; $P_1$='+str(self.P1)+' ; $P_2$='+str(self.P2)+'\\n$\\chi_v$='+str(self.chiv)+' ; $c_a$='+str(self.ca)+' ; $\\ell$='+str(self.ellt)+' ; $L_0$='+str(self.L)\n",
    "        \n",
    "        elif xlabel == 'chiv' :\n",
    "            title = r'$\\delta C_1$='+str(self.dC1)+' ; $\\delta C_2$='+str(self.dC2)+' ; $P_1$='+str(self.P1)+' ; $P_2$='+str(self.P2)+'\\n$\\chi_s$='+str(self.chis)+' ; $c_a$='+str(self.ca)+' ; $\\ell$='+str(self.ellt)+' ; $L_0$='+str(self.L)\n",
    "        \n",
    "        \n",
    "        plt.suptitle(title, y=1.05, fontsize=15)\n",
    "\n",
    "        ax[0].plot(x, self.__j1v__(), label = 'J1v', color='r', linewidth=2)\n",
    "        ax[0].plot(x, self.__j2v__(), label = 'J2v', color = 'b', linewidth=2)\n",
    "        ax[0].plot(x, self.__j2v__()-self.__j1v__(), label = 'J2v-J1v', color = 'purple', linewidth=2)\n",
    "        ax[0].set_xlabel(str(xlabel), fontsize=12)\n",
    "        ax[0].set_ylabel('Jv', fontsize=15)\n",
    "        ax[0].legend()\n",
    "        ax[0].grid()\n",
    "\n",
    "        ax[1].plot(x, self.__j1s__(), label = 'J1s', color='r', linewidth=2, linestyle='--')\n",
    "        ax[1].plot(x, self.__j2s__(), label = 'J2s', color='b', linewidth=2, linestyle='--')\n",
    "        ax[1].set_xlabel(str(xlabel), fontsize=12)\n",
    "        ax[1].set_ylabel('Js', fontsize=15)\n",
    "        ax[1].legend()\n",
    "        ax[1].grid()\n",
    "        return 0\n",
    "        \n",
    "    #def __zero__(self) :\n",
    "    #    "
   ]
  },
  {
   "cell_type": "code",
   "execution_count": 3,
   "metadata": {},
   "outputs": [],
   "source": [
    "nb_pts = 101\n",
    "\n",
    "dC1 = np.linspace(-5.,5, nb_pts)\n",
    "fl = flux(dC1=dC1, dC2=0., P1=1., P2=1., chis=10., chiv=10., ca=0., ellt=0.5, L=1)\n",
    "fl.x = dC1"
   ]
  },
  {
   "cell_type": "code",
   "execution_count": 4,
   "metadata": {},
   "outputs": [
    {
     "ename": "NameError",
     "evalue": "name 'system' is not defined",
     "output_type": "error",
     "traceback": [
      "\u001b[0;31m---------------------------------------------------------------------------\u001b[0m",
      "\u001b[0;31mNameError\u001b[0m                                 Traceback (most recent call last)",
      "\u001b[0;32m<ipython-input-4-989dcf76d221>\u001b[0m in \u001b[0;36m<module>\u001b[0;34m\u001b[0m\n\u001b[0;32m----> 1\u001b[0;31m \u001b[0mfl\u001b[0m\u001b[0;34m.\u001b[0m\u001b[0m__plot_fluxes__\u001b[0m\u001b[0;34m(\u001b[0m\u001b[0mx_val\u001b[0m\u001b[0;34m=\u001b[0m\u001b[0mfl\u001b[0m\u001b[0;34m.\u001b[0m\u001b[0mdC1\u001b[0m\u001b[0;34m,\u001b[0m \u001b[0mxlabel\u001b[0m\u001b[0;34m=\u001b[0m\u001b[0;34m'dC1'\u001b[0m\u001b[0;34m)\u001b[0m\u001b[0;34m\u001b[0m\u001b[0;34m\u001b[0m\u001b[0m\n\u001b[0m",
      "\u001b[0;32m<ipython-input-2-db7c6acf247a>\u001b[0m in \u001b[0;36m__plot_fluxes__\u001b[0;34m(self, x_val, xlabel)\u001b[0m\n\u001b[1;32m     58\u001b[0m         \u001b[0mplt\u001b[0m\u001b[0;34m.\u001b[0m\u001b[0msuptitle\u001b[0m\u001b[0;34m(\u001b[0m\u001b[0mtitle\u001b[0m\u001b[0;34m,\u001b[0m \u001b[0my\u001b[0m\u001b[0;34m=\u001b[0m\u001b[0;36m1.05\u001b[0m\u001b[0;34m,\u001b[0m \u001b[0mfontsize\u001b[0m\u001b[0;34m=\u001b[0m\u001b[0;36m15\u001b[0m\u001b[0;34m)\u001b[0m\u001b[0;34m\u001b[0m\u001b[0;34m\u001b[0m\u001b[0m\n\u001b[1;32m     59\u001b[0m \u001b[0;34m\u001b[0m\u001b[0m\n\u001b[0;32m---> 60\u001b[0;31m         \u001b[0max\u001b[0m\u001b[0;34m[\u001b[0m\u001b[0;36m0\u001b[0m\u001b[0;34m]\u001b[0m\u001b[0;34m.\u001b[0m\u001b[0mplot\u001b[0m\u001b[0;34m(\u001b[0m\u001b[0mx\u001b[0m\u001b[0;34m,\u001b[0m \u001b[0mself\u001b[0m\u001b[0;34m.\u001b[0m\u001b[0m__j1v__\u001b[0m\u001b[0;34m(\u001b[0m\u001b[0;34m)\u001b[0m\u001b[0;34m,\u001b[0m \u001b[0mlabel\u001b[0m \u001b[0;34m=\u001b[0m \u001b[0;34m'J1v'\u001b[0m\u001b[0;34m,\u001b[0m \u001b[0mcolor\u001b[0m\u001b[0;34m=\u001b[0m\u001b[0;34m'r'\u001b[0m\u001b[0;34m,\u001b[0m \u001b[0mlinewidth\u001b[0m\u001b[0;34m=\u001b[0m\u001b[0;36m2\u001b[0m\u001b[0;34m)\u001b[0m\u001b[0;34m\u001b[0m\u001b[0;34m\u001b[0m\u001b[0m\n\u001b[0m\u001b[1;32m     61\u001b[0m         \u001b[0max\u001b[0m\u001b[0;34m[\u001b[0m\u001b[0;36m0\u001b[0m\u001b[0;34m]\u001b[0m\u001b[0;34m.\u001b[0m\u001b[0mplot\u001b[0m\u001b[0;34m(\u001b[0m\u001b[0mx\u001b[0m\u001b[0;34m,\u001b[0m \u001b[0mself\u001b[0m\u001b[0;34m.\u001b[0m\u001b[0m__j2v__\u001b[0m\u001b[0;34m(\u001b[0m\u001b[0;34m)\u001b[0m\u001b[0;34m,\u001b[0m \u001b[0mlabel\u001b[0m \u001b[0;34m=\u001b[0m \u001b[0;34m'J2v'\u001b[0m\u001b[0;34m,\u001b[0m \u001b[0mcolor\u001b[0m \u001b[0;34m=\u001b[0m \u001b[0;34m'b'\u001b[0m\u001b[0;34m,\u001b[0m \u001b[0mlinewidth\u001b[0m\u001b[0;34m=\u001b[0m\u001b[0;36m2\u001b[0m\u001b[0;34m)\u001b[0m\u001b[0;34m\u001b[0m\u001b[0;34m\u001b[0m\u001b[0m\n\u001b[1;32m     62\u001b[0m         \u001b[0max\u001b[0m\u001b[0;34m[\u001b[0m\u001b[0;36m0\u001b[0m\u001b[0;34m]\u001b[0m\u001b[0;34m.\u001b[0m\u001b[0mplot\u001b[0m\u001b[0;34m(\u001b[0m\u001b[0mx\u001b[0m\u001b[0;34m,\u001b[0m \u001b[0mself\u001b[0m\u001b[0;34m.\u001b[0m\u001b[0m__j2v__\u001b[0m\u001b[0;34m(\u001b[0m\u001b[0;34m)\u001b[0m\u001b[0;34m-\u001b[0m\u001b[0mself\u001b[0m\u001b[0;34m.\u001b[0m\u001b[0m__j1v__\u001b[0m\u001b[0;34m(\u001b[0m\u001b[0;34m)\u001b[0m\u001b[0;34m,\u001b[0m \u001b[0mlabel\u001b[0m \u001b[0;34m=\u001b[0m \u001b[0;34m'J2v-J1v'\u001b[0m\u001b[0;34m,\u001b[0m \u001b[0mcolor\u001b[0m \u001b[0;34m=\u001b[0m \u001b[0;34m'purple'\u001b[0m\u001b[0;34m,\u001b[0m \u001b[0mlinewidth\u001b[0m\u001b[0;34m=\u001b[0m\u001b[0;36m2\u001b[0m\u001b[0;34m)\u001b[0m\u001b[0;34m\u001b[0m\u001b[0;34m\u001b[0m\u001b[0m\n",
      "\u001b[0;32m<ipython-input-2-db7c6acf247a>\u001b[0m in \u001b[0;36m__j1v__\u001b[0;34m(self)\u001b[0m\n\u001b[1;32m     13\u001b[0m \u001b[0;34m\u001b[0m\u001b[0m\n\u001b[1;32m     14\u001b[0m     \u001b[0;32mdef\u001b[0m \u001b[0m__j1v__\u001b[0m\u001b[0;34m(\u001b[0m\u001b[0mself\u001b[0m\u001b[0;34m)\u001b[0m \u001b[0;34m:\u001b[0m\u001b[0;34m\u001b[0m\u001b[0;34m\u001b[0m\u001b[0m\n\u001b[0;32m---> 15\u001b[0;31m         \u001b[0;32mreturn\u001b[0m \u001b[0msystem\u001b[0m\u001b[0;34m.\u001b[0m\u001b[0mfunc_J1v\u001b[0m\u001b[0;34m(\u001b[0m\u001b[0mdC1\u001b[0m\u001b[0;34m=\u001b[0m\u001b[0mself\u001b[0m\u001b[0;34m.\u001b[0m\u001b[0mdC1\u001b[0m\u001b[0;34m,\u001b[0m \u001b[0mdC2\u001b[0m\u001b[0;34m=\u001b[0m\u001b[0mself\u001b[0m\u001b[0;34m.\u001b[0m\u001b[0mdC2\u001b[0m\u001b[0;34m,\u001b[0m \u001b[0mP1\u001b[0m\u001b[0;34m=\u001b[0m\u001b[0mself\u001b[0m\u001b[0;34m.\u001b[0m\u001b[0mP1\u001b[0m\u001b[0;34m,\u001b[0m \u001b[0mP2\u001b[0m\u001b[0;34m=\u001b[0m\u001b[0mself\u001b[0m\u001b[0;34m.\u001b[0m\u001b[0mP2\u001b[0m\u001b[0;34m,\u001b[0m \u001b[0mchis\u001b[0m\u001b[0;34m=\u001b[0m\u001b[0mself\u001b[0m\u001b[0;34m.\u001b[0m\u001b[0mchis\u001b[0m\u001b[0;34m,\u001b[0m \u001b[0mchiv\u001b[0m\u001b[0;34m=\u001b[0m\u001b[0mself\u001b[0m\u001b[0;34m.\u001b[0m\u001b[0mchiv\u001b[0m\u001b[0;34m,\u001b[0m \u001b[0mca\u001b[0m\u001b[0;34m=\u001b[0m\u001b[0mself\u001b[0m\u001b[0;34m.\u001b[0m\u001b[0mca\u001b[0m\u001b[0;34m,\u001b[0m \u001b[0mellt\u001b[0m\u001b[0;34m=\u001b[0m\u001b[0mself\u001b[0m\u001b[0;34m.\u001b[0m\u001b[0mellt\u001b[0m\u001b[0;34m,\u001b[0m \u001b[0mL\u001b[0m\u001b[0;34m=\u001b[0m\u001b[0mself\u001b[0m\u001b[0;34m.\u001b[0m\u001b[0mL\u001b[0m\u001b[0;34m)\u001b[0m\u001b[0;34m\u001b[0m\u001b[0;34m\u001b[0m\u001b[0m\n\u001b[0m\u001b[1;32m     16\u001b[0m \u001b[0;34m\u001b[0m\u001b[0m\n\u001b[1;32m     17\u001b[0m     \u001b[0;32mdef\u001b[0m \u001b[0m__j2v__\u001b[0m\u001b[0;34m(\u001b[0m\u001b[0mself\u001b[0m\u001b[0;34m)\u001b[0m \u001b[0;34m:\u001b[0m\u001b[0;34m\u001b[0m\u001b[0;34m\u001b[0m\u001b[0m\n",
      "\u001b[0;31mNameError\u001b[0m: name 'system' is not defined"
     ]
    },
    {
     "data": {
      "image/png": "[encoded data removed]",
      "text/plain": [
       "<Figure size 1008x288 with 2 Axes>"
      ]
     },
     "metadata": {
      "needs_background": "light"
     },
     "output_type": "display_data"
    }
   ],
   "source": [
    "fl.__plot_fluxes__(x_val=fl.dC1, xlabel='dC1')"
   ]
  },
  {
   "cell_type": "markdown",
   "metadata": {},
   "source": [
    "# Zero Flux"
   ]
  },
  {
   "cell_type": "code",
   "execution_count": 37,
   "metadata": {},
   "outputs": [],
   "source": [
    "def Lambda(chis, chiv) :\n",
    "    c1, s1 = np.cosh(1./chis), np.sinh(1./chis)\n",
    "    if chis == chiv :\n",
    "        return np.cosh(0.5/chiv) * (1 - chiv*s1) / (2*chiv*s1) \n",
    "    return chis*(chis*s1*np.cosh(0.5/chiv) - chiv*(1.+c1)*np.sinh(0.5/chiv)) / (s1 * (chiv**2 - chis**2))\n",
    "\n",
    "def zero_Jv_DelP(DelC, chis, chiv) :\n",
    "    return -DelC*Lambda(chis, chiv) /np.cosh(0.5/chiv)\n",
    "\n",
    "\n",
    "def asymmetric_curve(Xs, Xv, dC_max = 5., nb_pts=101) :\n",
    "    # RIGHT PART\n",
    "    dC2_right = np.linspace(1, dC_max, nb_pts)\n",
    "    dC1_right = 1\n",
    "    DelC_right = dC2_right - dC1_right\n",
    "\n",
    "    P1_right = 1\n",
    "\n",
    "    DelP_right = zero_Jv_DelP(DelC_right, Xs, Xv)\n",
    "    \n",
    "    P2_right = DelP_right + P1_right\n",
    "    \n",
    "    Asym_dC_right = (dC2_right-dC1_right)/(dC2_right+dC1_right)\n",
    "    Asym_dP_right = (P2_right-P1_right)/(P2_right+P1_right)\n",
    "    \n",
    "    # LEFT PART\n",
    "    dC1_left = np.linspace(1, dC_max, nb_pts)\n",
    "    dC2_left = 1\n",
    "    DelC_left = dC2_left - dC1_left\n",
    "\n",
    "    P2_left = 1\n",
    "\n",
    "    DelP_left = zero_Jv_DelP(DelC_left, Xs, Xv)\n",
    "    \n",
    "    P1_left = P2_left - DelP_left\n",
    "\n",
    "    Asym_dC_left = (dC2_left-dC1_left)/(dC2_left+dC1_left)\n",
    "    Asym_dP_left = (P2_left-P1_left)/(P2_left+P1_left)\n",
    "    \n",
    "    # CONCATENATE\n",
    "    Asym_dC = np.concatenate((Asym_dC_left[::-1], Asym_dC_right))\n",
    "    Asym_dP = np.concatenate((Asym_dP_left[::-1], Asym_dP_right))\n",
    "    return Asym_dC, Asym_dP\n",
    "\n",
    "c_list = ['#037bfc', '#1403fc', '#2580c2', \n",
    "          '#ff4800', '#c71e1e', '#ff7c1f',\n",
    "          '#00bf03', '#24bd54', '#5dba16']\n",
    "lst = ['-', '--', '-.', '..']"
   ]
  },
  {
   "cell_type": "code",
   "execution_count": 38,
   "metadata": {},
   "outputs": [
    {
     "data": {
      "image/png": "[encoded data removed]",
      "text/plain": [
       "<Figure size 504x504 with 1 Axes>"
      ]
     },
     "metadata": {
      "needs_background": "light"
     },
     "output_type": "display_data"
    }
   ],
   "source": [
    "chis_list, chiv_list = [1.], [1]\n",
    "plt.figure(figsize=(7, 7))\n",
    "c=0\n",
    "for i in range(len(chis_list)) :\n",
    "    ls = lst[i]\n",
    "    for j in range(len(chiv_list)) :\n",
    "        Asym_dC, Asym_dP = asymmetric_curve(Xs=chis_list[i], Xv=chiv_list[j], dC_max=1000., nb_pts=1001)\n",
    "        plt.plot(np.copy(Asym_dC), np.copy(Asym_dP), label = r'$\\chi_v=$' +str(chiv_list[j]), linewidth=2, color=c_list[c], linestyle=ls)\n",
    "        c+=3\n",
    "        \n",
    "plt.legend(loc='upper left', fontsize=12)\n",
    "plt.grid()\n",
    "plt.xlabel('Concentration asymmetry\\n'+r'$(C_2 - C_1) / (C_1 + C_2)$', fontsize=15)\n",
    "plt.ylabel('Pressure asymmetry\\n'+r'$(P_2 - P_1) / (P_1 + P_2)$', fontsize=15)\n",
    "plt.title('$\\chi_s = '+str(chis_list[0])+'$', fontsize=20)\n",
    "#plt.savefig('/Users/mathieuleverge/git/chain_lumen/_notebook/figures/zero_flux_hydraulic_analyticsolution.eps', format='eps', dpi=100)\n",
    "plt.show()\n",
    "\n"
   ]
  },
  {
   "cell_type": "code",
   "execution_count": null,
   "metadata": {},
   "outputs": [],
   "source": []
  },
  {
   "cell_type": "code",
   "execution_count": 10,
   "metadata": {},
   "outputs": [],
   "source": [
    "def Lambda(chis, chiv) :\n",
    "    c1, s1 = np.cosh(1./chis), np.sinh(1./chis)\n",
    "    if chis == chiv :\n",
    "        return np.cosh(0.5/chiv) * (1 - chiv*s1) / (2*chiv*s1) \n",
    "    return chis*(chis*s1*np.cosh(0.5/chiv) - chiv*(1.+c1)*np.sinh(0.5/chiv)) / (s1 * (chiv**2 - chis**2))\n",
    "\n",
    "def zero_Jv_DelP(DelC, chis, chiv) :\n",
    "    return -DelC*Lambda(chis, chiv) /np.cosh(0.5/chiv)\n",
    "\n",
    "\n",
    "def asymmetric_curve_chi(Xs, Xv, nb_pts=101) :\n",
    "    return 1\n",
    "\n",
    "c_list = ['#037bfc', '#1403fc', '#2580c2', \n",
    "          '#ff4800', '#c71e1e', '#ff7c1f',\n",
    "          '#00bf03', '#24bd54', '#5dba16']\n",
    "lst = ['-', '--', '-.', '..']"
   ]
  },
  {
   "cell_type": "code",
   "execution_count": 99,
   "metadata": {},
   "outputs": [
    {
     "name": "stdout",
     "output_type": "stream",
     "text": [
      "-0.3333333333333333\n"
     ]
    }
   ],
   "source": [
    "P1, P2 = 2., 1.\n",
    "\n",
    "delta_P = (P2-P1)/(P1+P2)\n",
    "print(delta_P)"
   ]
  },
  {
   "cell_type": "code",
   "execution_count": 100,
   "metadata": {},
   "outputs": [],
   "source": [
    "chiv_list = np.logspace(-2, 2, 101)\n",
    "chis = 1.\n",
    "\n"
   ]
  },
  {
   "cell_type": "code",
   "execution_count": 117,
   "metadata": {},
   "outputs": [],
   "source": [
    "# Right part\n",
    "C1 = 1.\n",
    "delC = np.array([(P2-P1)*np.cosh(1./chiv_list[i])/Lambda(chis, chiv_list[i]) for i in range(len(chiv_list))])\n",
    "C2 = C1 + delC\n",
    "Delta_C_right = delC / (C1+C2)\n",
    "\n",
    "# Right part\n",
    "C2 = 1.\n",
    "delC = np.array([(P2-P1)*np.cosh(1./chiv_list[i])/Lambda(chis, chiv_list[i]) for i in range(len(chiv_list))])\n",
    "C1 = C2 - delC\n",
    "Delta_C_left = delC/(C1+C2)"
   ]
  },
  {
   "cell_type": "code",
   "execution_count": 118,
   "metadata": {},
   "outputs": [
    {
     "data": {
      "text/plain": [
       "array([-1.        , -1.        , -1.        , -1.        , -1.        ,\n",
       "       -1.        , -1.        , -1.        , -1.        , -1.        ,\n",
       "       -1.        , -1.00000002, -1.00000012, -1.00000051, -1.00000193,\n",
       "       -1.00000643, -1.00001924, -1.00005221, -1.0001295 , -1.00029598,\n",
       "       -1.00062766, -1.00124305, -1.00231265, -1.00406392, -1.00677882,\n",
       "       -1.01078221, -1.01642088, -1.0240343 , -1.03391885, -1.04628825,\n",
       "       -1.0612325 , -1.07867853, -1.0983564 , -1.11977664, -1.14222533,\n",
       "       -1.16478469, -1.1863845 , -1.20588606, -1.22219201, -1.23436766,\n",
       "       -1.24175207, -1.24403634, -1.2412919 , -1.23394335, -1.2226939 ,\n",
       "       -1.20842165, -1.19206928, -1.1745467 , -1.15665928, -1.13906573,\n",
       "       -1.12226328, -1.10659355, -1.09226173, -1.07936202, -1.06790437,\n",
       "       -1.05783902, -1.04907737, -1.04150846, -1.03501126, -1.0294634 ,\n",
       "       -1.02474696, -1.02075201, -1.01737848, -1.01453693, -1.01214853,\n",
       "       -1.01014455, -1.00846557, -1.0070606 , -1.00588611, -1.00490512,\n",
       "       -1.00408633, -1.00340332, -1.00283385, -1.00235923, -1.0019638 ,\n",
       "       -1.00163445, -1.00136018, -1.00113184, -1.00094177, -1.00078356,\n",
       "       -1.0006519 , -1.00054234, -1.00045118, -1.00037533, -1.00031222,\n",
       "       -1.00025972, -1.00021604, -1.00017971, -1.00014948, -1.00012434,\n",
       "       -1.00010343, -1.00008603, -1.00007156, -1.00005952, -1.00004951,\n",
       "       -1.00004118, -1.00003425, -1.00002849, -1.0000237 , -1.00001971,\n",
       "       -1.00001639])"
      ]
     },
     "execution_count": 118,
     "metadata": {},
     "output_type": "execute_result"
    }
   ],
   "source": [
    "Delta_C_left"
   ]
  },
  {
   "cell_type": "code",
   "execution_count": 119,
   "metadata": {},
   "outputs": [
    {
     "data": {
      "image/png": "[encoded data removed]",
      "text/plain": [
       "<Figure size 432x288 with 1 Axes>"
      ]
     },
     "metadata": {
      "needs_background": "light"
     },
     "output_type": "display_data"
    }
   ],
   "source": [
    "plt.xscale('log')\n",
    "#plt.yscale('log')\n",
    "plt.plot(chiv_list, Delta_C_right)\n",
    "#plt.plot(chiv_list, Delta_C_left)\n",
    "plt.xlabel(r'$\\chi_v$', fontsize=12)\n",
    "plt.ylabel(r'$(C_2-C_1)/(C_2+C_1)$', fontsize=12)\n",
    "plt.grid()\n",
    "plt.show()"
   ]
  },
  {
   "cell_type": "code",
   "execution_count": 112,
   "metadata": {},
   "outputs": [
    {
     "data": {
      "image/png": "[encoded data removed]",
      "text/plain": [
       "<Figure size 432x288 with 1 Axes>"
      ]
     },
     "metadata": {
      "needs_background": "light"
     },
     "output_type": "display_data"
    }
   ],
   "source": [
    "#plt.xscale('log')\n",
    "plt.yscale('log')\n",
    "plt.plot(Delta_C_right, chiv_list)\n",
    "\n",
    "plt.ylabel(r'$\\chi_v$', fontsize=12)\n",
    "plt.xlabel(r'$(C_2-C_1)/(C_2+C_1)$', fontsize=12)\n",
    "plt.grid()\n",
    "plt.show()"
   ]
  },
  {
   "cell_type": "code",
   "execution_count": null,
   "metadata": {},
   "outputs": [],
   "source": []
  }
 ],
 "metadata": {
  "kernelspec": {
   "display_name": "Python 2",
   "language": "python",
   "name": "python2"
  },
  "language_info": {
   "codemirror_mode": {
    "name": "ipython",
    "version": 3
   },
   "file_extension": ".py",
   "mimetype": "text/x-python",
   "name": "python",
   "nbconvert_exporter": "python",
   "pygments_lexer": "ipython3",
   "version": "3.7.4"
  }
 },
 "nbformat": 4,
 "nbformat_minor": 2
}
