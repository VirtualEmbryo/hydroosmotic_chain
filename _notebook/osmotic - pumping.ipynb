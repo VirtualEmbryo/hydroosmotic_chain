{
 "cells": [
  {
   "cell_type": "code",
   "execution_count": 1,
   "metadata": {
    "scrolled": true
   },
   "outputs": [],
   "source": [
    "import numpy as np\n",
    "import matplotlib.pyplot as plt\n",
    "\n",
    "import os\n",
    "from os.path import join as join\n",
    "import sys\n",
    "\n",
    "module_path = os.path.abspath(os.path.join('..'))\n",
    "\n",
    "if module_path not in sys.path :\n",
    "    sys.path.append(module_path)\n",
    "\n",
    "    \n",
    "import _ressources.chain as chain\n",
    "import _ressources.tools as tools\n",
    "import _ressources.lumenclass as lc\n",
    "\n",
    "from scipy.optimize import curve_fit\n",
    "\n",
    "main_dir = '/Users/mathieuleverge/git/chain_lumen/_data/pumping/osmotic/'"
   ]
  },
  {
   "cell_type": "code",
   "execution_count": 2,
   "metadata": {},
   "outputs": [],
   "source": [
    "def plot_osmotic(chis, chiv, path_list, plot_param_list, Nt_list, rescale = False) :\n",
    "    label = False\n",
    "    Nt_list[(chis, chiv)] = {}\n",
    "    for n in range(nsim) :\n",
    "        Nt_list[(chis, chiv)][n] = np.loadtxt(os.path.join(path_list[(chis, chiv)][n], 'sim_nlum.dat'))\n",
    "        if label :\n",
    "            if not rescale :\n",
    "                plt.plot(Nt_list[(chis, chiv)][n][:, 0], Nt_list[(chis, chiv)][n][:, 1], color=plot_param_list[(chis, chiv)][0], marker=plot_param_list[(chis, chiv)][1], markersize=plot_param_list[(chis, chiv)][2], linewidth=plot_param_list[(chis, chiv)][3], alpha=plot_param_list[(chis, chiv)][4])\n",
    "            else :\n",
    "                plt.plot(Nt_list[(chis, chiv)][n][:, 0]*chiv**2, Nt_list[(chis, chiv)][n][:, 1], color=plot_param_list[(chis, chiv)][0], marker=plot_param_list[(chis, chiv)][1], markersize=plot_param_list[(chis, chiv)][2], linewidth=plot_param_list[(chis, chiv)][3], alpha=plot_param_list[(chis, chiv)][4])\n",
    "        else :\n",
    "            label = True\n",
    "            if not rescale :\n",
    "                plt.plot(Nt_list[(chis, chiv)][n][:, 0], Nt_list[(chis, chiv)][n][:, 1], color=plot_param_list[(chis, chiv)][0], marker=plot_param_list[(chis, chiv)][1], markersize=plot_param_list[(chis, chiv)][2], linewidth=plot_param_list[(chis, chiv)][3], label = r'$\\chi_s$ = '+ str(chis) + r' ; $\\chi_v = $' + str(chiv), alpha=1.)\n",
    "            else :\n",
    "                plt.plot(Nt_list[(chis, chiv)][n][:, 0]*chiv**2, Nt_list[(chis, chiv)][n][:, 1], color=plot_param_list[(chis, chiv)][0], marker=plot_param_list[(chis, chiv)][1], markersize=plot_param_list[(chis, chiv)][2], linewidth=plot_param_list[(chis, chiv)][3], label = r'$\\chi_s$ = '+ str(chis) + r' ; $\\chi_v = $' + str(chiv), alpha=plot_param_list[(chis, chiv)][4])\n",
    "    return Nt_list[(chis, chiv)]\n",
    "\n"
   ]
  },
  {
   "cell_type": "code",
   "execution_count": 3,
   "metadata": {},
   "outputs": [],
   "source": [
    "ca_dict = {0 : ['ca0', 'k'], 0.1 : ['ca1e-1', 'r'], 0.01 : ['ca1e-2', 'b'], 0.001 : ['ca1e-3', 'g'], 10 : ['ca1e1', 'orange']}\n",
    "# (chis, chiv) : marker, markersize, alpha, linewidth\n",
    "lw = 0.\n",
    "chi_dict = {(5, 5) : ['^', 2, 1., lw],\n",
    "            (50, 50) : ['+', 2, 1., lw],\n",
    "            (500, 500) : ['o', 2, 1., lw]}\n",
    "nsim = 20\n"
   ]
  },
  {
   "cell_type": "code",
   "execution_count": 4,
   "metadata": {
    "scrolled": true
   },
   "outputs": [
    {
     "name": "stdout",
     "output_type": "stream",
     "text": [
      "0 not in chis5_chiv5\n",
      "0.1 done !\n",
      "0.01 done !\n",
      "0.001 not in chis5_chiv5\n",
      "10 done !\n",
      "0 not in chis50_chiv50\n",
      "0.1 done !\n",
      "0.01 done !\n",
      "0.001 done !\n",
      "10 done !\n",
      "0 done !\n",
      "0.1 done !\n",
      "0.01 done !\n",
      "0.001 done !\n",
      "10 done !\n"
     ]
    }
   ],
   "source": [
    "Nt_N1000 = {}\n",
    "\n",
    "for chi in chi_dict.keys() :\n",
    "    subdir = \"N1000/chis\"+str(chi[0])+\"_chiv\"+str(chi[1])\n",
    "    Nt_N1000[chi] = {}\n",
    "        \n",
    "    for ca in ca_dict.keys() :\n",
    "        try :\n",
    "            Nt_N1000[chi][ca] = {}\n",
    "            for n in range(nsim) :\n",
    "                Nt_N1000[chi][ca][n] = np.loadtxt(join(main_dir, subdir, ca_dict[ca][0], 'run'+str(n).zfill(4), 'sim_nlum.dat'))\n",
    "            print(str(ca) + ' done !')\n",
    "        except :\n",
    "            pass\n",
    "            print(str(ca) + ' not in chis'+str(chi[0])+'_chiv'+str(chi[1]))\n",
    "\n",
    "       \n",
    "\n"
   ]
  },
  {
   "cell_type": "code",
   "execution_count": 6,
   "metadata": {},
   "outputs": [
    {
     "data": {
      "image/png": "[encoded data removed]",
      "text/plain": [
       "<Figure size 576x576 with 1 Axes>"
      ]
     },
     "metadata": {
      "needs_background": "light"
     },
     "output_type": "display_data"
    }
   ],
   "source": [
    "plt.figure(figsize=(8, 8))\n",
    "\n",
    "plt.xscale('log')\n",
    "plt.yscale('log')\n",
    "\n",
    "rescaled = False\n",
    "\n",
    "for chi in chi_dict.keys() :\n",
    "#for chi in [(5, 5)] :\n",
    "    for ca in ca_dict.keys() :\n",
    "        #if ca != 0 :\n",
    "        try :\n",
    "            for n in range(nsim) :\n",
    "                if rescaled :\n",
    "                    plt.plot(Nt_N1000[chi][ca][n][:, 0]*chi[0]**2, Nt_N1000[chi][ca][n][:, 1], color = ca_dict[ca][1], marker=chi_dict[chi][0], markersize=chi_dict[chi][1], alpha=chi_dict[chi][2], linewidth=chi_dict[chi][3])\n",
    "                else :\n",
    "                    plt.plot(Nt_N1000[chi][ca][n][:, 0], Nt_N1000[chi][ca][n][:, 1], color = ca_dict[ca][1], marker=chi_dict[chi][0], markersize=chi_dict[chi][1], alpha=chi_dict[chi][2], linewidth=chi_dict[chi][3])\n",
    "        except : \n",
    "            pass\n",
    "        \n",
    "\n",
    "if rescaled :\n",
    "    kappa1, alpha1 = 5000., -1\n",
    "    kappa2, alpha2 = 20., -2./5\n",
    "    t1 = np.logspace(2, 3, 101)\n",
    "    t2 = np.logspace(-4, 0, 101)\n",
    "else :\n",
    "    kappa1, alpha1 = 5000., -1\n",
    "    kappa2, alpha2 = 20., -2./5\n",
    "    t1 = np.logspace(1, 3, 101)\n",
    "    t2 = np.logspace(-4, 0, 101)\n",
    "\n",
    "plt.plot(t1, kappa1*t1**alpha1, color='k', linestyle='--', label = r'$t^{-1}$')\n",
    "plt.plot(t2, kappa2*t2**alpha2, color='k', linestyle='-.', label = r'$t^{-2/5}$')\n",
    "\n",
    "if rescaled :\n",
    "    plt.xlabel('t/T', fontsize=15)\n",
    "else :\n",
    "    plt.xlabel('Time [s]', fontsize=15)\n",
    "plt.ylabel('N(t)', fontsize=15)\n",
    "plt.title(r'HO-chain of N(0)=1000 lumens with constant pumping $c_a$', fontsize=15)\n",
    "plt.legend(fontsize=15, loc=3)\n",
    "plt.show()\n"
   ]
  },
  {
   "cell_type": "code",
   "execution_count": 17,
   "metadata": {},
   "outputs": [
    {
     "data": {
      "text/plain": [
       "<function dict.keys>"
      ]
     },
     "execution_count": 17,
     "metadata": {},
     "output_type": "execute_result"
    }
   ],
   "source": [
    "Nt_N1000[(5, 5)].keys"
   ]
  },
  {
   "cell_type": "code",
   "execution_count": null,
   "metadata": {},
   "outputs": [],
   "source": []
  }
 ],
 "metadata": {
  "kernelspec": {
   "display_name": "Python 3",
   "language": "python",
   "name": "python3"
  },
  "language_info": {
   "codemirror_mode": {
    "name": "ipython",
    "version": 3
   },
   "file_extension": ".py",
   "mimetype": "text/x-python",
   "name": "python",
   "nbconvert_exporter": "python",
   "pygments_lexer": "ipython3",
   "version": "3.7.4"
  }
 },
 "nbformat": 4,
 "nbformat_minor": 2
}
