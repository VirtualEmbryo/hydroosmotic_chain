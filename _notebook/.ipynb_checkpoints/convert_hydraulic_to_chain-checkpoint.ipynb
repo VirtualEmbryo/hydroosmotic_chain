{
 "cells": [
  {
   "cell_type": "code",
   "execution_count": 1,
   "metadata": {},
   "outputs": [],
   "source": [
    "import numpy as np\n",
    "import matplotlib.pyplot as plt\n",
    "\n",
    "import os\n",
    "import sys\n",
    "\n",
    "module_path = os.path.abspath(os.path.join('..'))\n",
    "\n",
    "if module_path not in sys.path :\n",
    "    sys.path.append(module_path)\n",
    "\n",
    "    \n",
    "import _ressources.chain as chain\n",
    "import _ressources.tools as tools\n",
    "import _ressources.lumenclass as lc\n",
    "\n",
    "main_dir = '/Users/mathieuleverge/git/chain_lumen/_data/hydraulic/'\n"
   ]
  },
  {
   "cell_type": "code",
   "execution_count": null,
   "metadata": {},
   "outputs": [],
   "source": []
  },
  {
   "cell_type": "code",
   "execution_count": 2,
   "metadata": {},
   "outputs": [],
   "source": [
    "theta = np.pi/3.\n",
    "mu = np.sin(theta) / (2*theta - np.sin(2*theta))"
   ]
  },
  {
   "cell_type": "code",
   "execution_count": 3,
   "metadata": {},
   "outputs": [],
   "source": [
    "def make_positions(positions, lengths, dist_left=2., dist_right=2.) :\n",
    "    #dist_left, dist_right = 2., 2.\n",
    "\n",
    "    pos_list = {0 : 0., 1 : dist_left+lengths[0]}   # left border and first lumen\n",
    "\n",
    "    for k in range(1, len(lengths)) :\n",
    "        pos_list[k+1] = pos_list[k] + np.abs(positions[k-1] - positions[k])\n",
    "\n",
    "    pos_list[-1] = dist_right + pos_list[len(lengths)] + lengths[len(lengths)-1]\n",
    "    return pos_list\n",
    "\n",
    "def make_lengths(lengths, pos_list) :\n",
    "    lengths_list = {}\n",
    "\n",
    "    for k in pos_list.keys() :\n",
    "        if k == 0 or k == -1 :\n",
    "            lengths_list[k] = 0.\n",
    "        else :\n",
    "            lengths_list[k] = lengths[k-1]\n",
    "    return lengths_list    \n",
    "\n",
    "def make_bridges(pos_list, lengths_list) :\n",
    "    bridges = {}\n",
    "    Nmax = len(pos_list)-1\n",
    "    for b in range(Nmax) :\n",
    "        #print('Bridge :', b)\n",
    "        if b == 0 :\n",
    "            ell = pos_list[1] - lengths_list[1]\n",
    "        elif b == Nmax-1 :\n",
    "            ell = pos_list[-1] - lengths_list[Nmax-1] - pos_list[Nmax-1]\n",
    "        else :\n",
    "            ell = np.abs(pos_list[b]-pos_list[b+1]) - (lengths_list[b]+lengths_list[b+1])\n",
    "        bridges[b] = [b, b+1, ell]\n",
    "\n",
    "    bridges[len(pos_list)-2][1] = -1\n",
    "    return bridges\n",
    "\n",
    "\n",
    "def make_config(path_source, path_dest) :\n",
    "    f1 = np.loadtxt(os.path.join(path_source,'lumen_coord.dat'))\n",
    "    f2 = np.loadtxt(os.path.join(path_source, 'lumen_lumen.dat'))\n",
    "    f3 = np.loadtxt(os.path.join(path_source, 'lumen.dat'))\n",
    "    \n",
    "    positions = f1[:, 0]\n",
    "    \n",
    "    areas = f3[:, 3]\n",
    "    lengths = np.sqrt(areas*mu)\n",
    "    \n",
    "    pos_list = make_positions(positions, lengths, dist_left=2., dist_right=2.)\n",
    "    lengths_list= make_lengths(lengths, pos_list)\n",
    "    bridges_dict = make_bridges(pos_list, lengths_list)\n",
    "    \n",
    "    l_array = np.array([[i, pos_list[i], lengths_list[i], 0., 0.] for i in pos_list.keys()])\n",
    "    b_array = np.array([[k, bridges_dict[k][0], bridges_dict[k][1], bridges_dict[k][2], 0.] for k in bridges_dict.keys()])\n",
    "    \n",
    "    o1 = np.savetxt(os.path.join(path_dest, 'lumens.dat'), l_array, fmt='%.5f', header='index\\tpos\\tlength\\tnb_ions\\tca', delimiter='\\t')\n",
    "    o2 = np.savetxt(os.path.join(path_dest, 'bridges.dat'), b_array, fmt='%.5f', header=' index\\tlum1\\tlum1\\tlength\\tca',delimiter='\\t')\n",
    "\n",
    "    return pos_list, lengths_list, bridges_dict\n",
    "\n"
   ]
  },
  {
   "cell_type": "code",
   "execution_count": 4,
   "metadata": {
    "scrolled": true
   },
   "outputs": [],
   "source": [
    "path_source = os.path.join(main_dir, 'test_2lumens', 'network')\n",
    "path_dest = os.path.join(main_dir, 'run0000')\n",
    "o = make_config(path_source, path_dest)"
   ]
  },
  {
   "cell_type": "code",
   "execution_count": 5,
   "metadata": {},
   "outputs": [
    {
     "name": "stdout",
     "output_type": "stream",
     "text": [
      "Import config from /Users/mathieuleverge/git/chain_lumen/_data/hydraulic/run0000/\n",
      "======= CHAIN =======\n",
      "Type         : hydraulic\n",
      "Total length : 11.52907\n",
      "Current Time : 0\n",
      "======= PARAMETERS =======\n",
      "tau : 1.0\n",
      "kappa : 1.0\n",
      "gammma : 1.0\n",
      "======= LUMENS =======\n",
      "Nb lumens : 3\n",
      "Lumen 0 is at position 0.00000 with length 0.00000\n",
      "Lumen 1 is at position 2.80057 with length 0.80057\n",
      "Lumen 2 is at position 5.79278 with length 0.77168\n",
      "Lumen 3 is at position 8.71771 with length 0.81136\n",
      "Lumen -1 is at position 11.52906 with length 0.00000\n",
      "======= BRIDGES ======\n",
      "Bridge 0 : (0, 1) has length 2.0\n",
      "Bridge 1 : (1, 2) has length 1.42\n",
      "Bridge 2 : (2, 3) has length 1.3419\n",
      "Bridge 3 : (3, -1) has length 2.0\n",
      "\n"
     ]
    },
    {
     "data": {
      "image/png": "[encoded data removed]",
      "text/plain": [
       "<Figure size 432x288 with 1 Axes>"
      ]
     },
     "metadata": {
      "needs_background": "light"
     },
     "output_type": "display_data"
    }
   ],
   "source": [
    "\n",
    "#L_ns, nions_ns, pos_ns = tools.load_file(os.path.join(path1, 'sim_all.dat'))\n",
    "#ell_ns = tools.load_brfile(os.path.join(path1, 'sim_bridges.dat'))\n",
    "\n",
    "conf, ch = chain.load_config(os.path.join(path_dest, 'config.conf'))\n",
    "\n",
    "show_chain = 1\n",
    "\n",
    "if show_chain :\n",
    "    print(ch)\n",
    "    x = np.linspace(0, ch.total_length, 1001)\n",
    "    tools.plot_profile(x, ch, centers=1, lw=1.5, show=True)\n",
    "    "
   ]
  },
  {
   "cell_type": "markdown",
   "metadata": {},
   "source": [
    "# RKF45"
   ]
  },
  {
   "cell_type": "code",
   "execution_count": 20,
   "metadata": {},
   "outputs": [
    {
     "name": "stdout",
     "output_type": "stream",
     "text": [
      "Import successful !\n"
     ]
    },
    {
     "data": {
      "image/png": "[encoded data removed]",
      "text/plain": [
       "<Figure size 864x432 with 2 Axes>"
      ]
     },
     "metadata": {
      "needs_background": "light"
     },
     "output_type": "display_data"
    }
   ],
   "source": [
    "\n",
    "\n",
    "L, pos = tools.load_file(os.path.join(path_dest, 'sim_all.dat'), hydroosmotic=False)\n",
    "ell = tools.load_brfile(os.path.join(path_dest, 'sim_bridges.dat'))\n",
    "\n",
    "#savename = os.path.join(main_dir, '_data/osmotic_competition/osmotic_eq/no_screening/graphs.eps')\n",
    "\n",
    "show_area=False\n",
    "savefig=False\n",
    "x_log=True\n",
    "\n",
    "tools.plot_evolution_hydraulic(L, ell, savename='', show_totalarea=show_area, savefig=savefig, x_logscale=x_log, figsize=(12, 6))\n",
    "\n"
   ]
  },
  {
   "cell_type": "markdown",
   "metadata": {},
   "source": [
    "# Hydraulic coarsening - Annette"
   ]
  },
  {
   "cell_type": "code",
   "execution_count": 16,
   "metadata": {},
   "outputs": [],
   "source": [
    "areas = np.loadtxt(os.path.join(main_dir, 'test_2lumens/out', 'area.dat'))"
   ]
  },
  {
   "cell_type": "code",
   "execution_count": 18,
   "metadata": {},
   "outputs": [
    {
     "data": {
      "image/png": "[encoded data removed]",
      "text/plain": [
       "<Figure size 432x288 with 1 Axes>"
      ]
     },
     "metadata": {
      "needs_background": "light"
     },
     "output_type": "display_data"
    }
   ],
   "source": [
    "plt.xscale('log')\n",
    "for i in range(len(areas[0, 1:])) :\n",
    "    plt.plot(areas[:, 0], areas[:, i+1])"
   ]
  },
  {
   "cell_type": "code",
   "execution_count": null,
   "metadata": {},
   "outputs": [],
   "source": []
  }
 ],
 "metadata": {
  "kernelspec": {
   "display_name": "Python 3",
   "language": "python",
   "name": "python3"
  },
  "language_info": {
   "codemirror_mode": {
    "name": "ipython",
    "version": 3
   },
   "file_extension": ".py",
   "mimetype": "text/x-python",
   "name": "python",
   "nbconvert_exporter": "python",
   "pygments_lexer": "ipython3",
   "version": "3.7.4"
  }
 },
 "nbformat": 4,
 "nbformat_minor": 2
}
