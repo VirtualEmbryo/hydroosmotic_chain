{
 "cells": [
  {
   "cell_type": "code",
   "execution_count": 1,
   "metadata": {},
   "outputs": [],
   "source": [
    "import numpy as np\n",
    "import matplotlib.pyplot as plt\n",
    "\n",
    "import os\n",
    "from os.path import join as join\n",
    "import sys\n",
    "\n",
    "module_path = os.path.abspath(os.path.join('..'))\n",
    "\n",
    "if module_path not in sys.path :\n",
    "    sys.path.append(module_path)\n",
    "\n",
    "     \n",
    "import _ressources.chain as chain\n",
    "import _ressources.tools as tools\n",
    "import _ressources.lumenclass as lc\n",
    "import _ressources.analysis_tools.analysis as an\n",
    "import _ressources.network as net\n",
    "\n",
    "from scipy.optimize import curve_fit\n",
    "\n",
    "main_dir = '/Users/mathieuleverge/git/chain_lumen/_data/osmotic'"
   ]
  },
  {
   "cell_type": "code",
   "execution_count": 2,
   "metadata": {},
   "outputs": [],
   "source": [
    "def lin(x, a, b) :\n",
    "    return a*x+b\n",
    "\n",
    "def fit_coeff(func, x_dat, y_dat) :\n",
    "    x_dat_log, y_dat_log = x_dat, y_dat\n",
    "    popt, pcov = curve_fit(func, x_dat_log, y_dat_log)\n",
    "    return popt#, pcov\n",
    "\n",
    "def average_powerlaw(a_list, k_list) :\n",
    "    a_avg = np.average(a_list)\n",
    "    k_avg = np.exp(np.average(k_list))\n",
    "    return a_avg, k_avg\n",
    "\n",
    "def calc_mu(theta) :\n",
    "    return np.sin(theta)**2 / (2*theta - np.sin(2*theta))\n",
    "\n",
    "def calc_chi(theta, gamma, kappa, ell0, L0) :\n",
    "    mu = calc_mu(theta)\n",
    "    return 0.5*mu*np.sin(theta)*gamma*kappa / (ell0*L0**3)\n",
    "    #return gamma*kappa / (ell0*L0**3)\n",
    "\n",
    "def calc_chi(theta, eps, kappa, ell0, L0) :\n",
    "    mu = calc_mu(theta)\n",
    "    return 0.5*mu*np.sin(theta)*eps*kappa / (ell0*L0**3)\n",
    "    #return mu*np.sin(theta)*eps / (L0*ell0**3)\n",
    "\n",
    "\n",
    "def lin(x, a, b) :\n",
    "    return a*x+b\n",
    "\n",
    "def fit_lin(t, N) :\n",
    "    x, y = np.log(t), np.log(N)\n",
    "    popt, pcov = curve_fit(lin, x, y)\n",
    "    alpha, kappa = popt[0], np.exp(popt[1])\n",
    "    alpha_std, kappa_std = pcov[0, 0], np.exp(pcov[1, 1])\n",
    "    return kappa, alpha#, kappa_std, alpha_std\n",
    "    "
   ]
  },
  {
   "cell_type": "code",
   "execution_count": 3,
   "metadata": {},
   "outputs": [],
   "source": [
    "def import_osmotic(chis, chiv, path_list, plot_param_list, Nt_list, rescale = False, scatter=False, tau=1., L0=1., ell0=10.) :\n",
    "    global mu, eps\n",
    "    xiv = ell0*chiv\n",
    "    T = (2*tau*L0*ell0)/((xiv**2)*mu*eps)\n",
    "    \n",
    "    label = False\n",
    "    Nt_list[(chis, chiv)] = {}\n",
    "    for n in range(nsim) :\n",
    "        if chis==500 and chiv==50 : \n",
    "            n+=20\n",
    "        Nt_list[(chis, chiv)][n] = np.loadtxt(os.path.join(path_list[(chis, chiv)][n], 'sim_nlum.dat'))\n",
    "    return Nt_list[(chis, chiv)]\n",
    "\n",
    "def make_path_dict(nsim, chis, chiv, pathdict, main_dir, subdir) :\n",
    "    pathdict[(chis, chiv)] = {}\n",
    "    for n in range(nsim) :\n",
    "        subsubdir = 'chiv' + str(chiv) + '_chis' + str(chis)\n",
    "        pathdict[(chis, chiv)][n] = os.path.join(main_dir, subdir, subsubdir, 'run'+str(n).zfill(4))\n",
    "    #return pathdict\n",
    "    "
   ]
  },
  {
   "cell_type": "code",
   "execution_count": 4,
   "metadata": {},
   "outputs": [],
   "source": [
    "mu = net.calc_muj_list(theta_list=np.pi/3.)\n",
    "eps = 1e-3\n"
   ]
  },
  {
   "cell_type": "markdown",
   "metadata": {},
   "source": [
    "## N(0) = 1000"
   ]
  },
  {
   "cell_type": "code",
   "execution_count": 5,
   "metadata": {},
   "outputs": [],
   "source": [
    "ms = 5\n",
    "lw = 1\n",
    "alpha=1\n",
    "\n",
    "plot_param_list = {(5, 5) : ['#780096', '+', ms, lw, alpha], \n",
    "                   (50, 5) : ['#FF36B8', '+', ms, lw, alpha], \n",
    "                   (500, 5) : ['#FF0700', '+', ms, lw, alpha], \n",
    "                   (5, 50) : ['#62FFFF', '+', ms, lw, alpha], \n",
    "                   (50, 50) : ['#009BFF', 'o', ms, lw, alpha], \n",
    "                   (500, 50) : ['#0000FF', '+', ms, lw, alpha], \n",
    "                   (5, 500) : ['#D9E34C', '+', ms, lw, alpha], \n",
    "                   (50, 500) : ['#63DB00', '+', ms, lw, alpha], \n",
    "                   (500, 500) : ['#00B400', '+', ms, lw, alpha]\n",
    "                   }"
   ]
  },
  {
   "cell_type": "code",
   "execution_count": 6,
   "metadata": {},
   "outputs": [],
   "source": [
    "#subdir = 'N1000/ell10/old_version'\n",
    "subdir = 'N1000/ell10/'\n",
    "nsim=20\n",
    "\n",
    "path_list_N1000 = {}\n",
    "\n",
    "pathdict = path_list_N1000\n",
    "\n",
    "# ========================================================================================\n",
    "# ===============================  chis = 5.   ===========================================\n",
    "# ========================================================================================\n",
    "\n",
    "# chis = 5, chiv = 5\n",
    "chis = 5\n",
    "chiv = 5\n",
    "make_path_dict(nsim, chis, chiv, pathdict, main_dir, subdir)\n",
    "\n",
    "#for n in range(nsim) :\n",
    "#    subsubdir = 'chis' + str(chis) + '_chiv' + str(chiv)\n",
    "#    path_list_N1000[(chis, chiv)][n] = os.path.join(main_dir, subdir, subsubdir, 'run'+str(n).zfill(4))\n",
    "    \n",
    "# chis = 5, chiv = 50\n",
    "chis = 5\n",
    "chiv = 50\n",
    "make_path_dict(nsim, chis, chiv, pathdict, main_dir, subdir)\n",
    "    \n",
    "# chis = 5, chiv = 50\n",
    "chis = 5\n",
    "chiv = 500\n",
    "make_path_dict(nsim, chis, chiv, pathdict, main_dir, subdir)\n",
    "    \n",
    "# ========================================================================================\n",
    "# ===============================  chis = 50.  ===========================================\n",
    "# ========================================================================================\n",
    "    \n",
    "# chis = 50, chiv = 5\n",
    "chis = 50\n",
    "chiv = 5\n",
    "make_path_dict(nsim, chis, chiv, pathdict, main_dir, subdir)\n",
    "    \n",
    "# chis = 50, chiv = 50\n",
    "chis = 50\n",
    "chiv = 50\n",
    "make_path_dict(nsim, chis, chiv, pathdict, main_dir, subdir)\n",
    "\n",
    "# chis = 50, chiv = 500\n",
    "chis = 50\n",
    "chiv = 500\n",
    "make_path_dict(nsim, chis, chiv, pathdict, main_dir, subdir)\n",
    "    \n",
    "# ========================================================================================\n",
    "# ===============================  chis = 500.  ==========================================\n",
    "# ========================================================================================\n",
    "\n",
    "# chis = 500, chiv = 5\n",
    "chis = 500\n",
    "chiv = 5\n",
    "make_path_dict(nsim, chis, chiv, pathdict, main_dir, subdir)\n",
    "    \n",
    "# chis = 500, chiv = 50\n",
    "chis = 500\n",
    "chiv = 50\n",
    "make_path_dict(nsim, chis, chiv, pathdict, main_dir, subdir)\n",
    "\n",
    "# chis = 500, chiv = 500\n",
    "chis = 500\n",
    "chiv = 500\n",
    "make_path_dict(nsim, chis, chiv, pathdict, main_dir, subdir)\n",
    "    "
   ]
  },
  {
   "cell_type": "code",
   "execution_count": 14,
   "metadata": {},
   "outputs": [
    {
     "name": "stdout",
     "output_type": "stream",
     "text": [
      "(chiv 5, chis 50) imported !\n"
     ]
    }
   ],
   "source": [
    "#Nt_list_N1000 = {}\n",
    "\n",
    "#plt.figure(figsize=(8, 8))\n",
    "\n",
    "rescale = True\n",
    "scatter = False\n",
    "\n",
    "#plt.xscale('log')\n",
    "#plt.yscale('log')\n",
    "\n",
    "# ========================================================================================\n",
    "# ===============================  chiv = 5.  ============================================\n",
    "# ========================================================================================\n",
    "\n",
    "chiv5_chis5 = 0#1\n",
    "if chiv5_chis5 :\n",
    "    chis = 5\n",
    "    chiv = 5\n",
    "    Nt_list_N1000[(chis, chiv)] = import_osmotic(chis, chiv, path_list_N1000, plot_param_list, Nt_list_N1000, rescale = rescale, scatter=scatter)\n",
    "    print('(chiv 5, chis 5) imported !')\n",
    "    \n",
    "chiv5_chis50 = 1\n",
    "if chiv5_chis50 :\n",
    "    chis = 50\n",
    "    chiv = 5\n",
    "    Nt_list_N1000[(chis, chiv)] = import_osmotic(chis, chiv, path_list_N1000, plot_param_list, Nt_list_N1000, rescale = rescale, scatter=scatter)\n",
    "    print('(chiv 5, chis 50) imported !')\n",
    "    \n",
    "    \n",
    "chiv5_chis500 = 0\n",
    "if chiv5_chis500 :\n",
    "    chis = 500\n",
    "    chiv = 5\n",
    "    Nt_list_N1000[(chis, chiv)] = import_osmotic(chis, chiv, path_list_N1000, plot_param_list, Nt_list_N100, rescale = rescale, scatter=scatter)\n",
    "    print('(chiv 5, chis 500) imported !')\n",
    "    \n",
    "# ========================================================================================\n",
    "# ===============================  chiv = 50.  ===========================================\n",
    "# ========================================================================================\n",
    "\n",
    "chiv50_chis5 = 0#1\n",
    "if chiv50_chis5 :\n",
    "    chis = 5\n",
    "    chiv = 50\n",
    "    Nt_list_N1000[(chis, chiv)] = import_osmotic(chis, chiv, path_list_N1000, plot_param_list, Nt_list_N1000, rescale = rescale, scatter=scatter)\n",
    "    print('(chiv 50, chis 5) imported !')\n",
    "    \n",
    "chiv50_chis50 = 0#1\n",
    "if chiv50_chis50 :\n",
    "    chis = 50\n",
    "    chiv = 50\n",
    "    Nt_list_N1000[(chis, chiv)] = import_osmotic(chis, chiv, path_list_N1000, plot_param_list, Nt_list_N1000, rescale = rescale, scatter=scatter)\n",
    "    print('(chiv 50, chis 50) imported !')\n",
    "    \n",
    "chiv50_chis500 = 0\n",
    "if chiv50_chis500 :\n",
    "    chis = 500\n",
    "    chiv = 50\n",
    "    Nt_list_N1000[(chis, chiv)] = import_osmotic(chis, chiv, path_list_N1000, plot_param_list, Nt_list_N1000, rescale = rescale, scatter=scatter)\n",
    "    print('(chiv 50, chis 500) imported !')\n",
    "    \n",
    "# ========================================================================================\n",
    "# ===============================  chiv = 500.  ==========================================\n",
    "# ========================================================================================\n",
    "\n",
    "chiv500_chis5 = 0#1\n",
    "if chiv500_chis5 :\n",
    "    chis = 5\n",
    "    chiv = 500\n",
    "    Nt_list_N1000[(chis, chiv)] = import_osmotic(chis, chiv, path_list_N1000, plot_param_list, Nt_list_N1000, rescale = rescale, scatter=scatter)\n",
    "    print('(chiv 500, chis 5) imported !')\n",
    "    \n",
    "chiv500_chis50 = 0#1\n",
    "if chiv500_chis50 :\n",
    "    chis = 50\n",
    "    chiv = 500\n",
    "    Nt_list_N1000[(chis, chiv)] = import_osmotic(chis, chiv, path_list_N1000, plot_param_list, Nt_list_N1000, rescale = rescale, scatter=scatter)\n",
    "    print('(chiv 500, chis 50) imported !')\n",
    "    \n",
    "chiv500_chis500 = 0#1\n",
    "if chiv500_chis500 :\n",
    "    chis = 500\n",
    "    chiv = 500\n",
    "    Nt_list_N1000[(chis, chiv)] = import_osmotic(chis, chiv, path_list_N1000, plot_param_list, Nt_list_N1000, rescale = rescale, scatter=scatter)\n",
    "    print('(chiv 500, chis 500) imported !')\n",
    "    "
   ]
  },
  {
   "cell_type": "code",
   "execution_count": 15,
   "metadata": {},
   "outputs": [],
   "source": [
    "def gen_log_times(tmin, tmax, npts) :\n",
    "    return np.logspace(np.log10(tmin), np.log10(tmax), npts)\n",
    "\n",
    "def find_argmins(Nt, log_times) :\n",
    "    index_array = np.zeros(len(log_times), dtype=int)\n",
    "    for k in range(len(log_times)) :\n",
    "        index_array[k] = np.argmin(np.abs(log_times[k]-Nt[:, 0]))\n",
    "    return index_array\n",
    "\n",
    "def gen_index_array(Nt, npts) :\n",
    "    size = len(Nt)\n",
    "    \n",
    "    tmin = np.min(Nt[1:, 0])   # skip the first time since t=0\n",
    "    tmax = np.max(Nt[1:, 0])   # skip the first time since t=0\n",
    "    \n",
    "    log_times = gen_log_times(tmin, tmax, npts)\n",
    "    index_array = find_argmins(Nt, log_times)\n",
    "    \n",
    "    return index_array\n",
    "\n",
    "def plot_conf(chis, chiv, Nt, wmin=-6, wmax=3, rescaled=False, ell0=10, L0=1, tau=1, show_sim=False) :\n",
    "    xiv = ell0*chiv\n",
    "    T = (2*tau*L0*ell0)/((xiv**2)*mu*eps)\n",
    "    if show_sim :\n",
    "        for n in range(nsim) :\n",
    "            index_array = gen_index_array(Nt[(chis, chiv)][n], npts)\n",
    "            if rescaled :\n",
    "                plt.plot(Nt[(chis, chiv)][n][index_array, 0]/T, Nt[(chis, chiv)][n][index_array, 1], color = plot_param_list[(chis, chiv)][0], alpha = 0.1)\n",
    "            else :\n",
    "                plt.plot(Nt[(chis, chiv)][n][index_array, 0], Nt[(chis, chiv)][n][index_array, 1], color = plot_param_list[(chis, chiv)][0], alpha = 0.1)\n",
    "\n",
    "    res_avg, res_std = an.batch(data_dict=Nt[(chis, chiv)], wmin=wmin, wmax=wmax, nwindow=npts)\n",
    "    if rescaled :\n",
    "        plt.plot(res_avg[:, 0]/T, res_avg[:, 1], marker=plot_param_list[(chis, chiv)][1], color = plot_param_list[(chis, chiv)][0], markersize=plot_param_list[(chis, chiv)][2], linewidth=plot_param_list[(chis, chiv)][3], linestyle=plot_param_list[(chis, chiv)][5], label = r'$\\chi_v = '+str(chiv)+' ; \\chi_s = '+str(chis)+'$')\n",
    "    else :\n",
    "        plt.plot(res_avg[:, 0], res_avg[:, 1], marker=plot_param_list[(chis, chiv)][1], color = plot_param_list[(chis, chiv)][0], markersize=plot_param_list[(chis, chiv)][2], linewidth=plot_param_list[(chis, chiv)][3], linestyle=plot_param_list[(chis, chiv)][5], label = r'$\\chi_v = '+str(chiv)+' ; \\chi_s = '+str(chis)+'$')\n",
    "    \n",
    "    #N0=1000      \n",
    "    #Tf = T*N0**(5./2)\n",
    "    #plt.vlines(x=1/Tf, ymin=1., ymax=N0, linestyle = '--', color=plot_param_list[(chis, chiv)][0])\n"
   ]
  },
  {
   "cell_type": "code",
   "execution_count": 16,
   "metadata": {},
   "outputs": [],
   "source": [
    "ms = 8\n",
    "lw = 1\n",
    "alpha=1\n",
    "\n",
    "plot_param_list = {(5, 5) : ['#E54367', 's', ms, lw, alpha, '-.'], \n",
    "                   (50, 5) : ['#CC6677', '*', ms+2, lw, alpha, 'dotted'],\n",
    "                   (500, 5) : ['#666633', 'o', ms, lw, alpha, '--'], \n",
    "                   (5, 50) : ['#33BBEE', 'P', ms, lw, alpha, '--'], \n",
    "                   (50, 50) : ['#8DD800', 'o', ms, lw, alpha, '-.'], \n",
    "                   (500, 50) : ['#FF8900', '^', ms, lw, alpha, 'dotted'], \n",
    "                   (5, 500) : ['#1433E4', 'D', ms, lw, alpha, '-.'], \n",
    "                   (50, 500) : ['#FFD425', 'H', ms, lw, alpha, '--'], \n",
    "                   (500, 500) : ['#E90000', '<', ms, lw, alpha, 'dotted']\n",
    "                   }"
   ]
  },
  {
   "cell_type": "code",
   "execution_count": 18,
   "metadata": {
    "scrolled": false
   },
   "outputs": [
    {
     "name": "stdout",
     "output_type": "stream",
     "text": [
      "End of import !\n",
      "End of import !\n",
      "End of import !\n",
      "End of import !\n",
      "End of import !\n",
      "End of import !\n"
     ]
    },
    {
     "name": "stderr",
     "output_type": "stream",
     "text": [
      "The PostScript backend does not support transparency; partially transparent artists will be rendered opaque.\n",
      "The PostScript backend does not support transparency; partially transparent artists will be rendered opaque.\n"
     ]
    },
    {
     "data": {
      "image/png": "[encoded data removed]",
      "text/plain": [
       "<Figure size 576x288 with 1 Axes>"
      ]
     },
     "metadata": {
      "needs_background": "light"
     },
     "output_type": "display_data"
    }
   ],
   "source": [
    "#plt.figure(figsize=(8, 8))\n",
    "plt.figure(figsize=(8, 4))\n",
    "plt.xscale('log')\n",
    "plt.yscale('log')\n",
    "\n",
    "show_sim = False\n",
    "rescaled = False\n",
    "savefig = True\n",
    "\n",
    "npts = 50\n",
    "nsim = 20\n",
    "\n",
    "chiv5 = True\n",
    "if chiv5 :\n",
    "    # ===================\n",
    "    chiv, chis = 5, 5\n",
    "    plot_conf(chis, chiv, Nt=Nt_list_N1000, wmin=-6, wmax=3, rescaled=rescaled, ell0=10, L0=1, tau=1, show_sim=False)\n",
    "\n",
    "    # ===================\n",
    "    #chiv, chis = 5, 50\n",
    "    #plot_conf(chis, chiv, Nt=Nt_list_N1000, wmin=-6, wmax=3, rescaled=rescaled, ell0=10, L0=1, tau=1, show_sim=False)\n",
    "\n",
    "    # ===================\n",
    "    #chiv, chis = 5, 500\n",
    "    #plot_conf(chis, chiv, Nt=Nt_list_N1000, wmin=-6, wmax=3, rescaled=rescaled, ell0=10, L0=1, tau=1, show_sim=False)\n",
    "\n",
    "chiv50 = True\n",
    "if chiv50 :\n",
    "    # ===================\n",
    "    chiv, chis = 50, 5\n",
    "    plot_conf(chis, chiv, Nt=Nt_list_N1000, wmin=-6, wmax=4, rescaled=rescaled, ell0=10, L0=1, tau=1, show_sim=False)\n",
    "    \n",
    "    # ===================\n",
    "    chiv, chis = 50, 50\n",
    "    plot_conf(chis, chiv, Nt=Nt_list_N1000, wmin=-6, wmax=4, rescaled=rescaled, ell0=10, L0=1, tau=1, show_sim=False)\n",
    "    \n",
    "    # ===================\n",
    "    #chiv, chis = 50, 500\n",
    "    #plot_conf(chis, chiv, Nt=Nt_list_N1000, wmin=-6, wmax=3, rescaled=rescaled, ell0=10, L0=1, tau=1, show_sim=False)\n",
    "\n",
    "chiv500 = True\n",
    "if chiv500 :\n",
    "    # ===================\n",
    "    chiv, chis = 500, 5\n",
    "    plot_conf(chis, chiv, Nt=Nt_list_N1000, wmin=-6, wmax=3, rescaled=rescaled, ell0=10, L0=1, tau=1, show_sim=False)\n",
    "\n",
    "    # ===================\n",
    "    chiv, chis = 500, 50\n",
    "    plot_conf(chis, chiv, Nt=Nt_list_N1000, wmin=-6, wmax=3, rescaled=rescaled, ell0=10, L0=1, tau=1, show_sim=False)\n",
    "\n",
    "    # ===================\n",
    "    chiv, chis = 500, 500\n",
    "    plot_conf(chis, chiv, Nt=Nt_list_N1000, wmin=-6, wmax=3, rescaled=rescaled, ell0=10, L0=1, tau=1, show_sim=False)\n",
    "\n",
    "lines = False#True\n",
    "if lines :\n",
    "    #chiv = 5\n",
    "    #plt.vlines(x=(chiv/2.)**(5/2.), ymin=1, ymax = 1e3, linestyle='--')\n",
    "    #Nc = 2*1000/chiv\n",
    "    #plt.hlines(xmin=1e-1, xmax=1e2, y=Nc, linestyle='--', color='k')\n",
    "\n",
    "    chiv_c = 1.5\n",
    "    chiv=50\n",
    "    plt.vlines(x=(chiv/chiv_c)**(5/2.), ymin=1, ymax = 1e3, linestyle='-.')\n",
    "    Nc = chiv_c*1000/chiv\n",
    "    plt.hlines(xmin=1, xmax=1e6, y=Nc, linestyle='-.', color='k')\n",
    "\n",
    "    chiv=500\n",
    "    plt.vlines(x=1000**(5/2.), ymin=1,  ymax=1e3, linestyle='dotted')\n",
    "\n",
    "\n",
    "plt.legend(fontsize=12, loc=3, markerscale=1.2)\n",
    "#plt.grid()\n",
    "\n",
    "if rescaled :\n",
    "    plt.xlabel(r'$t/T_v$', fontsize=15)\n",
    "else :\n",
    "    plt.xlabel(r'$t/\\tau_v$', fontsize=15)\n",
    "    \n",
    "plt.ylabel('N(t)', fontsize=15)\n",
    "\n",
    "if rescaled :\n",
    "    k, a = 300, -0.4\n",
    "    t = np.logspace(0.5, 5, 101)\n",
    "    #plt.plot(t, k*t**a, color = 'k')\n",
    "    if savefig :\n",
    "        plt.savefig('/Users/mathieuleverge/git/chain_lumen/_notebook/figures/HO_coarsening_rescaled.eps', format='eps')\n",
    "else :\n",
    "    k, a = 10, -0.4\n",
    "    t = np.logspace(-4, 1, 101)\n",
    "    plt.plot(t, k*t**a, color = 'k')\n",
    "    if savefig :\n",
    "        plt.savefig('/Users/mathieuleverge/git/chain_lumen/_notebook/figures/HO_coarsening.eps', format='eps')\n",
    "\n",
    "\n",
    "    \n",
    "plt.show()\n",
    "    "
   ]
  },
  {
   "cell_type": "markdown",
   "metadata": {},
   "source": [
    "# Average bridge length"
   ]
  },
  {
   "cell_type": "code",
   "execution_count": null,
   "metadata": {},
   "outputs": [],
   "source": []
  },
  {
   "cell_type": "code",
   "execution_count": 9,
   "metadata": {},
   "outputs": [
    {
     "ename": "FileNotFoundError",
     "evalue": "[Errno 2] No such file or directory: '/Users/mathieuleverge/git/chain_lumen/_data/osmotic/N1000/ell10/chis5_chiv5'",
     "output_type": "error",
     "traceback": [
      "\u001b[0;31m---------------------------------------------------------------------------\u001b[0m",
      "\u001b[0;31mFileNotFoundError\u001b[0m                         Traceback (most recent call last)",
      "\u001b[0;32m<ipython-input-9-ba88f8750323>\u001b[0m in \u001b[0;36m<module>\u001b[0;34m\u001b[0m\n\u001b[1;32m      6\u001b[0m     \u001b[0mpath\u001b[0m \u001b[0;34m=\u001b[0m \u001b[0mos\u001b[0m\u001b[0;34m.\u001b[0m\u001b[0mpath\u001b[0m\u001b[0;34m.\u001b[0m\u001b[0mjoin\u001b[0m\u001b[0;34m(\u001b[0m\u001b[0mmain_dir\u001b[0m\u001b[0;34m,\u001b[0m \u001b[0;34m'N1000'\u001b[0m\u001b[0;34m,\u001b[0m \u001b[0;34m'ell10'\u001b[0m\u001b[0;34m,\u001b[0m \u001b[0;34m'chis'\u001b[0m\u001b[0;34m+\u001b[0m\u001b[0mstr\u001b[0m\u001b[0;34m(\u001b[0m\u001b[0mchis\u001b[0m\u001b[0;34m)\u001b[0m\u001b[0;34m+\u001b[0m\u001b[0;34m'_chiv'\u001b[0m\u001b[0;34m+\u001b[0m\u001b[0mstr\u001b[0m\u001b[0;34m(\u001b[0m\u001b[0mchiv\u001b[0m\u001b[0;34m)\u001b[0m\u001b[0;34m)\u001b[0m\u001b[0;34m\u001b[0m\u001b[0;34m\u001b[0m\u001b[0m\n\u001b[1;32m      7\u001b[0m     \u001b[0mell_dict\u001b[0m\u001b[0;34m[\u001b[0m\u001b[0mchi\u001b[0m\u001b[0;34m]\u001b[0m \u001b[0;34m=\u001b[0m \u001b[0;34m{\u001b[0m\u001b[0;34m}\u001b[0m\u001b[0;34m\u001b[0m\u001b[0;34m\u001b[0m\u001b[0m\n\u001b[0;32m----> 8\u001b[0;31m     \u001b[0;32mfor\u001b[0m \u001b[0melem\u001b[0m \u001b[0;32min\u001b[0m \u001b[0mos\u001b[0m\u001b[0;34m.\u001b[0m\u001b[0mlistdir\u001b[0m\u001b[0;34m(\u001b[0m\u001b[0mpath\u001b[0m\u001b[0;34m)\u001b[0m \u001b[0;34m:\u001b[0m\u001b[0;34m\u001b[0m\u001b[0;34m\u001b[0m\u001b[0m\n\u001b[0m\u001b[1;32m      9\u001b[0m         \u001b[0;32mif\u001b[0m \u001b[0melem\u001b[0m\u001b[0;34m.\u001b[0m\u001b[0mstartswith\u001b[0m\u001b[0;34m(\u001b[0m\u001b[0;34m'run'\u001b[0m\u001b[0;34m)\u001b[0m \u001b[0;34m:\u001b[0m\u001b[0;34m\u001b[0m\u001b[0;34m\u001b[0m\u001b[0m\n\u001b[1;32m     10\u001b[0m             \u001b[0mkey\u001b[0m \u001b[0;34m=\u001b[0m \u001b[0mint\u001b[0m\u001b[0;34m(\u001b[0m\u001b[0melem\u001b[0m\u001b[0;34m[\u001b[0m\u001b[0;34m-\u001b[0m\u001b[0;36m4\u001b[0m\u001b[0;34m:\u001b[0m\u001b[0;34m]\u001b[0m\u001b[0;34m)\u001b[0m\u001b[0;34m\u001b[0m\u001b[0;34m\u001b[0m\u001b[0m\n",
      "\u001b[0;31mFileNotFoundError\u001b[0m: [Errno 2] No such file or directory: '/Users/mathieuleverge/git/chain_lumen/_data/osmotic/N1000/ell10/chis5_chiv5'"
     ]
    }
   ],
   "source": [
    "ell_dict = {}\n",
    "chi_list = [(5, 5), (50, 5), (5, 50), (50, 50), (500, 50), (500, 500)]\n",
    "\n",
    "for chi in chi_list :\n",
    "    chis, chiv = chi[0], chi[1]\n",
    "    path = os.path.join(main_dir, 'N1000', 'ell10', 'chis'+str(chis)+'_chiv'+str(chiv))\n",
    "    ell_dict[chi] = {}\n",
    "    for elem in os.listdir(path) :\n",
    "        if elem.startswith('run') :\n",
    "            key = int(elem[-4:])\n",
    "            try :\n",
    "                ell_dict[chi][key] = np.genfromtxt(os.path.join(path, elem, 'sim_ell_avg.dat'))\n",
    "            except : pass\n"
   ]
  },
  {
   "cell_type": "code",
   "execution_count": null,
   "metadata": {},
   "outputs": [],
   "source": [
    "plt.figure(figsize=(8,4))\n",
    "plt.xscale('log')\n",
    "plt.yscale('log')\n",
    "for chi in chi_list :\n",
    "    chis, chiv = chi[0], chi[1]\n",
    "    haslabel=False\n",
    "    plot_param_list\n",
    "    for sim in ell_dict[chi].keys() :\n",
    "        if haslabel :\n",
    "            plt.plot(ell_dict[chi][sim][1:, 0], chiv/ell_dict[chi][sim][1:, 1], color = plot_param_list[chi][0], )\n",
    "        else :\n",
    "            plt.plot(ell_dict[chi][sim][1:, 0], chiv/ell_dict[chi][sim][1:, 1], color = plot_param_list[chi][0], label = r'$\\chi_s=$'+str(chis)+r', $\\chi_v=$'+str(chiv))\n",
    "            haslabel=True\n",
    "\n",
    "#plt.hlines(xmin=1e-5, xmax=1e4, y=0.1)\n",
    "\n",
    "t = np.logspace(-4, 3, 101)\n",
    "k, a = 5, -2./5\n",
    "plt.plot(t, k*t**a, color='k', linestyle='--')\n",
    "\n",
    "plt.xlabel(r'$t/\\tau_v$', fontsize=12)\n",
    "plt.ylabel(r'$\\xi_v / \\ell(t)$', fontsize=12)\n",
    "plt.grid()\n",
    "plt.legend(loc=3)\n",
    "plt.show()"
   ]
  },
  {
   "cell_type": "code",
   "execution_count": null,
   "metadata": {},
   "outputs": [],
   "source": [
    "plt.xscale('log')\n",
    "plt.yscale('log')\n",
    "plt.plot(res_avg[:, 0], chiv/res_avg[:, 1], marker='o')"
   ]
  },
  {
   "cell_type": "code",
   "execution_count": null,
   "metadata": {},
   "outputs": [],
   "source": []
  },
  {
   "cell_type": "markdown",
   "metadata": {},
   "source": [
    "# Distribution"
   ]
  },
  {
   "cell_type": "code",
   "execution_count": null,
   "metadata": {},
   "outputs": [],
   "source": []
  },
  {
   "cell_type": "code",
   "execution_count": 115,
   "metadata": {},
   "outputs": [],
   "source": [
    "def find_tstep(time_list, t0) :\n",
    "    return np.argmin(np.abs(time_list - t0))\n",
    "\n",
    "def calc_avg_distrib(X_dict, Y_dict) :\n",
    "    X_array = np.array([X_dict[k] for k in X_dict.keys()])\n",
    "    X_avg = np.average(X_array, axis=0)\n",
    "\n",
    "    Y_array = np.array([Y_dict[k] for k in Y_dict.keys()])\n",
    "    Y_avg = np.average(Y_array, axis=0)\n",
    "    return X_avg, Y_avg\n",
    "\n",
    "\n",
    "\n",
    "def make_T_dict(folder, npts, nsim=20, log_tmin=-3, log_tmax=7) :\n",
    "    time_plot_list = np.logspace(log_tmin, log_tmax, npts)\n",
    "    T_dict = {}\n",
    "    for k in range(nsim) :\n",
    "        T_dict[k] = np.loadtxt(os.path.join(folder, 'run'+str(k).zfill(4)+'/distrib_length.dat'), usecols=0)\n",
    "    return T_dict, time_plot_list\n",
    "\n",
    "def make_step_dict(T_dict, time_plot_list, npts, nsim) :\n",
    "    step_dict = {}\n",
    "    for n in range(npts) :\n",
    "        step_dict[n] = {}\n",
    "        for k in range(nsim) :\n",
    "            step_dict[n][k] = np.argmin(np.abs(T_dict[k] - time_plot_list[n]))\n",
    "    return step_dict\n",
    "\n",
    "def plot_distrib(step, nsim, folder, T_dict, time_plot_list, step_dict, Nt, show_hist=True, savefig=False, savename='pic.png', rescaled=True, extension='png') :\n",
    "    L = []\n",
    "    N = []\n",
    "    C = []\n",
    "    \n",
    "    fig, ax = plt.subplots(1, 3, figsize=(15, 5))\n",
    "    \n",
    "    ax[2].set_xscale('log')\n",
    "    ax[2].set_yscale('log')\n",
    "    \n",
    "    ax[0].set_xlim(0.1, 1.80)\n",
    "    ax[0].set_ylim(0., 1.)\n",
    "    \n",
    "    ax[1].set_ylim(0., 1.)\n",
    "    ax[1].set_xlim(0., 2.)\n",
    "    \n",
    "    \n",
    "    for k in range(nsim) :\n",
    "        if 1 :\n",
    "        #try :\n",
    "            len_sim = len(T_dict[k])       # Length of the sim k\n",
    "            step_sim = step_dict[step][k]     # Corresponding step for k\n",
    "            data_L = np.genfromtxt(os.path.join(folder, 'run'+str(k).zfill(4)+'/distrib_length.dat'), skip_header=step_sim, skip_footer=len_sim-step_sim-1)\n",
    "            data_N = np.genfromtxt(os.path.join(folder, 'run'+str(k).zfill(4)+'/distrib_nion.dat'), skip_header=step_sim, skip_footer=len_sim-step_sim-1)\n",
    "            t_sim_L, lengths_sim = data_L[0], data_L[1:]\n",
    "            t_sim_N, nion_sim = data_N[0], data_N[1:]\n",
    "            concentration_sim = nion_sim/lengths_sim**2 - 1.\n",
    "            #print(data)\n",
    "\n",
    "            new_bins = np.max([10, int(np.log10(len(lengths_sim)))*10])\n",
    "\n",
    "            #print(len(lengths_sim), bins, new_bins)\n",
    "\n",
    "            L += [lengths_sim]\n",
    "            N += [nion_sim]\n",
    "            C += [concentration_sim]\n",
    "            weights_L = np.ones_like(lengths_sim)/float(len(lengths_sim))\n",
    "            weights_N = np.ones_like(nion_sim)/float(len(nion_sim))\n",
    "            weights_C = np.ones_like(concentration_sim)/float(len(concentration_sim))\n",
    "            if show_hist :\n",
    "                ax[0].hist(lengths_sim/np.average(lengths_sim), bins=new_bins, label=t_sim_L, alpha=0.1, weights=weights_L)\n",
    "                ax[1].hist(nion_sim/np.average(nion_sim), bins=new_bins, label=t_sim_N, alpha=0.1, weights=weights_N)\n",
    "                #ax[1].hist(concentration_sim/np.average(concentration_sim), bins=new_bins, label=t_sim_N, alpha=0.1, weights=weights_C)\n",
    "            ax[2].plot(Nt[k][:, 0], Nt[k][:, 1])\n",
    "            \n",
    "            # print the current state on the log-log plot of N(t)\n",
    "            s = np.argmin(np.abs(Nt[k][:,0]-t_sim_L))\n",
    "            ax[2].scatter(Nt[k][s, 0], Nt[k][s, 1])\n",
    "            \n",
    "        #except :\n",
    "        #    pass\n",
    "        \n",
    "    new_L = np.concatenate([L[n] for n in range(len(L))])\n",
    "    new_N = np.concatenate([N[n] for n in range(len(N))])\n",
    "    new_C = np.concatenate([C[n] for n in range(len(C))])\n",
    "    \n",
    "    weights_L = np.ones_like(new_L)/float(len(new_L))\n",
    "    weights_N = np.ones_like(new_N)/float(len(new_N))\n",
    "    weights_C = np.ones_like(new_C)/float(len(new_C))\n",
    "    \n",
    "    y_L, x_L = np.histogram(new_L, bins=new_bins, weights=weights_L)\n",
    "    y_N, x_N = np.histogram(new_N, bins=new_bins, weights=weights_N)\n",
    "    y_C, x_C = np.histogram(new_C, bins=new_bins, weights=weights_C)\n",
    "    \n",
    "    new_x_L = 0.5*(x_L[1:]+x_L[:-1])\n",
    "    new_x_N = 0.5*(x_N[1:]+x_N[:-1])\n",
    "    new_x_C = 0.5*(x_C[1:]+x_C[:-1])\n",
    "    \n",
    "    ax[0].plot(new_x_L/np.average(new_L), y_L, color = 'k')\n",
    "    ax[1].plot(new_x_N/np.average(new_N), y_N, color = 'k')\n",
    "    #ax[1].plot(new_x_C/np.average(new_C), y_C, color = 'k')\n",
    "    \n",
    "    if rescaled :\n",
    "        ax[0].set_xlabel(r'$L/\\bar{L}$', fontsize=12)\n",
    "        ax[1].set_xlabel(r'$N/\\bar{N}$', fontsize=12)\n",
    "        #ax[1].set_xlabel(r'$\\delta C/c_0$', fontsize=12)\n",
    "    else :\n",
    "        ax[0].set_xlabel(r'$L$', fontsize=12)\n",
    "        ax[1].set_xlabel(r'$N$', fontsize=12)\n",
    "        #ax[1].set_xlabel(r'$\\delta C$', fontsize=12)\n",
    "    ax[0].set_ylabel(r'$\\phi_L(t)/N(t)$', fontsize=12)\n",
    "    ax[1].set_ylabel(r'$\\phi_N(t)/N(t)$', fontsize=12)\n",
    "    #ax[1].set_ylabel(r'$\\phi_C(t)/N(t)$', fontsize=12)\n",
    "    \n",
    "    ax[2].set_xlabel(r'Time [s]', fontsize=12)\n",
    "    ax[2].set_ylabel(r'$N(t)$', fontsize=12)\n",
    "    \n",
    "    plt.suptitle('t = '+\"{:2.2e}\".format(time_plot_list[step]), fontsize=20)\n",
    "    if savefig :\n",
    "        plt.savefig(savename, format = extension)\n",
    "        plt.close()\n",
    "    else :\n",
    "        plt.show()\n",
    "        "
   ]
  },
  {
   "cell_type": "code",
   "execution_count": 109,
   "metadata": {},
   "outputs": [],
   "source": [
    "nsim = 20"
   ]
  },
  {
   "cell_type": "code",
   "execution_count": 110,
   "metadata": {},
   "outputs": [],
   "source": [
    "subdir = 'N1000/ell10/large_tau/chis5_chiv500'"
   ]
  },
  {
   "cell_type": "code",
   "execution_count": 111,
   "metadata": {},
   "outputs": [],
   "source": [
    "Nt_1000_osmotic = {}\n",
    "for k in range(nsim) :\n",
    "    Nt_1000_osmotic[k] = np.loadtxt(os.path.join(main_dir, subdir, 'run'+str(k).zfill(4), 'sim_nlum.dat'))\n",
    "    \n"
   ]
  },
  {
   "cell_type": "code",
   "execution_count": 112,
   "metadata": {},
   "outputs": [
    {
     "data": {
      "image/png": "[encoded data removed]",
      "text/plain": [
       "<Figure size 432x288 with 1 Axes>"
      ]
     },
     "metadata": {
      "needs_background": "light"
     },
     "output_type": "display_data"
    }
   ],
   "source": [
    "plt.xscale('log')\n",
    "plt.yscale('log')\n",
    "for k in range(nsim) :\n",
    "    plt.plot(Nt_1000_osmotic[k][:, 0], Nt_1000_osmotic[k][:, 1], linewidth=0, marker='+')"
   ]
  },
  {
   "cell_type": "code",
   "execution_count": 113,
   "metadata": {},
   "outputs": [],
   "source": [
    "npts = 101\n",
    "nsim = 20\n",
    "folder = os.path.join(main_dir, subdir)\n",
    "\n",
    "T_dict, time_plot_list = make_T_dict(folder = folder, npts=npts, nsim=nsim, log_tmin=-7, log_tmax=-1)\n",
    "step_dict = make_step_dict(T_dict, time_plot_list, npts, nsim)"
   ]
  },
  {
   "cell_type": "code",
   "execution_count": 95,
   "metadata": {
    "scrolled": false
   },
   "outputs": [
    {
     "data": {
      "image/png": "[encoded data removed]",
      "text/plain": [
       "<Figure size 1080x360 with 3 Axes>"
      ]
     },
     "metadata": {
      "needs_background": "light"
     },
     "output_type": "display_data"
    }
   ],
   "source": [
    "step=35\n",
    "show_hist = True\n",
    "\n",
    "n=0\n",
    "folder = os.path.join(main_dir, subdir)\n",
    "savename = os.path.join(folder, 'pic'+str(n).zfill(4)+'.png')\n",
    "plot_distrib(step=step, nsim=nsim, folder=folder, T_dict=T_dict, time_plot_list=time_plot_list, step_dict=step_dict, Nt=Nt_1000_osmotic, show_hist=show_hist, savefig=False, savename=savename, rescaled=True)\n",
    "\n"
   ]
  },
  {
   "cell_type": "code",
   "execution_count": null,
   "metadata": {},
   "outputs": [],
   "source": [
    "t = 10\n",
    "\n",
    "L = (L1, L2, ....)"
   ]
  },
  {
   "cell_type": "code",
   "execution_count": null,
   "metadata": {},
   "outputs": [],
   "source": []
  },
  {
   "cell_type": "code",
   "execution_count": 116,
   "metadata": {},
   "outputs": [],
   "source": [
    "make_movie=True\n",
    "\n",
    "if make_movie :\n",
    "    for n in range(npts) :\n",
    "        step=n\n",
    "\n",
    "        show_hist = True\n",
    "        folder = os.path.join(main_dir, subdir)\n",
    "        folder2 = '/Users/mathieuleverge/Documents/cavidoc/hydroosmotic/distributions/chis5_chiv500/'\n",
    "        savename = os.path.join(folder2, 'pic'+str(n).zfill(4)+'.png')\n",
    "        plot_distrib(step=step, nsim=nsim, folder=folder, T_dict=T_dict, time_plot_list=time_plot_list, step_dict=step_dict, Nt=Nt_1000_osmotic, show_hist=show_hist, savefig=True, savename=savename, rescaled=True)\n",
    "\n",
    "        "
   ]
  },
  {
   "cell_type": "code",
   "execution_count": null,
   "metadata": {},
   "outputs": [],
   "source": [
    "\n"
   ]
  },
  {
   "cell_type": "code",
   "execution_count": 19,
   "metadata": {},
   "outputs": [],
   "source": [
    "chis = 5\n",
    "chiv = 500\n",
    "Nt_new = {}\n",
    "Nt_new[(chis, chiv)] = {}\n",
    "for i in range(20) :\n",
    "    Nt_new[(chis, chiv)][i] = np.loadtxt(os.path.join(main_dir, 'N1000/ell10', 'chiv'+str(chiv)+'_chis'+str(chis), 'sim_nlum'+str(i).zfill(4)+'.dat'))\n",
    "#plt.plot(Nt_list_N1000[(chis, chiv)][])\n"
   ]
  },
  {
   "cell_type": "code",
   "execution_count": 30,
   "metadata": {},
   "outputs": [
    {
     "data": {
      "image/png": "[encoded data removed]",
      "text/plain": [
       "<Figure size 432x288 with 1 Axes>"
      ]
     },
     "metadata": {
      "needs_background": "light"
     },
     "output_type": "display_data"
    }
   ],
   "source": [
    "plt.xscale('log')\n",
    "plt.yscale('log')\n",
    "for i in range(20):\n",
    "    if i == 1 : \n",
    "        plt.plot(Nt_list_N1000[(chis, chiv)][i][:, 0], Nt_list_N1000[(chis, chiv)][i][:, 1], color='r', label=\"Old, wrong\")\n",
    "        plt.plot(Nt_new[(chis, chiv)][i][:, 0], Nt_new[(chis, chiv)][i][:, 1], color='k', zorder=2, label=\"New\")\n",
    "    else :\n",
    "        plt.plot(Nt_list_N1000[(chis, chiv)][i][:, 0], Nt_list_N1000[(chis, chiv)][i][:, 1], color='r')\n",
    "        plt.plot(Nt_new[(chis, chiv)][i][:, 0], Nt_new[(chis, chiv)][i][:, 1], color='k', zorder=2)\n",
    "    \n",
    "plt.xlabel('Time', fontsize=12)\n",
    "plt.ylabel('Number of lumens', fontsize=12)\n",
    "plt.legend(fontsize=12, loc=3)\n",
    "plt.show()"
   ]
  },
  {
   "cell_type": "code",
   "execution_count": null,
   "metadata": {},
   "outputs": [],
   "source": []
  },
  {
   "cell_type": "code",
   "execution_count": null,
   "metadata": {},
   "outputs": [],
   "source": []
  },
  {
   "cell_type": "code",
   "execution_count": null,
   "metadata": {},
   "outputs": [],
   "source": []
  },
  {
   "cell_type": "code",
   "execution_count": null,
   "metadata": {},
   "outputs": [],
   "source": []
  }
 ],
 "metadata": {
  "kernelspec": {
   "display_name": "Python 3",
   "language": "python",
   "name": "python3"
  },
  "language_info": {
   "codemirror_mode": {
    "name": "ipython",
    "version": 3
   },
   "file_extension": ".py",
   "mimetype": "text/x-python",
   "name": "python",
   "nbconvert_exporter": "python",
   "pygments_lexer": "ipython3",
   "version": "3.7.4"
  }
 },
 "nbformat": 4,
 "nbformat_minor": 2
}
