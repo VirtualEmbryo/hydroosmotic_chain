{
 "cells": [
  {
   "cell_type": "code",
   "execution_count": 1,
   "metadata": {},
   "outputs": [],
   "source": [
    "import numpy as np\n",
    "import matplotlib.pyplot as plt\n",
    "\n",
    "import os\n",
    "import sys\n",
    "\n",
    "module_path = os.path.abspath(os.path.join('..'))\n",
    "\n",
    "if module_path not in sys.path :\n",
    "    sys.path.append(module_path)\n",
    "\n",
    "    \n",
    "import _ressources.chain as chain\n",
    "import _ressources.tools as tools\n",
    "import _ressources.lumenclass as lc\n",
    "import _ressources.configreader as configreader\n",
    "import _ressources.analysis_tools.analysis as an\n",
    "\n",
    "#main_dir = '/Users/mathieuleverge/git/chain_lumen/_data/hydrosmotic_hydraulic/versus/N1000_hydraulic/'\n",
    "main_dir = '/Users/mathieuleverge/git/chain_lumen/_data/'\n",
    "\n",
    "mu = (np.sin(np.pi/3.))**2 / (2*np.pi/3. - np.sin(2*np.pi/3.))\n",
    "nu = np.pi/3. / np.sin(np.pi/3.)\n"
   ]
  },
  {
   "cell_type": "code",
   "execution_count": 124,
   "metadata": {},
   "outputs": [],
   "source": [
    "def fractal_lengths(J, ell=1.) :\n",
    "    N = np.sum([2**j for j in range(J)])\n",
    "    lengths = ell*np.ones(N)\n",
    "\n",
    "    for k in range(J) :\n",
    "        M = 2**(J-1-k)\n",
    "        L = []\n",
    "        for m in range(M) :\n",
    "            L += [int(N/2**(J-k) + m*2**(k+1))]\n",
    "        lengths[L] = ell / (2**(J-k-1))\n",
    "        k += 1\n",
    "    return lengths, N\n",
    "\n",
    "def fractal_sizes(J, uniform = True) :\n",
    "    N = np.sum([2**j for j in range(J)])\n",
    "    sizes = np.ones(N+3)\n",
    "    sizes[0], sizes[-1] = 0., 0.\n",
    "    return sizes\n",
    "\n",
    "def fractal_positions(J, ell, uniform=True) :\n",
    "    bridge_lengths, N = fractal_lengths(J, ell)\n",
    "    lumen_pos = np.zeros(N+2)\n",
    "    lumen_sizes = fractal_sizes(J, uniform)\n",
    "    \n",
    "    print(lumen_pos)\n",
    "    print(np.cumsum(bridge_lengths))\n",
    "    "
   ]
  },
  {
   "cell_type": "code",
   "execution_count": 125,
   "metadata": {},
   "outputs": [],
   "source": [
    "J = 2\n",
    "ell = 1.\n"
   ]
  },
  {
   "cell_type": "code",
   "execution_count": 126,
   "metadata": {},
   "outputs": [],
   "source": [
    "bridge_lengths, N = fractal_lengths(J, ell)\n",
    "lumen_pos = np.zeros(N+2)\n",
    "lumen_sizes = fractal_sizes(J, uniform=True)"
   ]
  },
  {
   "cell_type": "code",
   "execution_count": 136,
   "metadata": {},
   "outputs": [],
   "source": [
    "lp = [0.]\n",
    "Ltot = ell\n",
    "\n",
    "for n in range(N) :\n",
    "    Ltot += bridge_lengths[n] + 0.5*lumen_sizes[n+1]\n",
    "    lp += [Ltot]\n",
    "    Ltot += 0.5*lumen_sizes[n]\n",
    "    \n",
    "Ltot += ell\n",
    "lp += [Ltot]"
   ]
  },
  {
   "cell_type": "code",
   "execution_count": 137,
   "metadata": {},
   "outputs": [
    {
     "data": {
      "text/plain": [
       "array([0.5, 1. , 0.5])"
      ]
     },
     "execution_count": 137,
     "metadata": {},
     "output_type": "execute_result"
    }
   ],
   "source": [
    "bridge_lengths"
   ]
  },
  {
   "cell_type": "code",
   "execution_count": 138,
   "metadata": {},
   "outputs": [
    {
     "data": {
      "text/plain": [
       "[0.0, 2.0, 3.5, 5.0, 6.5]"
      ]
     },
     "execution_count": 138,
     "metadata": {},
     "output_type": "execute_result"
    }
   ],
   "source": [
    "lp"
   ]
  },
  {
   "cell_type": "code",
   "execution_count": 135,
   "metadata": {},
   "outputs": [
    {
     "data": {
      "text/plain": [
       "(array([0., 1., 1., 1., 1., 0.]), array([0.5, 1. , 0.5]))"
      ]
     },
     "execution_count": 135,
     "metadata": {},
     "output_type": "execute_result"
    }
   ],
   "source": [
    "lumen_sizes, bridge_lengths"
   ]
  },
  {
   "cell_type": "code",
   "execution_count": null,
   "metadata": {},
   "outputs": [],
   "source": []
  }
 ],
 "metadata": {
  "kernelspec": {
   "display_name": "Python 3",
   "language": "python",
   "name": "python3"
  },
  "language_info": {
   "codemirror_mode": {
    "name": "ipython",
    "version": 3
   },
   "file_extension": ".py",
   "mimetype": "text/x-python",
   "name": "python",
   "nbconvert_exporter": "python",
   "pygments_lexer": "ipython3",
   "version": "3.8.5"
  }
 },
 "nbformat": 4,
 "nbformat_minor": 2
}
