{
 "cells": [
  {
   "cell_type": "code",
   "execution_count": 1,
   "metadata": {},
   "outputs": [],
   "source": [
    "import numpy as np\n",
    "import matplotlib.pyplot as plt\n",
    "\n",
    "import os\n",
    "import sys\n",
    "\n",
    "module_path = os.path.abspath(os.path.join('..'))\n",
    "\n",
    "if module_path not in sys.path :\n",
    "    sys.path.append(module_path)\n",
    "\n",
    "    \n",
    "import _ressources.chain as chain\n",
    "import _ressources.tools as tools\n",
    "import _ressources.lumenclass as lc\n",
    "import _ressources.configreader as configreader\n",
    "import _ressources.analysis_tools.analysis as an\n",
    "\n",
    "#main_dir = '/Users/mathieuleverge/git/chain_lumen/_data/hydrosmotic_hydraulic/versus/N1000_hydraulic/'\n",
    "main_dir = '/Users/mathieuleverge/git/chain_lumen/_data/'\n",
    "\n",
    "mu = (np.sin(np.pi/3.))**2 / (2*np.pi/3. - np.sin(2*np.pi/3.))\n",
    "nu = np.pi/3. / np.sin(np.pi/3.)\n"
   ]
  },
  {
   "cell_type": "code",
   "execution_count": 2,
   "metadata": {},
   "outputs": [],
   "source": [
    "eps = 1e-3\n",
    "mu = 0.6105653703843762\n",
    "tauv = 1."
   ]
  },
  {
   "cell_type": "code",
   "execution_count": 69,
   "metadata": {},
   "outputs": [],
   "source": [
    "def calc_T(ell0, chiv, A0, N0=100, tauv=1.) :\n",
    "    global eps, mu\n",
    "    L0 = np.sqrt(A0*mu)\n",
    "    xiv = chiv*ell0\n",
    "    Ltot = 2*L0+ell0\n",
    "    #return (2*tauv* (Ltot/N0)**2)/(mu*eps*xiv**2) \n",
    "    print(tauv)\n",
    "    return (2*tauv*ell0*L0)/(mu*eps*xiv**2)"
   ]
  },
  {
   "cell_type": "code",
   "execution_count": 80,
   "metadata": {},
   "outputs": [],
   "source": [
    "d = '/Users/mathieuleverge/git/chain_lumen/_data/100lumens/'\n",
    "nt1 = np.loadtxt(os.path.join(d, 'chiv500_A1_ell1', 'sim_nlum.dat'))\n",
    "nt1_bis = np.loadtxt(os.path.join(d, 'chiv500_A1_ell1_bis', 'sim_nlum.dat'))\n",
    "\n",
    "nt2 = np.loadtxt(os.path.join(d, 'chiv500_A1_ell10', 'sim_nlum.dat'))\n",
    "nt2_bis = np.loadtxt(os.path.join(d, 'chiv500_A1_ell10_bis', 'sim_nlum.dat'))\n",
    "\n",
    "nt3 = np.loadtxt(os.path.join(d, 'chiv500_A10_ell1', 'sim_nlum.dat'))\n",
    "nt3_bis = np.loadtxt(os.path.join(d, 'chiv500_A10_ell1_bis', 'sim_nlum.dat'))\n",
    "\n",
    "nt4 = np.loadtxt(os.path.join(d, 'chiv500_A1_ell100', 'sim_nlum.dat'))\n",
    "#nt3_bis = np.loadtxt(os.path.join(d, 'chiv500_A10_ell1_bis', 'sim_nlum.dat'))\n"
   ]
  },
  {
   "cell_type": "code",
   "execution_count": 81,
   "metadata": {},
   "outputs": [
    {
     "name": "stdout",
     "output_type": "stream",
     "text": [
      "1.0\n",
      "1.0\n",
      "0.03\n",
      "1.0\n"
     ]
    },
    {
     "data": {
      "text/plain": [
       "<matplotlib.legend.Legend at 0x11eec2b20>"
      ]
     },
     "execution_count": 81,
     "metadata": {},
     "output_type": "execute_result"
    },
    {
     "data": {
      "image/png": "[encoded data removed]",
      "text/plain": [
       "<Figure size 576x576 with 1 Axes>"
      ]
     },
     "metadata": {
      "needs_background": "light"
     },
     "output_type": "display_data"
    }
   ],
   "source": [
    "plt.figure(figsize=(8, 8))\n",
    "plt.xscale('log')\n",
    "plt.yscale('log')\n",
    "\n",
    "ell, A0 = 1, 1\n",
    "plt.plot(nt1[:, 0]/calc_T(ell0=ell, chiv=500, A0=A0), nt1[:, 1], label = 'Resc 1')\n",
    "#plt.plot(nt1_bis[:, 0]/calc_T(ell0=ell, chiv=500, A0=A0), nt1_bis[:, 1], label = 'NR 1')\n",
    "\n",
    "ell, A0 = 10, 1\n",
    "plt.plot(nt2[:, 0]/calc_T(ell0=ell, chiv=500, A0=A0), nt2[:, 1], label = 'Resc 2')\n",
    "#plt.plot(nt2_bis[:, 0]/calc_T(ell0=ell, chiv=500, A0=A0), nt2_bis[:, 1], label = 'NR 2')\n",
    "\n",
    "ell, A0 = 1, 10.\n",
    "plt.plot(nt3[:, 0]/calc_T(ell0=ell, chiv=500, A0=A0, tauv=1.), nt3[:, 1], label = 'Resc 3')\n",
    "#plt.plot(nt3_bis[:, 0]/calc_T(ell0=ell, chiv=500, A0=A0), nt3_bis[:, 1], label = 'NR 3')\n",
    "\n",
    "ell, A0 = 100, 1\n",
    "plt.plot(nt4[:, 0]/calc_T(ell0=ell, chiv=500, A0=A0), nt4[:, 1], label = 'Resc 4')\n",
    "#plt.plot(nt2_bis[:, 0]/calc_T(ell0=ell, chiv=500, A0=A0), nt2_bis[:, 1], label = 'NR 2')\n",
    "\n",
    "plt.grid()\n",
    "plt.legend()"
   ]
  },
  {
   "cell_type": "code",
   "execution_count": null,
   "metadata": {},
   "outputs": [],
   "source": []
  },
  {
   "cell_type": "code",
   "execution_count": 140,
   "metadata": {},
   "outputs": [
    {
     "ename": "NameError",
     "evalue": "name 'nt4' is not defined",
     "output_type": "error",
     "traceback": [
      "\u001b[0;31m---------------------------------------------------------------------------\u001b[0m",
      "\u001b[0;31mNameError\u001b[0m                                 Traceback (most recent call last)",
      "\u001b[0;32m<ipython-input-140-02cfbae85a28>\u001b[0m in \u001b[0;36m<module>\u001b[0;34m\u001b[0m\n\u001b[1;32m     17\u001b[0m \u001b[0mA0\u001b[0m\u001b[0;34m=\u001b[0m\u001b[0;36m5\u001b[0m\u001b[0;34m\u001b[0m\u001b[0;34m\u001b[0m\u001b[0m\n\u001b[1;32m     18\u001b[0m \u001b[0mT\u001b[0m \u001b[0;34m=\u001b[0m \u001b[0mcalc_T\u001b[0m\u001b[0;34m(\u001b[0m\u001b[0mell0\u001b[0m\u001b[0;34m=\u001b[0m\u001b[0;36m10\u001b[0m\u001b[0;34m,\u001b[0m \u001b[0mchiv\u001b[0m\u001b[0;34m=\u001b[0m\u001b[0;36m500\u001b[0m\u001b[0;34m,\u001b[0m \u001b[0mA0\u001b[0m\u001b[0;34m=\u001b[0m\u001b[0mA0\u001b[0m\u001b[0;34m)\u001b[0m\u001b[0;34m\u001b[0m\u001b[0;34m\u001b[0m\u001b[0m\n\u001b[0;32m---> 19\u001b[0;31m \u001b[0mplt\u001b[0m\u001b[0;34m.\u001b[0m\u001b[0mplot\u001b[0m\u001b[0;34m(\u001b[0m\u001b[0mnt4\u001b[0m\u001b[0;34m[\u001b[0m\u001b[0;34m:\u001b[0m\u001b[0;34m,\u001b[0m \u001b[0;36m0\u001b[0m\u001b[0;34m]\u001b[0m\u001b[0;34m/\u001b[0m\u001b[0mT\u001b[0m\u001b[0;34m,\u001b[0m \u001b[0mnt4\u001b[0m\u001b[0;34m[\u001b[0m\u001b[0;34m:\u001b[0m\u001b[0;34m,\u001b[0m \u001b[0;36m1\u001b[0m\u001b[0;34m]\u001b[0m\u001b[0;34m,\u001b[0m \u001b[0mlabel\u001b[0m \u001b[0;34m=\u001b[0m \u001b[0;34mr'$L_0$ = '\u001b[0m\u001b[0;34m+\u001b[0m\u001b[0mstr\u001b[0m\u001b[0;34m(\u001b[0m\u001b[0mnp\u001b[0m\u001b[0;34m.\u001b[0m\u001b[0msqrt\u001b[0m\u001b[0;34m(\u001b[0m\u001b[0mA0\u001b[0m\u001b[0;34m*\u001b[0m\u001b[0mmu\u001b[0m\u001b[0;34m)\u001b[0m\u001b[0;34m)\u001b[0m\u001b[0;34m+\u001b[0m \u001b[0;34mr', $\\ell_0$='\u001b[0m\u001b[0;34m+\u001b[0m\u001b[0mstr\u001b[0m\u001b[0;34m(\u001b[0m\u001b[0mell\u001b[0m\u001b[0;34m)\u001b[0m\u001b[0;34m)\u001b[0m\u001b[0;34m\u001b[0m\u001b[0;34m\u001b[0m\u001b[0m\n\u001b[0m\u001b[1;32m     20\u001b[0m \u001b[0;34m\u001b[0m\u001b[0m\n\u001b[1;32m     21\u001b[0m \u001b[0mell\u001b[0m\u001b[0;34m=\u001b[0m\u001b[0;36m1\u001b[0m\u001b[0;34m\u001b[0m\u001b[0;34m\u001b[0m\u001b[0m\n",
      "\u001b[0;31mNameError\u001b[0m: name 'nt4' is not defined"
     ]
    },
    {
     "data": {
      "image/png": "[encoded data removed]",
      "text/plain": [
       "<Figure size 576x576 with 1 Axes>"
      ]
     },
     "metadata": {
      "needs_background": "light"
     },
     "output_type": "display_data"
    }
   ],
   "source": [
    "plt.figure(figsize=(8, 8))\n",
    "plt.xscale('log')\n",
    "plt.yscale('log')\n",
    "#plt.plot(nt1[:, 0], nt1[:, 1], label='\\chi')\n",
    "\n",
    "ell=10\n",
    "A0=1\n",
    "T = calc_T(ell0=ell, chiv=500, A0=A0)\n",
    "plt.plot(nt2[:, 0]/T, nt2[:, 1], label = r'$L_0$ = '+str(np.sqrt(A0*mu))+ r', $\\ell_0$='+str(ell))\n",
    "\n",
    "ell=10\n",
    "A0=2\n",
    "T = calc_T(ell0=10, chiv=500, A0=A0)\n",
    "plt.plot(nt3[:, 0]/T, nt3[:, 1], label = r'$L_0$ = '+str(np.sqrt(A0*mu))+ r', $\\ell_0$='+str(ell))\n",
    "\n",
    "ell=10\n",
    "A0=5\n",
    "T = calc_T(ell0=10, chiv=500, A0=A0)\n",
    "plt.plot(nt4[:, 0]/T, nt4[:, 1], label = r'$L_0$ = '+str(np.sqrt(A0*mu))+ r', $\\ell_0$='+str(ell))\n",
    "\n",
    "ell=1\n",
    "A0=5\n",
    "T = calc_T(ell0=1, chiv=500, A0=A0)\n",
    "plt.plot(nt5[:, 0]/T, nt5[:, 1], label = r'$L_0$ = '+str(np.sqrt(A0*mu))+ r', $\\ell_0$='+str(ell))\n",
    "\n",
    "ell=2\n",
    "A0=5\n",
    "T = calc_T(ell0=2, chiv=500, A0=A0)\n",
    "plt.plot(nt6[:, 0]/T, nt6[:, 1], label = r'$L_0$ = '+str(np.sqrt(A0*mu))+ r', $\\ell_0$='+str(ell))\n",
    "\n",
    "plt.xlabel(r'$t \\times \\frac{\\mu \\epsilon \\xi_v^2}{2 \\tau_v \\ell_0 L_0^2}$', fontsize=25)\n",
    "\n",
    "plt.legend(fontsize=15)\n",
    "plt.show()"
   ]
  },
  {
   "cell_type": "code",
   "execution_count": null,
   "metadata": {},
   "outputs": [],
   "source": [
    "conf, ch = chain.load_config(os.path.join('/Users/mathieuleverge/git/chain_lumen/_data/tests_1/', 'config.conf'))"
   ]
  },
  {
   "cell_type": "code",
   "execution_count": 100,
   "metadata": {},
   "outputs": [],
   "source": [
    "lt = np.loadtxt('/Users/mathieuleverge/git/chain_lumen/_data/osmotic/N1000/ell10/chiv500_chis1/run0000/distrib_length.dat', usecols=0)\n",
    "dat = np.genfromtxt('/Users/mathieuleverge/git/chain_lumen/_data/osmotic/N1000/ell10/chiv500_chis1/run0000/distrib_length.dat', skip_footer=len(lt)-1)[1:]\n"
   ]
  },
  {
   "cell_type": "code",
   "execution_count": 101,
   "metadata": {
    "scrolled": true
   },
   "outputs": [
    {
     "data": {
      "text/plain": [
       "(array([  2.,  10.,  38.,  82., 169., 229., 245., 153.,  63.,   9.]),\n",
       " array([0.4827522 , 0.53273106, 0.58270991, 0.63268876, 0.68266762,\n",
       "        0.73264647, 0.78262533, 0.83260418, 0.88258304, 0.93256189,\n",
       "        0.98254075]),\n",
       " <BarContainer object of 10 artists>)"
      ]
     },
     "execution_count": 101,
     "metadata": {},
     "output_type": "execute_result"
    },
    {
     "data": {
      "image/png": "[encoded data removed]",
      "text/plain": [
       "<Figure size 432x288 with 1 Axes>"
      ]
     },
     "metadata": {
      "needs_background": "light"
     },
     "output_type": "display_data"
    }
   ],
   "source": [
    "plt.hist(dat)"
   ]
  },
  {
   "cell_type": "code",
   "execution_count": 82,
   "metadata": {},
   "outputs": [],
   "source": [
    "L = []\n",
    "for i in ch.lumens_dict.keys() :\n",
    "    L += [ch.lumens_dict[i].length]\n",
    "    \n",
    "L = np.array(L)"
   ]
  },
  {
   "cell_type": "code",
   "execution_count": 83,
   "metadata": {},
   "outputs": [
    {
     "data": {
      "text/plain": [
       "0.7696591749461874"
      ]
     },
     "execution_count": 83,
     "metadata": {},
     "output_type": "execute_result"
    }
   ],
   "source": [
    "np.nanmean(L)"
   ]
  },
  {
   "cell_type": "code",
   "execution_count": 84,
   "metadata": {},
   "outputs": [
    {
     "data": {
      "text/plain": [
       "(array([  8.,   3.,  12.,  22.,  35.,  41.,  78., 133., 165., 226., 257.,\n",
       "        334., 345., 442., 415., 428., 396., 390., 348., 269., 208., 171.,\n",
       "        105.,  79.,  36.,  20.,  17.,   7.,   5.,   6.]),\n",
       " array([0.        , 0.04078183, 0.08156365, 0.12234548, 0.1631273 ,\n",
       "        0.20390913, 0.24469095, 0.28547278, 0.32625461, 0.36703643,\n",
       "        0.40781826, 0.44860008, 0.48938191, 0.53016373, 0.57094556,\n",
       "        0.61172738, 0.65250921, 0.69329104, 0.73407286, 0.77485469,\n",
       "        0.81563651, 0.85641834, 0.89720016, 0.93798199, 0.97876382,\n",
       "        1.01954564, 1.06032747, 1.10110929, 1.14189112, 1.18267294,\n",
       "        1.22345477]),\n",
       " <BarContainer object of 30 artists>)"
      ]
     },
     "execution_count": 84,
     "metadata": {},
     "output_type": "execute_result"
    },
    {
     "data": {
      "image/png": "[encoded data removed]",
      "text/plain": [
       "<Figure size 432x288 with 1 Axes>"
      ]
     },
     "metadata": {
      "needs_background": "light"
     },
     "output_type": "display_data"
    }
   ],
   "source": [
    "plt.hist(L**2, bins=30)"
   ]
  },
  {
   "cell_type": "code",
   "execution_count": 90,
   "metadata": {},
   "outputs": [
    {
     "data": {
      "text/plain": [
       "11562.773650128996"
      ]
     },
     "execution_count": 90,
     "metadata": {},
     "output_type": "execute_result"
    }
   ],
   "source": [
    "(2*np.sqrt(mu)+10.)*1000"
   ]
  },
  {
   "cell_type": "code",
   "execution_count": null,
   "metadata": {},
   "outputs": [],
   "source": []
  },
  {
   "cell_type": "code",
   "execution_count": 143,
   "metadata": {},
   "outputs": [
    {
     "data": {
      "text/plain": [
       "[<matplotlib.lines.Line2D at 0x11e626100>]"
      ]
     },
     "execution_count": 143,
     "metadata": {},
     "output_type": "execute_result"
    },
    {
     "data": {
      "image/png": "[encoded data removed]",
      "text/plain": [
       "<Figure size 432x288 with 1 Axes>"
      ]
     },
     "metadata": {
      "needs_background": "light"
     },
     "output_type": "display_data"
    }
   ],
   "source": [
    "Nt = np.loadtxt('/Users/mathieuleverge/git/chain_lumen/_data/videos/30lumens_pumping/sim_nlum.dat')\n",
    "\n",
    "plt.xscale('log')\n",
    "plt.yscale('log')\n",
    "plt.plot(Nt[:, 0], Nt[:, 1])\n",
    "\n",
    "k, a = 3, -1.\n",
    "t = np.logspace(-1, 0, 101)\n",
    "plt.plot(t, k*t**a)\n",
    "\n",
    "k, a = 3, -2/5.\n",
    "t = np.logspace(-1, 0, 101)\n",
    "plt.plot(t, k*t**a)"
   ]
  },
  {
   "cell_type": "code",
   "execution_count": 141,
   "metadata": {},
   "outputs": [
    {
     "data": {
      "text/plain": [
       "(0.6772357091035655, 0.36867391680169237)"
      ]
     },
     "execution_count": 141,
     "metadata": {},
     "output_type": "execute_result"
    }
   ],
   "source": [
    "1./(nu*mu*2.), 2/(mu*eps*94.26005895266742**2)\n"
   ]
  },
  {
   "cell_type": "code",
   "execution_count": 147,
   "metadata": {},
   "outputs": [
    {
     "data": {
      "text/plain": [
       "0.6105653703843762"
      ]
     },
     "execution_count": 147,
     "metadata": {},
     "output_type": "execute_result"
    }
   ],
   "source": [
    "mu"
   ]
  },
  {
   "cell_type": "code",
   "execution_count": null,
   "metadata": {},
   "outputs": [],
   "source": []
  }
 ],
 "metadata": {
  "kernelspec": {
   "display_name": "Python 3",
   "language": "python",
   "name": "python3"
  },
  "language_info": {
   "codemirror_mode": {
    "name": "ipython",
    "version": 3
   },
   "file_extension": ".py",
   "mimetype": "text/x-python",
   "name": "python",
   "nbconvert_exporter": "python",
   "pygments_lexer": "ipython3",
   "version": "3.8.5"
  }
 },
 "nbformat": 4,
 "nbformat_minor": 2
}
