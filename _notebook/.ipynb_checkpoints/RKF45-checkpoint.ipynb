{
 "cells": [
  {
   "cell_type": "code",
   "execution_count": 1,
   "metadata": {},
   "outputs": [],
   "source": [
    "import numpy as np\n",
    "import matplotlib.pyplot as plt\n",
    "\n",
    "import scipy.integrate"
   ]
  },
  {
   "cell_type": "markdown",
   "metadata": {},
   "source": [
    "# Runge Kutta method\n",
    "\n",
    "Let be the o.d.e\n",
    "$$\\frac{d y(t)}{dt} = f(t, y(t))$$\n",
    "\n",
    "## RK45\n",
    "\n",
    "## RKF45\n",
    "### Scheme\n",
    "The step $y_{i+1}$ is calculated using six factors\n",
    "\n",
    "$$\\begin{cases}k_1 &= h f(t, y_i) \\\\\n",
    "k_2 &= h f(t + \\frac{1}{4}h, y_i + \\frac{1}{4}k_1) \\\\\n",
    "k_3 &= h f(t+\\frac{3}{8}h, y_i + \\frac{3}{32}k_1 + \\frac{9}{32} k_2) \\\\\n",
    "k_4 &= h f(t + \\frac{12}{13}h, y_i + \\frac{1932}{2197}k_1 - \\frac{7200}{2197}k_2 + \\frac{7296}{2196}k_3) \\\\\n",
    "k_5 &= h f(t+h, y_i + \\frac{439}{216}k_1 - 8k_2 \\frac{3680}{513}k_3 - \\frac{845}{4104}k_4) \\\\\n",
    "k_6 &= h f(t+\\frac{1}{2}h, y_i - \\frac{8}{27}k_1 + 2k_2 - \\frac{3544}{2565}k_3 + \\frac{1859}{4104}k_4 - \\frac{11}{40}k_5)\\end{cases}$$\n",
    "\n",
    "Thus,\n",
    "$$y_{i+1} = y_i + \\frac{25}{216}k_1 + \\frac{1408}{2565}k_3 + \\frac{2197}{4104}k_4 - \\frac{1}{5}k_5 $$\n",
    "\n",
    "### Adaptative time-step\n",
    "\n",
    "There exists another estimate of the next step $y_{i+1}$, that we will denote $z_{i+1}$ :\n",
    "$$z_{i+1} = y_i + \\frac{16}{135}k_1 + \\frac{6656}{12825}k_3 + \\frac{28561}{56430}k_4 - \\frac{9}{50}k_5 + \\frac{2}{55}k_6$$\n",
    "\n",
    "Therefore, we can define an error $\\epsilon$ as\n",
    "$$\\epsilon = |y_{i} - z_{i}|$$\n",
    "which allows us to calculate a new time step $h_{i+1}$ such that\n",
    "$$h_{i+1} = h_{i} S \\left( \\frac{\\tau}{\\epsilon}\\right)^{1/5}$$\n",
    "\n",
    "where $h_i$ is the previous time-step, $S$ is a security factor (usually $S=0.9$), $\\tau$ is the tolerance (usually $\\tau \\sim 10^{-6}$). Thus, if the error is higher than the tolerance, the time-step is reduced, otherwise it is increased."
   ]
  },
  {
   "cell_type": "code",
   "execution_count": null,
   "metadata": {},
   "outputs": [],
   "source": []
  },
  {
   "cell_type": "code",
   "execution_count": 2,
   "metadata": {},
   "outputs": [],
   "source": [
    "def f(t, y, min_y=1e-4) :\n",
    "    if y > min_y :\n",
    "        return np.sqrt(1./2.-y) - np.sqrt(1./y)\n",
    "    else : return None\n",
    "    #return -0.5*y\n",
    "    \n",
    "def fx(t, y, r=200., a=10.) :\n",
    "    return r*y*(a-y)\n",
    "\n",
    "def real_solution(t) :\n",
    "    return np.exp(-0.5*t)"
   ]
  },
  {
   "cell_type": "code",
   "execution_count": 3,
   "metadata": {},
   "outputs": [],
   "source": [
    "def euler(func, t0, y0, h) :\n",
    "    return t0+h, y0+ h*func(t0, y0)\n",
    "\n",
    "def rk45(func, t0, y0, h) :\n",
    "    try :\n",
    "        k1 = func(t0, y0)\n",
    "        k2 = func(t0 + 0.5*h, y0 + 0.5*h*k1)\n",
    "        k3 = func(t0 + 0.5*h, y0 + 0.5*h*k2)\n",
    "        k4 = func(t0 + h, y0 + h*k3)\n",
    "        return t0+h, y0 + h*(k1+2*k2+2*k3+k4) / 6.\n",
    "        \n",
    "    except : return None\n",
    "\n",
    "def calc_new_timestep(error, tolerance, secure=0.9, cst_tstep=False) :\n",
    "    if cst_tstep :\n",
    "        s = 1.\n",
    "    else :\n",
    "        if error > tolerance :\n",
    "            #s = secure*(tolerance / error)**(0.2)\n",
    "            ratio = (tolerance / (2.*error))**0.5\n",
    "            s = secure*min(2., max(0.3, ratio))\n",
    "        else :\n",
    "            #s = secure*(tolerance / error)**(0.25)\n",
    "            ratio = (tolerance / (2.*error))**0.5\n",
    "            s = secure*min(2., max(0.3, ratio))\n",
    "    return s\n",
    "    \n",
    "    \n",
    "def rkf45(func, t0, y0, h, tol) :\n",
    "    #if 1 :\n",
    "    try :\n",
    "        k1 = h*func(t0, y0)\n",
    "        k2 = h*func(t0 + 0.25*h, y0 + 0.25*k1)\n",
    "        k3 = h*func(t0 + (3./8.)*h, y0 + (3./32.)*k1 + (9./32.)*k2)\n",
    "        k4 = h*func(t0 + (12./13.)*h, y0 + (1932./2197.)*k1 - (7200./2197.)*k2 + (7296./2197.)*k3)\n",
    "        k5 = h*func(t0 + h, y0 + (439./216.)*k1 - 8.*k2 + (3680./513.)*k3 - (845./4104.)*k4)\n",
    "        k6 = h*func(t0 + 0.5*h, y0 - (8./27.)*k1 + 2*k2 - (3544./2565)*k3 + (1859./4104.)*k4 - (11./40.)*k5)\n",
    "        \n",
    "        new_y = y0 + (25./216.)*k1 + (1408./2565.)*k3 + (2197./4104.)*k4 - (1./5.)*k5\n",
    "        new_z = y0 + (16./135.)*k1 + (6656./12825.)*k3 + (28561./56430.)*k4 - (9./50.)*k5 + (2./55.)*k6\n",
    "        \n",
    "        s = calc_new_timestep(error = abs(new_z - new_y), tolerance=tol)\n",
    "        \n",
    "        return t0+h, new_y, s\n",
    "    except :\n",
    "        return None\n",
    "\n",
    "def integrate(func, y0, tspan, y_bounds=None, timestep=1e-1, method = 'rk45', tol = 1e-2, t0=0) :\n",
    "    nsteps = int((tspan[1] - tspan[0])/timestep)\n",
    "    \n",
    "    if method == 'euler' :\n",
    "        sol = [y0]\n",
    "        time = [t0]\n",
    "        for n in range(1, nsteps+1) :\n",
    "            try :\n",
    "                if y_bounds == None :\n",
    "                    t, s = euler(func, time[n-1], sol[n-1], timestep)\n",
    "                    time += [t]\n",
    "                    sol += [s]\n",
    "                else :\n",
    "                    if sol[n-1] >= min(y_bounds) and sol[n-1] <= max(y_bounds) :\n",
    "                        t, s = euler(func, time[n-1], sol[n-1], timestep)\n",
    "                        time += [t]\n",
    "                        sol += [s]\n",
    "                    else :\n",
    "                        print('Stop integration, bounds reached.')\n",
    "                        break ;\n",
    "            except :\n",
    "                break ;\n",
    "    if method == 'rk45' :\n",
    "        sol = [y0]\n",
    "        time = [t0]\n",
    "        for n in range(1, nsteps+1) :\n",
    "            try :\n",
    "                if y_bounds == None :\n",
    "                    t, s = rk45(func, time[n-1], sol[n-1], timestep)\n",
    "                    time += [t]\n",
    "                    sol += [s]\n",
    "                else :\n",
    "                    if sol[n-1] >= min(y_bounds) and sol[n-1] <= max(y_bounds) :\n",
    "                        t, s = euler(func, time[n-1], sol[n-1], timestep)\n",
    "                        time += [t]\n",
    "                        sol += [s]\n",
    "                    else :\n",
    "                        print('Stop integration, bounds reached.')\n",
    "                        break ;\n",
    "            except :\n",
    "                break ;\n",
    "    elif method == 'rkf45' :\n",
    "        t, s = tspan[0], y0\n",
    "        sol = [y0]\n",
    "        time = [t]\n",
    "        n = 1\n",
    "        while t < tspan[1] :\n",
    "            if sol[n-1] == None :\n",
    "                break ;\n",
    "            try :\n",
    "                t, s, o = rkf45(func, time[n-1], sol[n-1], timestep, tol)\n",
    "                time += [t]\n",
    "                sol += [s]\n",
    "                timestep *= o\n",
    "                n += 1\n",
    "            except :\n",
    "                break ;\n",
    "    return time, sol\n"
   ]
  },
  {
   "cell_type": "code",
   "execution_count": 4,
   "metadata": {
    "scrolled": true
   },
   "outputs": [
    {
     "name": "stdout",
     "output_type": "stream",
     "text": [
      "Euler\n",
      "301\n",
      "RK45\n",
      "301\n",
      "RKF45\n",
      "76\n"
     ]
    }
   ],
   "source": [
    "h = 0.0001\n",
    "y0 = 1e-5\n",
    "nsteps = 100\n",
    "\n",
    "tpsan = [0., 3e-2]\n",
    "print('Euler')\n",
    "t1, sol1 = integrate(fx, y0, tpsan, timestep=h, t0=0., method = 'euler')\n",
    "print(len(t1))\n",
    "print('RK45')\n",
    "t2, sol2 = integrate(fx, y0, tpsan, timestep=h, t0=0., method = 'rk45')\n",
    "print(len(t2))\n",
    "print('RKF45')\n",
    "t3, sol3 = integrate(fx, y0, tpsan, timestep=h, t0=0., tol = 1e-6, method='rkf45')\n",
    "print(len(t3))\n",
    "#sol = scipy.integrate.RK45(f, 0., [y0], t_bound=1., max_step=0.1)"
   ]
  },
  {
   "cell_type": "code",
   "execution_count": 5,
   "metadata": {},
   "outputs": [
    {
     "data": {
      "image/png": "[encoded data removed]",
      "text/plain": [
       "<Figure size 432x288 with 1 Axes>"
      ]
     },
     "metadata": {
      "needs_background": "light"
     },
     "output_type": "display_data"
    }
   ],
   "source": [
    "real_t = np.linspace(tpsan[0], tpsan[1])\n",
    "\n",
    "real_sol = np.tan(real_t)\n",
    "#plt.plot(real_t, real_sol, label = 'real', zorder=10, color='k')\n",
    "plt.plot(t1, sol1, label = 'Euler', marker='+', zorder=1)\n",
    "plt.plot(t2, sol2, label = 'RK45', marker='+', zorder=2, color = 'k')\n",
    "plt.plot(t3, sol3, label = 'RKF45', marker='o', alpha=1)\n",
    "\n",
    "#plt.xscale('log')\n",
    "#plt.yscale('log')\n",
    "plt.legend()\n",
    "plt.grid()\n",
    "plt.show() "
   ]
  },
  {
   "cell_type": "code",
   "execution_count": null,
   "metadata": {},
   "outputs": [],
   "source": []
  },
  {
   "cell_type": "code",
   "execution_count": null,
   "metadata": {},
   "outputs": [],
   "source": []
  },
  {
   "cell_type": "code",
   "execution_count": null,
   "metadata": {},
   "outputs": [],
   "source": []
  }
 ],
 "metadata": {
  "kernelspec": {
   "display_name": "Python 3",
   "language": "python",
   "name": "python3"
  },
  "language_info": {
   "codemirror_mode": {
    "name": "ipython",
    "version": 3
   },
   "file_extension": ".py",
   "mimetype": "text/x-python",
   "name": "python",
   "nbconvert_exporter": "python",
   "pygments_lexer": "ipython3",
   "version": "3.7.4"
  }
 },
 "nbformat": 4,
 "nbformat_minor": 2
}
